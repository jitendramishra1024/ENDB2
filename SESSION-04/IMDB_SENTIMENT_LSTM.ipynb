{
  "nbformat": 4,
  "nbformat_minor": 0,
  "metadata": {
    "colab": {
      "name": "IMDB_SENTIMENT_LSTM.ipynb",
      "provenance": [],
      "collapsed_sections": []
    },
    "kernelspec": {
      "name": "python3",
      "display_name": "Python 3"
    },
    "language_info": {
      "name": "python"
    },
    "accelerator": "GPU"
  },
  "cells": [
    {
      "cell_type": "code",
      "metadata": {
        "id": "CrZyEw-umkaX"
      },
      "source": [
        "##OBJECTIVE \n",
        "##SENTIMENT CLASSIFICATION  FOR IMDB USING LSTM\n"
      ],
      "execution_count": 11,
      "outputs": []
    },
    {
      "cell_type": "code",
      "metadata": {
        "id": "DTZ3uWB-mzrl"
      },
      "source": [
        "\n",
        "import torch\n",
        "from torchtext.legacy import data\n",
        "from torchtext.legacy import datasets\n",
        "import torch.nn as nn\n",
        "import torch.optim as optim\n",
        "from torchsummary import summary\n",
        "\n",
        "import random\n",
        "import time\n",
        "import sys"
      ],
      "execution_count": 12,
      "outputs": []
    },
    {
      "cell_type": "code",
      "metadata": {
        "id": "j6z2IJjym_0K"
      },
      "source": [
        "def get_GPU_CPU(seed_val = 1):\n",
        "    print('The Seed is set to {}'.format(seed_val))\n",
        "    if torch.cuda.is_available():\n",
        "        print('Model will Run on CUDA.')\n",
        "        torch.cuda.manual_seed(seed_val)\n",
        "        !nvidia-smi\n",
        "        device = 'cuda'\n",
        "    else:\n",
        "        torch.manual_seed(seed_val)\n",
        "        print ('Running in CPU')\n",
        "        device = 'cpu'\n",
        "    cuda = torch.cuda.is_available()\n",
        "    return cuda,seed_val,device"
      ],
      "execution_count": 13,
      "outputs": []
    },
    {
      "cell_type": "code",
      "metadata": {
        "colab": {
          "base_uri": "https://localhost:8080/"
        },
        "id": "yh5uEZ6KnQ40",
        "outputId": "506b6141-beec-4e24-a3f9-adf5443ec648"
      },
      "source": [
        "cuda,SEED,device = get_GPU_CPU(seed_val=1234)"
      ],
      "execution_count": 14,
      "outputs": [
        {
          "output_type": "stream",
          "text": [
            "The Seed is set to 1234\n",
            "Model will Run on CUDA.\n",
            "Thu May 27 17:10:48 2021       \n",
            "+-----------------------------------------------------------------------------+\n",
            "| NVIDIA-SMI 465.19.01    Driver Version: 460.32.03    CUDA Version: 11.2     |\n",
            "|-------------------------------+----------------------+----------------------+\n",
            "| GPU  Name        Persistence-M| Bus-Id        Disp.A | Volatile Uncorr. ECC |\n",
            "| Fan  Temp  Perf  Pwr:Usage/Cap|         Memory-Usage | GPU-Util  Compute M. |\n",
            "|                               |                      |               MIG M. |\n",
            "|===============================+======================+======================|\n",
            "|   0  Tesla T4            Off  | 00000000:00:04.0 Off |                    0 |\n",
            "| N/A   60C    P8    10W /  70W |      3MiB / 15109MiB |      0%      Default |\n",
            "|                               |                      |                  N/A |\n",
            "+-------------------------------+----------------------+----------------------+\n",
            "                                                                               \n",
            "+-----------------------------------------------------------------------------+\n",
            "| Processes:                                                                  |\n",
            "|  GPU   GI   CI        PID   Type   Process name                  GPU Memory |\n",
            "|        ID   ID                                                   Usage      |\n",
            "|=============================================================================|\n",
            "|  No running processes found                                                 |\n",
            "+-----------------------------------------------------------------------------+\n"
          ],
          "name": "stdout"
        }
      ]
    },
    {
      "cell_type": "code",
      "metadata": {
        "id": "4L4L6p49nVaz"
      },
      "source": [
        "# make your experiment reproducible, similar to set random seed to all options where there needs a random seed\n",
        "torch.backends.cudnn.deterministic = True"
      ],
      "execution_count": 15,
      "outputs": []
    },
    {
      "cell_type": "code",
      "metadata": {
        "id": "9EZ36ohn7eOv"
      },
      "source": [
        "##CHANGE 01 :\n",
        "#We'll be using packed padded sequences, which will make our RNN only process the non-padded elements of our sequence,\n",
        "# and for any padded element the output will be a zero tensor. To use packed padded sequences, we have to tell the RNN how long the actual sequences are.\n",
        "# We do this by setting include_lengths = True for our TEXT field. \n",
        "#This will cause batch.text to now be a tuple with the first element being our sentence (a numericalized tensor that has been padded) and the second element being the actual lengths of our sentences."
      ],
      "execution_count": 16,
      "outputs": []
    },
    {
      "cell_type": "code",
      "metadata": {
        "id": "uDRxCpNIoIYz"
      },
      "source": [
        "#here spacy is a tokenizer \n",
        "TEXT = data.Field(tokenize = 'spacy',\n",
        "                  tokenizer_language = 'en_core_web_sm',\n",
        "                  include_lengths = True)\n",
        "LABEL = data.LabelField(dtype = torch.float)\n",
        "\n"
      ],
      "execution_count": 17,
      "outputs": []
    },
    {
      "cell_type": "code",
      "metadata": {
        "id": "QVJCbX6ccvrE"
      },
      "source": [
        "#WHY FLOAT  FOR LABEL:\n",
        "# when initializing the LABEL field, we set dtype=torch.float. This is because TorchText sets tensors to be LongTensors by default,\n",
        "# however our criterion expects both inputs to be FloatTensors. Setting the dtype to be torch.float, did this for us.\n",
        "# The alternative method of doing this would be to do the conversion inside the train function by passing batch.label.float() \n",
        "#instad of batch.label to the criterion."
      ],
      "execution_count": 18,
      "outputs": []
    },
    {
      "cell_type": "code",
      "metadata": {
        "id": "3v4icOPSo7-a"
      },
      "source": [
        "#DOWNLOAD DATA  AND SPLIT DATA INTO TRAIN AND TEST\n",
        "import torch\n",
        "from torchtext.legacy import data\n",
        "from torchtext.legacy import datasets\n",
        "\n",
        "train_data, test_data = datasets.IMDB.splits(TEXT, LABEL)"
      ],
      "execution_count": 19,
      "outputs": []
    },
    {
      "cell_type": "code",
      "metadata": {
        "id": "PdVim25opCCO",
        "colab": {
          "base_uri": "https://localhost:8080/"
        },
        "outputId": "66aa0689-1110-41db-e3c6-4eab67d88bfd"
      },
      "source": [
        "#CHECK LENGTH OF TRAIN AND TEST DATA \n",
        "print(f'Number of training examples: {len(train_data)}')\n",
        "print(f'Number of testing examples: {len(test_data)}')"
      ],
      "execution_count": 20,
      "outputs": [
        {
          "output_type": "stream",
          "text": [
            "Number of training examples: 25000\n",
            "Number of testing examples: 25000\n"
          ],
          "name": "stdout"
        }
      ]
    },
    {
      "cell_type": "code",
      "metadata": {
        "id": "UcvcNs9RqxaF",
        "colab": {
          "base_uri": "https://localhost:8080/"
        },
        "outputId": "d5e2c507-f6f4-4791-dfd1-b35519c69c20"
      },
      "source": [
        "#SEE A SAMPLE DATA \n",
        "print(vars(train_data.examples[0]))\n",
        "#This will return a dictionary with key as \"text \" and \"labels\""
      ],
      "execution_count": 21,
      "outputs": [
        {
          "output_type": "stream",
          "text": [
            "{'text': ['Who', 'would', \"n't\", 'want', 'to', 'go', 'on', 'road', 'trip', 'with', 'Peter', 'Falk', '?', 'That', 'guy', \"'s\", 'right', 'eye', 'has', 'more', 'character', 'than', 'most', 'actors', 'today', '.', 'This', 'is', 'the', 'kind', 'of', 'funny', 'and', 'touching', 'movie', 'we', 'are', 'all', 'looking', 'for', 'as', 'a', 'counterbalance', 'to', 'all', 'the', 'bombastic', 'special', 'effects', 'bores', '.', 'Women', 'are', 'going', 'to', 'love', 'it', 'for', 'all', 'the', 'wake', '-', 'up', 'romance', 'advice', 'for', 'men', ',', 'and', 'men', 'will', 'love', 'it', 'for', 'its', 'spot', '-', 'on', 'father', '/', 'son', 'character', 'study', '--', 'one', 'great', 'little', 'scene', 'after', 'another', '.', 'And', 'it', 'has', 'just', 'enough', 'of', 'an', 'edge', 'to', 'be', 'a', 'true', 'indie', 'find', '.', 'Obviously', 'this', 'is', 'a', 'labor', 'of', 'love', 'for', 'Paul', 'Reiser', 'who', 'understands', 'what', 'it', \"'s\", 'like', 'to', 'be', 'both', 'a', 'father', 'and', 'a', 'son', ',', 'as', 'well', 'as', 'to', 'have', 'both', 'laughter', 'and', 'tears', 'as', 'you', 'move', 'through', 'life', '.', 'The', 'most', 'fun', 'part', ',', 'though', ',', 'was', 'watching', 'Reiser', 'watch', 'Falk', '.', 'You', 'could', 'tell', 'it', 'was', 'both', 'his', 'character', 'coming', 'to', 'a', 'new', 'appreciation', 'of', 'his', 'father', 'and', 'a', 'fellow', 'actor', 'really', 'enjoying', 'Peter', 'Falk', \"'s\", 'special', 'craft', '.', 'Really', 'delightful', '.', 'Let', \"'s\", 'hope', 'this', 'film', 'makes', 'it', 'into', 'theaters', 'around', 'the', 'country', 'sometime', 'soon', 'so', 'everyone', 'can', 'have', 'a', 'chance', 'to', 'laugh', 'and', 'cry', 'with', 'Paul', 'Reiser', 'and', 'folks', '.'], 'label': 'pos'}\n"
          ],
          "name": "stdout"
        }
      ]
    },
    {
      "cell_type": "code",
      "metadata": {
        "id": "WOYK1KfcpkY2"
      },
      "source": [
        "#DIVIDE TRAIN  DATA INTO TRAIN AND VAILID IN 80:20 RATIO\n",
        "train_data, valid_data = train_data.split(random_state = random.seed(SEED))"
      ],
      "execution_count": 22,
      "outputs": []
    },
    {
      "cell_type": "code",
      "metadata": {
        "id": "GMqJuSrkpztJ",
        "colab": {
          "base_uri": "https://localhost:8080/"
        },
        "outputId": "177fb3f2-c4ca-4535-a4d9-01a96ba63b84"
      },
      "source": [
        "# CHECK LENGTH OF TRAIN TEST AND VALID\n",
        "print(f'Number of training examples: {len(train_data)}')\n",
        "print(f'Number of validation examples: {len(valid_data)}')\n",
        "print(f'Number of testing examples: {len(test_data)}')"
      ],
      "execution_count": 23,
      "outputs": [
        {
          "output_type": "stream",
          "text": [
            "Number of training examples: 17500\n",
            "Number of validation examples: 7500\n",
            "Number of testing examples: 25000\n"
          ],
          "name": "stdout"
        }
      ]
    },
    {
      "cell_type": "code",
      "metadata": {
        "id": "OMrh3aKEqL6P"
      },
      "source": [
        "#Construct the Vocab object for this field from one or more datasets.\n",
        "MAX_VOCAB_SIZE = 25_000\n",
        "\n",
        "TEXT.build_vocab(train_data, max_size = MAX_VOCAB_SIZE)\n",
        "LABEL.build_vocab(train_data)\n",
        "\n",
        "\n",
        "#This is basically assigning a unique number to each word . one document may contain 10 lakh element but we should not \n",
        "#take 10 lakhs unique index instead take 25000 most repeated word and use them for assigning index to words .\n",
        "#so What happens if a word encounted which is not in most frequent 25000 in tht case that word is assigned with <unk> i,e unknown "
      ],
      "execution_count": 62,
      "outputs": []
    },
    {
      "cell_type": "code",
      "metadata": {
        "id": "yFNOLDxHvCI1"
      },
      "source": [
        "#Why do we only build the vocabulary on the training set? \n",
        "#When testing any machine learning system you do not want to look at the test set in any way. We do not include the validation set as we want it to reflect the test set as much as possible.\n",
        "\n"
      ],
      "execution_count": 63,
      "outputs": []
    },
    {
      "cell_type": "code",
      "metadata": {
        "id": "_lvK_nscqnwJ",
        "colab": {
          "base_uri": "https://localhost:8080/"
        },
        "outputId": "31ee992f-e924-4d8f-a758-2275b699de07"
      },
      "source": [
        "print(f\"Unique tokens in TEXT vocabulary: {len(TEXT.vocab)}\")\n",
        "print(f\"Unique tokens in LABEL vocabulary: {len(LABEL.vocab)}\")"
      ],
      "execution_count": 64,
      "outputs": [
        {
          "output_type": "stream",
          "text": [
            "Unique tokens in TEXT vocabulary: 25002\n",
            "Unique tokens in LABEL vocabulary: 2\n"
          ],
          "name": "stdout"
        }
      ]
    },
    {
      "cell_type": "code",
      "metadata": {
        "id": "BJXi_9GevgsY"
      },
      "source": [
        "#Why is the vocab size 25002 and not 25000?\n",
        "#One of the addition tokens is the <unk> token and the other is a <pad> token.\n",
        "\n",
        "#When we feed sentences into our model, we feed a batch of them at a time, i.e. more than one at a time, and all sentences in the batch need to be the same size.\n",
        "# Thus, to ensure each sentence in the batch is the same size, any shorter than the longest within the batch are padded.\n",
        "\n",
        "#sentenc1 : I live in bangalore and this is good\n",
        "#sentence2: I am   a  boy       <pad><pad><pad><pad>\n"
      ],
      "execution_count": 65,
      "outputs": []
    },
    {
      "cell_type": "code",
      "metadata": {
        "id": "n_34OXourNpD",
        "colab": {
          "base_uri": "https://localhost:8080/"
        },
        "outputId": "ab84dea5-4a46-4a4b-862b-882528a22a5c"
      },
      "source": [
        "#MOST COMMON WORDS \n",
        "print(TEXT.vocab.freqs.most_common(20))"
      ],
      "execution_count": 66,
      "outputs": [
        {
          "output_type": "stream",
          "text": [
            "[('the', 202995), (',', 192589), ('.', 166220), ('a', 109823), ('and', 109605), ('of', 100631), ('to', 94086), ('is', 76261), ('in', 61475), ('I', 54572), ('it', 53798), ('that', 49288), ('\"', 44123), (\"'s\", 43366), ('this', 42618), ('-', 36817), ('/><br', 35673), ('was', 35263), ('as', 30534), ('with', 29957)]\n"
          ],
          "name": "stdout"
        }
      ]
    },
    {
      "cell_type": "code",
      "metadata": {
        "id": "9daXkrS_8Q74"
      },
      "source": [
        "##CHANGE 02 :\n",
        "#packed padded sequences all of the tensors within a batch need to be sorted by their lengths. \n",
        "#This is handled in the iterator by setting sort_within_batch = True."
      ],
      "execution_count": 67,
      "outputs": []
    },
    {
      "cell_type": "code",
      "metadata": {
        "id": "qLUrV31srSSu"
      },
      "source": [
        "\n",
        "\n",
        "BATCH_SIZE = 64\n",
        "#Create Iterator objects for multiple splits of a dataset.\n",
        "train_iterator, valid_iterator, test_iterator = data.BucketIterator.splits(\n",
        "    (train_data, valid_data, test_data), \n",
        "    batch_size = BATCH_SIZE,\n",
        "    sort_within_batch = True,\n",
        "    device = device)\n",
        "\n",
        "device = torch.device('cuda' if torch.cuda.is_available() else 'cpu')\n",
        "\n",
        "#POINT 01:creating the iterators. We iterate over these in the training/evaluation loop, and they return a batch of examples (indexed and converted into tensors) at each iteration.\n",
        "\n",
        "#POINT 02 :BucketIterator which is a special type of iterator that will return a batch of examples where each example is of a similar length, minimizing the amount of padding per example.\n",
        "\n",
        "#POINT 03 :We also want to place the tensors returned by the iterator on the GPU (if you're using one). PyTorch handles this using torch.device, we then pass this device to the iterator.\n",
        "\n"
      ],
      "execution_count": 68,
      "outputs": []
    },
    {
      "cell_type": "code",
      "metadata": {
        "id": "JbhSqfJG811p"
      },
      "source": [
        "#CHANGE 03 : \n",
        "#LSTM IN PLACE OF RNN \n",
        "#Why is an LSTM better than a standard RNN? Standard RNNs suffer from the vanishing gradient problem.\n",
        "# LSTMs overcome this by having an extra recurrent state called a cell, c - which can be thought of as the \"memory\" of the LSTM -\n",
        "# and the use use multiple gates which control the flow of information into and out of the memory"
      ],
      "execution_count": 69,
      "outputs": []
    },
    {
      "cell_type": "code",
      "metadata": {
        "id": "5vWrpadprmNr"
      },
      "source": [
        "# import torch.nn as nn\n",
        "\n",
        "# class RNN(nn.Module):\n",
        "#     def __init__(self, input_dim, embedding_dim, hidden_dim, output_dim):\n",
        "        \n",
        "#         super().__init__()\n",
        "        \n",
        "#         self.embedding = nn.Embedding(input_dim, embedding_dim)\n",
        "        \n",
        "#         self.rnn = nn.RNN(embedding_dim, hidden_dim)\n",
        "        \n",
        "#         self.fc = nn.Linear(hidden_dim, output_dim)\n",
        "        \n",
        "#     def forward(self, text):\n",
        "\n",
        "#         #text = [sent len, batch size]\n",
        "        \n",
        "#         embedded = self.embedding(text)\n",
        "        \n",
        "#         #embedded = [sent len, batch size, emb dim]\n",
        "        \n",
        "#         output, hidden = self.rnn(embedded)\n",
        "        \n",
        "#         #output = [sent len, batch size, hid dim]\n",
        "#         #hidden = [1, batch size, hid dim]\n",
        "        \n",
        "#         assert torch.equal(output[-1,:,:], hidden.squeeze(0))\n",
        "        \n",
        "#         return self.fc(hidden.squeeze(0))"
      ],
      "execution_count": 70,
      "outputs": []
    },
    {
      "cell_type": "code",
      "metadata": {
        "id": "eHsA06EC_CmE"
      },
      "source": [
        "import torch.nn as nn\n",
        "\n",
        "class RNN(nn.Module):\n",
        "    def __init__(self, vocab_size, embedding_dim, hidden_dim, output_dim, n_layers, \n",
        "                 bidirectional, dropout, pad_idx):\n",
        "        \n",
        "        super().__init__()\n",
        "        \n",
        "        self.embedding = nn.Embedding(vocab_size, embedding_dim, padding_idx = pad_idx)\n",
        "        \n",
        "        self.rnn = nn.LSTM(embedding_dim, \n",
        "                           hidden_dim, \n",
        "                           num_layers=n_layers, \n",
        "                           bidirectional=bidirectional, \n",
        "                           dropout=dropout)\n",
        "        \n",
        "        self.fc = nn.Linear(hidden_dim * 2, output_dim)\n",
        "        \n",
        "        self.dropout = nn.Dropout(dropout)\n",
        "    def forward(self, text, text_lengths):\n",
        "        \n",
        "        #text = [sent len, batch size]\n",
        "        \n",
        "        embedded = self.dropout(self.embedding(text))\n",
        "        \n",
        "        #embedded = [sent len, batch size, emb dim]\n",
        "        \n",
        "        #pack sequence\n",
        "        # lengths need to be on CPU!\n",
        "        packed_embedded = nn.utils.rnn.pack_padded_sequence(embedded, text_lengths.to('cpu'))\n",
        "        \n",
        "        packed_output, (hidden, cell) = self.rnn(packed_embedded)\n",
        "        \n",
        "        #unpack sequence\n",
        "        output, output_lengths = nn.utils.rnn.pad_packed_sequence(packed_output)\n",
        "\n",
        "        #output = [sent len, batch size, hid dim * num directions]\n",
        "        #output over padding tokens are zero tensors\n",
        "        \n",
        "        #hidden = [num layers * num directions, batch size, hid dim]\n",
        "        #cell = [num layers * num directions, batch size, hid dim]\n",
        "        \n",
        "        #concat the final forward (hidden[-2,:,:]) and backward (hidden[-1,:,:]) hidden layers\n",
        "        #and apply dropout\n",
        "        \n",
        "        hidden = self.dropout(torch.cat((hidden[-2,:,:], hidden[-1,:,:]), dim = 1))\n",
        "                \n",
        "        #hidden = [batch size, hid dim * num directions]\n",
        "            \n",
        "        return self.fc(hidden)"
      ],
      "execution_count": 71,
      "outputs": []
    },
    {
      "cell_type": "code",
      "metadata": {
        "id": "FkLe_UNF9pWr"
      },
      "source": [
        "#CHANGE 03 :\n",
        "# We will use LSTM In place of RNN \n",
        "# LSTM instead of the standard RNN, we use nn.LSTM instead of nn.RNN. Also,\n",
        "# note that the LSTM returns the output and a tuple of the final hidden state and the final cell state, whereas the standard RNN only returned the output and final hidden state."
      ],
      "execution_count": 72,
      "outputs": []
    },
    {
      "cell_type": "code",
      "metadata": {
        "id": "mK7jdMUTyGWu"
      },
      "source": [
        "# In RNN we have 3 layers \n",
        "#IN RNN\n",
        "#----------\n",
        "#EMbedding layer :The embedding layer is used to transform our sparse one-hot vector (sparse as most of the elements are 0) into a dense embedding vector. It is a FC layer\n",
        "#RNN Layer :The RNN layer is our RNN which takes in our dense vector and the previous hidden state ht-1, which it uses to calculate the next hidden state, ht\n",
        "#OUTPUT Layer :Finally, the linear layer takes the final hidden state and feeds it through a fully connected layer, ht, transforming it to the correct output dimension.\n",
        "\n",
        "#IN Forwrd layer :\n",
        "#---------------\n",
        "#Each batch, text, is a tensor of size [sentence length, batch size]. That is a batch of sentences, each having each word converted into a one-hot vector.\n",
        "#i.e batch 1 :64 sentences , each sentence 772 length  and each word is onehot encoded (see below ). It is observed that each batch has different sentence length but with in the batch \n",
        "#same sentence length required \n",
        "\n",
        "#The input batch is then passed through the embedding layer to get embedded, which gives us a dense vector representation of our sentences.\n",
        "# embedded is a tensor of size [sentence length, batch size, embedding dim].\n",
        "\n",
        "#embedded is then fed into the RNN. In some frameworks you must feed the initial hidden state, ho, into the RNN, however in PyTorch,\n",
        "# if no initial hidden state is passed as an argument it defaults to a tensor of all zeros.\n",
        "\n",
        "#OUTPUT OF RNN:\n",
        "#The RNN returns 2 tensors, output of size [sentence length, batch size, hidden dim] and hidden of size [1, batch size, hidden dim].\n",
        "#output is the concatenation of the hidden state from every time step, whereas hidden is simply the final hidden state\n",
        "\n",
        "#AASERT:\n",
        "#We verify this using the assert statement. Note the squeeze method, which is used to remove a dimension of size 1.#\n",
        "\n",
        "#Finally, we feed the last hidden state, hidden, through the linear layer, fc, to produce a prediction\n"
      ],
      "execution_count": 73,
      "outputs": []
    },
    {
      "cell_type": "code",
      "metadata": {
        "id": "pzcChXXQ0l5-",
        "colab": {
          "base_uri": "https://localhost:8080/"
        },
        "outputId": "5f3e5416-bc8a-4c4d-d430-0b3e705e5cf7"
      },
      "source": [
        "print('Train')\n",
        "for batch in train_iterator:\n",
        "    print(f'Text matrix size: {batch.text[0].size()}')\n",
        "    print(f'Target vector size: {batch.label.size()}')\n",
        "    #print(f'Text matrix size: {batch.text.size()}')\n",
        "    break\n",
        "    \n",
        "print('\\nValid:')\n",
        "for batch in valid_iterator:\n",
        "    print(f'Text matrix size: {batch.text[0].size()}')\n",
        "    print(f'Target vector size: {batch.label.size()}')\n",
        "    #print(f'Text matrix size: {batch.text.size()}')\n",
        "    break\n",
        "    \n",
        "print('\\nTest:')\n",
        "for batch in test_iterator:\n",
        "    print(f'Text matrix size: {batch.text[0].size()}')\n",
        "    print(f'Target vector size: {batch.label.size()}')\n",
        "    #print(f'Text matrix size: {batch.text.size()}')\n",
        "    break"
      ],
      "execution_count": 74,
      "outputs": [
        {
          "output_type": "stream",
          "text": [
            "Train\n",
            "Text matrix size: torch.Size([133, 64])\n",
            "Target vector size: torch.Size([64])\n",
            "\n",
            "Valid:\n",
            "Text matrix size: torch.Size([48, 64])\n",
            "Target vector size: torch.Size([64])\n",
            "\n",
            "Test:\n",
            "Text matrix size: torch.Size([36, 64])\n",
            "Target vector size: torch.Size([64])\n"
          ],
          "name": "stdout"
        }
      ]
    },
    {
      "cell_type": "code",
      "metadata": {
        "id": "pFGnyUmm0mgC"
      },
      "source": [
        "# INPUT_DIM = len(TEXT.vocab)\n",
        "# EMBEDDING_DIM = 100\n",
        "# HIDDEN_DIM = 256\n",
        "# OUTPUT_DIM = 1\n",
        "\n",
        "# model = RNN(INPUT_DIM, EMBEDDING_DIM, HIDDEN_DIM, OUTPUT_DIM)\n",
        "\n"
      ],
      "execution_count": 75,
      "outputs": []
    },
    {
      "cell_type": "code",
      "metadata": {
        "id": "EXVsV-VzAIVg"
      },
      "source": [
        "#CHANGE 04 :\n",
        "# INCLUDE OPTIONS :\n",
        "# BIDIRECTIONAL :\n",
        "# N_LAYERS :"
      ],
      "execution_count": 76,
      "outputs": []
    },
    {
      "cell_type": "code",
      "metadata": {
        "id": "6CxDPC_SACRW"
      },
      "source": [
        "#CHANGE 04 :\n",
        "INPUT_DIM = len(TEXT.vocab)\n",
        "EMBEDDING_DIM = 100\n",
        "HIDDEN_DIM = 256\n",
        "OUTPUT_DIM = 1\n",
        "N_LAYERS = 2\n",
        "BIDIRECTIONAL = True\n",
        "DROPOUT = 0.5\n",
        "PAD_IDX = TEXT.vocab.stoi[TEXT.pad_token]\n",
        "\n",
        "model = RNN(INPUT_DIM, \n",
        "            EMBEDDING_DIM, \n",
        "            HIDDEN_DIM, \n",
        "            OUTPUT_DIM, \n",
        "            N_LAYERS, \n",
        "            BIDIRECTIONAL, \n",
        "            DROPOUT, \n",
        "            PAD_IDX)"
      ],
      "execution_count": 77,
      "outputs": []
    },
    {
      "cell_type": "code",
      "metadata": {
        "id": "p7MruILG7puJ"
      },
      "source": [
        "#MEANING :\n",
        "#The input dimension is the dimension of the one-hot vectors, which is equal to the vocabulary size.: HERE:len(TEXT.vocab)\n",
        "\n",
        "#The embedding dimension is the size of the dense word vectors. This is usually around 50-250 dimensions, but depends on the size of the vocabulary.: HERE :100\n",
        "\n",
        "#The hidden dimension is the size of the hidden states. This is usually around 100-500 dimensions, but also depends on factors such as on the vocabulary size, \n",
        "#the size of the dense vectors and the complexity of the task. : HERE :256\n",
        "\n",
        "#The output dimension is usually the number of classes, however in the case of only 2 classes the output value is between 0 and 1 and thus can be 1-dimensional,\n",
        "# i.e. a single scalar real number.: HERE :1"
      ],
      "execution_count": 78,
      "outputs": []
    },
    {
      "cell_type": "code",
      "metadata": {
        "id": "oRt9Rsn0HGFc"
      },
      "source": [
        "# GET COUNT OF TRAINABLE PARAMETERS"
      ],
      "execution_count": 79,
      "outputs": []
    },
    {
      "cell_type": "code",
      "metadata": {
        "id": "2Cba2Z6oHKCs",
        "colab": {
          "base_uri": "https://localhost:8080/"
        },
        "outputId": "b97c89a9-36ef-4833-c842-ccf9ede82102"
      },
      "source": [
        "def count_parameters(model):\n",
        "    return sum(p.numel() for p in model.parameters() if p.requires_grad)\n",
        "\n",
        "print(f'The model has {count_parameters(model):,} trainable parameters')\n"
      ],
      "execution_count": 80,
      "outputs": [
        {
          "output_type": "stream",
          "text": [
            "The model has 4,810,857 trainable parameters\n"
          ],
          "name": "stdout"
        }
      ]
    },
    {
      "cell_type": "code",
      "metadata": {
        "id": "I0HNRAVkHKvP"
      },
      "source": [
        "# DEFINE OPTIMIZER"
      ],
      "execution_count": 81,
      "outputs": []
    },
    {
      "cell_type": "code",
      "metadata": {
        "id": "JLbWfaZSIF82"
      },
      "source": [
        "import torch.optim as optim\n",
        "#optimizer = optim.SGD(model.parameters(), lr=1e-3)\n",
        "optimizer = optim.Adam(model.parameters(), lr=1e-4)"
      ],
      "execution_count": 82,
      "outputs": []
    },
    {
      "cell_type": "code",
      "metadata": {
        "id": "T4upv2GiIHRQ"
      },
      "source": [
        "#DEFINE LOSS\n",
        "#BCEWithLogitsLoss()\n",
        "#The loss function here is binary cross entropy with logits\n",
        "# We get output as real number . apply sigmoid to make it 0 to1 . We then use this this bound scalar to calculate the loss using binary cross entropy.\n",
        "criterion = nn.BCEWithLogitsLoss()"
      ],
      "execution_count": 83,
      "outputs": []
    },
    {
      "cell_type": "code",
      "metadata": {
        "id": "C6jVw55MJEkD"
      },
      "source": [
        "# PLACE MODEL AND LOSS TO GPU \n",
        "model = model.to(device)\n",
        "criterion = criterion.to(device)"
      ],
      "execution_count": 84,
      "outputs": []
    },
    {
      "cell_type": "code",
      "metadata": {
        "id": "Km8ajjDRJe6u"
      },
      "source": [
        "##BINARY ACCURACY FUNCTION  PER BATCH \n",
        "def binary_accuracy(preds, y):\n",
        "    \"\"\"\n",
        "    Returns accuracy per batch, i.e. if you get 8/10 right, this returns 0.8, NOT 8\n",
        "    \"\"\"\n",
        "\n",
        "    #round predictions to the closest integer\n",
        "    rounded_preds = torch.round(torch.sigmoid(preds))\n",
        "    correct = (rounded_preds == y).float() #convert into float for division \n",
        "    acc = correct.sum() / len(correct)\n",
        "    return acc"
      ],
      "execution_count": 85,
      "outputs": []
    },
    {
      "cell_type": "code",
      "metadata": {
        "id": "-ltju1MpBUeM"
      },
      "source": [
        "\n",
        "def train(model, iterator, optimizer, criterion):\n",
        "    \n",
        "    epoch_loss = 0\n",
        "    epoch_acc = 0\n",
        "    \n",
        "    model.train()\n",
        "    \n",
        "    for batch in iterator:\n",
        "        \n",
        "        optimizer.zero_grad()\n",
        "        \n",
        "        text, text_lengths = batch.text\n",
        "        \n",
        "        predictions = model(text, text_lengths).squeeze(1)\n",
        "        \n",
        "        loss = criterion(predictions, batch.label)\n",
        "        \n",
        "        acc = binary_accuracy(predictions, batch.label)\n",
        "        \n",
        "        loss.backward()\n",
        "        \n",
        "        optimizer.step()\n",
        "        \n",
        "        epoch_loss += loss.item()\n",
        "        epoch_acc += acc.item()\n",
        "        \n",
        "    return epoch_loss / len(iterator), epoch_acc / len(iterator)"
      ],
      "execution_count": 86,
      "outputs": []
    },
    {
      "cell_type": "code",
      "metadata": {
        "id": "zfnmNZVvBcd2"
      },
      "source": [
        "\n",
        "def evaluate(model, iterator, criterion):\n",
        "    \n",
        "    epoch_loss = 0\n",
        "    epoch_acc = 0\n",
        "    \n",
        "    model.eval()\n",
        "    \n",
        "    with torch.no_grad():\n",
        "    \n",
        "        for batch in iterator:\n",
        "\n",
        "            text, text_lengths = batch.text\n",
        "            \n",
        "            predictions = model(text, text_lengths).squeeze(1)\n",
        "            \n",
        "            loss = criterion(predictions, batch.label)\n",
        "            \n",
        "            acc = binary_accuracy(predictions, batch.label)\n",
        "\n",
        "            epoch_loss += loss.item()\n",
        "            epoch_acc += acc.item()\n",
        "        \n",
        "    return epoch_loss / len(iterator), epoch_acc / len(iterator)"
      ],
      "execution_count": 87,
      "outputs": []
    },
    {
      "cell_type": "code",
      "metadata": {
        "id": "EVutvX5tXJXL"
      },
      "source": [
        "#TRAINING\n",
        "\n",
        "# def train(model, iterator, optimizer, criterion):\n",
        "    \n",
        "#     epoch_loss = 0\n",
        "#     epoch_acc = 0\n",
        "    \n",
        "#     model.train()\n",
        "    \n",
        "#     for batch in iterator:\n",
        "        \n",
        "#         optimizer.zero_grad()\n",
        "                \n",
        "#         predictions = model(batch.text).squeeze(1)\n",
        "        \n",
        "#         loss = criterion(predictions, batch.label)\n",
        "        \n",
        "#         acc = binary_accuracy(predictions, batch.label)\n",
        "        \n",
        "#         loss.backward()\n",
        "        \n",
        "#         optimizer.step()\n",
        "        \n",
        "#         epoch_loss += loss.item()\n",
        "#         epoch_acc += acc.item()\n",
        "        \n",
        "#     return epoch_loss / len(iterator), epoch_acc / len(iterator)"
      ],
      "execution_count": 88,
      "outputs": []
    },
    {
      "cell_type": "code",
      "metadata": {
        "id": "oiMTvpdGA-jo"
      },
      "source": [
        "#TRAIN FOR RNN \n",
        "# def train(model, iterator, optimizer, criterion):\n",
        "    \n",
        "#     epoch_loss = 0\n",
        "#     epoch_acc = 0\n",
        "    \n",
        "#     model.train()\n",
        "    \n",
        "#     for batch in iterator:\n",
        "        \n",
        "#         optimizer.zero_grad()\n",
        "        \n",
        "#         text, text_lengths = batch.text\n",
        "        \n",
        "#         predictions = model(text, text_lengths).squeeze(1)\n",
        "        \n",
        "#         loss = criterion(predictions, batch.label)\n",
        "        \n",
        "#         acc = binary_accuracy(predictions, batch.label)\n",
        "        \n",
        "#         loss.backward()\n",
        "        \n",
        "#         optimizer.step()\n",
        "        \n",
        "#         epoch_loss += loss.item()\n",
        "#         epoch_acc += acc.item()\n",
        "        \n",
        "#     return epoch_loss / len(iterator), epoch_acc / len(iterator)"
      ],
      "execution_count": 89,
      "outputs": []
    },
    {
      "cell_type": "code",
      "metadata": {
        "id": "pJRgO0DhXPwT"
      },
      "source": [
        "#MODEL.TRAIN:\n",
        "#model.train() is used to put the model in \"training mode\", which turns on dropout and batch normalization. \n",
        "#Although we aren't using them in this model, it's good practice to include it.\n",
        "\n",
        "#OPTIMIZER.ZEROGRAD :\n",
        "#For each batch, we first zero the gradients. Each parameter in a model has a grad attribute which stores the gradient calculated by the criterion.\n",
        "#PyTorch does not automatically remove (or \"zero\") the gradients calculated from the last gradient calculation, so they must be manually zeroed.\n",
        "\n",
        "#CALL TO FORWARD:\n",
        "#We then feed the batch of sentences, batch.text, into the model. Note, you do not need to do model.forward(batch.text),\n",
        "#simply calling the model works. The squeeze is needed as the predictions are initially size [batch size, 1],\n",
        "# and we need to remove the dimension of size 1 as PyTorch expects the predictions input to our criterion function to be of size [batch size].\n",
        "\n",
        "#CALCULATE LOSS AND ACCURACY :\n",
        "#The loss and accuracy are then calculated using our predictions and the labels, batch.label, with the loss being averaged over all examples in the batch.\n",
        "\n",
        "#CALCULATE AND UPDATE GRADIENT :\n",
        "#We calculate the gradient of each parameter with loss.backward(), and then update the parameters using the gradients and optimizer algorithm with optimizer.step().\n",
        "\n",
        "#ACCUMULATE LOSS AND ACCURACY FOR ENTIRE SINGLE EPOCH \n",
        "#The loss and accuracy is accumulated across the epoch, the .item() method is used to extract a scalar from a tensor which only contains a single value.\n",
        "\n",
        "#RETURN AVARAGE ACCURACY AND LOSS\n",
        "#Finally, we return the loss and accuracy, averaged across the epoch. The len of an iterator is the number of batches in the iterator."
      ],
      "execution_count": 90,
      "outputs": []
    },
    {
      "cell_type": "code",
      "metadata": {
        "id": "OBXpZnh-dLpX"
      },
      "source": [
        "# def evaluate(model, iterator, criterion):\n",
        "    \n",
        "#     epoch_loss = 0\n",
        "#     epoch_acc = 0\n",
        "    \n",
        "#     model.eval()\n",
        "    \n",
        "#     with torch.no_grad():\n",
        "    \n",
        "#         for batch in iterator:\n",
        "\n",
        "#             predictions = model(batch.text).squeeze(1)\n",
        "            \n",
        "#             loss = criterion(predictions, batch.label)\n",
        "            \n",
        "#             acc = binary_accuracy(predictions, batch.label)\n",
        "\n",
        "#             epoch_loss += loss.item()\n",
        "#             epoch_acc += acc.item()\n",
        "        \n",
        "#     return epoch_loss / len(iterator), epoch_acc / len(iterator)"
      ],
      "execution_count": 91,
      "outputs": []
    },
    {
      "cell_type": "code",
      "metadata": {
        "id": "M3Y5aFxsdMOV"
      },
      "source": [
        "#evaluate is similar to train, with a few modifications as you don't want to update the parameters when evaluating.\n",
        "#MODEL.EVAL()\n",
        "#model.eval() puts the model in \"evaluation mode\", this turns off dropout and batch normalization. Again, we are not using them in this model, but it is good practice to include them.\n",
        "#TORCH.NO_GRAD()\n",
        "#No gradients are calculated on PyTorch operations inside the with no_grad() block.\n",
        "#This causes less memory to be used and speeds up computation.\n",
        "#REMOVE optimizer.zero_grad(), loss.backward() and optimizer.step()\n",
        "#The rest of the function is the same as train, with the removal of optimizer.zero_grad(), loss.backward() and optimizer.step(), as we do not update the model's parameters when evaluating."
      ],
      "execution_count": 92,
      "outputs": []
    },
    {
      "cell_type": "code",
      "metadata": {
        "id": "081fQb-GeVaQ"
      },
      "source": [
        "import time\n",
        "\n",
        "def epoch_time(start_time, end_time):\n",
        "    elapsed_time = end_time - start_time\n",
        "    elapsed_mins = int(elapsed_time / 60)\n",
        "    elapsed_secs = int(elapsed_time - (elapsed_mins * 60))\n",
        "    return elapsed_mins, elapsed_secs"
      ],
      "execution_count": 93,
      "outputs": []
    },
    {
      "cell_type": "code",
      "metadata": {
        "id": "FZS-pEpJewDj"
      },
      "source": [
        "#We then train the model through multiple epochs, an epoch being a complete pass through all examples in the training and validation sets."
      ],
      "execution_count": 94,
      "outputs": []
    },
    {
      "cell_type": "code",
      "metadata": {
        "id": "MC73yPjLeWRb",
        "colab": {
          "base_uri": "https://localhost:8080/"
        },
        "outputId": "3a9bcfcb-8514-4ecb-9d67-83d6ffa225fe"
      },
      "source": [
        "N_EPOCHS = 30\n",
        "\n",
        "best_valid_loss = float('inf')\n",
        "\n",
        "#ACCUMULATE TRAIN TEST LOSS ACC\n",
        "train_loss_epoch=[]\n",
        "valid_loss_epoch=[]\n",
        "train_acc_epoch=[]\n",
        "valid_acc_epoch=[]\n",
        "\n",
        "\n",
        "\n",
        "for epoch in range(N_EPOCHS):\n",
        "\n",
        "    start_time = time.time()\n",
        "    \n",
        "    train_loss, train_acc = train(model, train_iterator, optimizer, criterion)\n",
        "    valid_loss, valid_acc = evaluate(model, valid_iterator, criterion)\n",
        "    \n",
        "    end_time = time.time()\n",
        "\n",
        "    epoch_mins, epoch_secs = epoch_time(start_time, end_time)\n",
        "    \n",
        "    if valid_loss < best_valid_loss:\n",
        "        best_valid_loss = valid_loss\n",
        "        torch.save(model.state_dict(), 'tut2-model.pt')\n",
        "    \n",
        "    train_loss_epoch.append(round(train_loss,3))\n",
        "    valid_loss_epoch.append(round(valid_loss,3))\n",
        "    train_acc_epoch.append(round((train_acc*100),2))\n",
        "    valid_acc_epoch.append(round((valid_acc*100),2))\n",
        "    print(f'Epoch: {epoch+1:02} | Epoch Time: {epoch_mins}m {epoch_secs}s')\n",
        "    print(f'\\tTrain Loss: {train_loss:.3f} | Train Acc: {train_acc*100:.2f}%')\n",
        "    print(f'\\t Val. Loss: {valid_loss:.3f} |  Val. Acc: {valid_acc*100:.2f}%')"
      ],
      "execution_count": 95,
      "outputs": [
        {
          "output_type": "stream",
          "text": [
            "Epoch: 01 | Epoch Time: 0m 39s\n",
            "\tTrain Loss: 0.690 | Train Acc: 53.58%\n",
            "\t Val. Loss: 0.683 |  Val. Acc: 57.56%\n",
            "Epoch: 02 | Epoch Time: 0m 40s\n",
            "\tTrain Loss: 0.657 | Train Acc: 60.82%\n",
            "\t Val. Loss: 0.594 |  Val. Acc: 68.51%\n",
            "Epoch: 03 | Epoch Time: 0m 40s\n",
            "\tTrain Loss: 0.614 | Train Acc: 66.39%\n",
            "\t Val. Loss: 0.597 |  Val. Acc: 68.20%\n",
            "Epoch: 04 | Epoch Time: 0m 40s\n",
            "\tTrain Loss: 0.583 | Train Acc: 69.50%\n",
            "\t Val. Loss: 0.535 |  Val. Acc: 74.68%\n",
            "Epoch: 05 | Epoch Time: 0m 40s\n",
            "\tTrain Loss: 0.575 | Train Acc: 69.60%\n",
            "\t Val. Loss: 0.571 |  Val. Acc: 71.36%\n",
            "Epoch: 06 | Epoch Time: 0m 40s\n",
            "\tTrain Loss: 0.544 | Train Acc: 72.84%\n",
            "\t Val. Loss: 0.560 |  Val. Acc: 72.40%\n",
            "Epoch: 07 | Epoch Time: 0m 40s\n",
            "\tTrain Loss: 0.525 | Train Acc: 74.01%\n",
            "\t Val. Loss: 0.450 |  Val. Acc: 78.24%\n",
            "Epoch: 08 | Epoch Time: 0m 40s\n",
            "\tTrain Loss: 0.503 | Train Acc: 75.76%\n",
            "\t Val. Loss: 0.468 |  Val. Acc: 76.96%\n",
            "Epoch: 09 | Epoch Time: 0m 40s\n",
            "\tTrain Loss: 0.479 | Train Acc: 77.45%\n",
            "\t Val. Loss: 0.459 |  Val. Acc: 78.50%\n",
            "Epoch: 10 | Epoch Time: 0m 40s\n",
            "\tTrain Loss: 0.457 | Train Acc: 78.51%\n",
            "\t Val. Loss: 0.561 |  Val. Acc: 75.02%\n",
            "Epoch: 11 | Epoch Time: 0m 40s\n",
            "\tTrain Loss: 0.441 | Train Acc: 79.40%\n",
            "\t Val. Loss: 0.511 |  Val. Acc: 77.90%\n",
            "Epoch: 12 | Epoch Time: 0m 40s\n",
            "\tTrain Loss: 0.426 | Train Acc: 80.58%\n",
            "\t Val. Loss: 0.507 |  Val. Acc: 78.69%\n",
            "Epoch: 13 | Epoch Time: 0m 40s\n",
            "\tTrain Loss: 0.406 | Train Acc: 81.87%\n",
            "\t Val. Loss: 0.647 |  Val. Acc: 74.57%\n",
            "Epoch: 14 | Epoch Time: 0m 40s\n",
            "\tTrain Loss: 0.402 | Train Acc: 81.90%\n",
            "\t Val. Loss: 0.509 |  Val. Acc: 77.29%\n",
            "Epoch: 15 | Epoch Time: 0m 40s\n",
            "\tTrain Loss: 0.392 | Train Acc: 82.62%\n",
            "\t Val. Loss: 0.551 |  Val. Acc: 77.51%\n",
            "Epoch: 16 | Epoch Time: 0m 40s\n",
            "\tTrain Loss: 0.390 | Train Acc: 82.64%\n",
            "\t Val. Loss: 0.503 |  Val. Acc: 79.06%\n",
            "Epoch: 17 | Epoch Time: 0m 40s\n",
            "\tTrain Loss: 0.371 | Train Acc: 83.82%\n",
            "\t Val. Loss: 0.535 |  Val. Acc: 78.19%\n",
            "Epoch: 18 | Epoch Time: 0m 40s\n",
            "\tTrain Loss: 0.380 | Train Acc: 83.49%\n",
            "\t Val. Loss: 0.373 |  Val. Acc: 84.35%\n",
            "Epoch: 19 | Epoch Time: 0m 40s\n",
            "\tTrain Loss: 0.371 | Train Acc: 83.58%\n",
            "\t Val. Loss: 0.608 |  Val. Acc: 76.97%\n",
            "Epoch: 20 | Epoch Time: 0m 40s\n",
            "\tTrain Loss: 0.351 | Train Acc: 84.96%\n",
            "\t Val. Loss: 0.449 |  Val. Acc: 82.43%\n",
            "Epoch: 21 | Epoch Time: 0m 40s\n",
            "\tTrain Loss: 0.362 | Train Acc: 84.16%\n",
            "\t Val. Loss: 0.408 |  Val. Acc: 83.76%\n",
            "Epoch: 22 | Epoch Time: 0m 40s\n",
            "\tTrain Loss: 0.342 | Train Acc: 85.34%\n",
            "\t Val. Loss: 0.570 |  Val. Acc: 78.86%\n",
            "Epoch: 23 | Epoch Time: 0m 40s\n",
            "\tTrain Loss: 0.346 | Train Acc: 85.05%\n",
            "\t Val. Loss: 0.463 |  Val. Acc: 82.61%\n",
            "Epoch: 24 | Epoch Time: 0m 40s\n",
            "\tTrain Loss: 0.333 | Train Acc: 85.63%\n",
            "\t Val. Loss: 0.517 |  Val. Acc: 80.41%\n",
            "Epoch: 25 | Epoch Time: 0m 40s\n",
            "\tTrain Loss: 0.361 | Train Acc: 84.43%\n",
            "\t Val. Loss: 0.557 |  Val. Acc: 79.10%\n",
            "Epoch: 26 | Epoch Time: 0m 40s\n",
            "\tTrain Loss: 0.383 | Train Acc: 83.13%\n",
            "\t Val. Loss: 0.629 |  Val. Acc: 78.24%\n",
            "Epoch: 27 | Epoch Time: 0m 40s\n",
            "\tTrain Loss: 0.329 | Train Acc: 85.80%\n",
            "\t Val. Loss: 0.619 |  Val. Acc: 78.74%\n",
            "Epoch: 28 | Epoch Time: 0m 40s\n",
            "\tTrain Loss: 0.324 | Train Acc: 85.99%\n",
            "\t Val. Loss: 0.449 |  Val. Acc: 85.24%\n",
            "Epoch: 29 | Epoch Time: 0m 40s\n",
            "\tTrain Loss: 0.322 | Train Acc: 86.20%\n",
            "\t Val. Loss: 0.511 |  Val. Acc: 81.67%\n",
            "Epoch: 30 | Epoch Time: 0m 40s\n",
            "\tTrain Loss: 0.313 | Train Acc: 86.68%\n",
            "\t Val. Loss: 0.464 |  Val. Acc: 83.45%\n"
          ],
          "name": "stdout"
        }
      ]
    },
    {
      "cell_type": "code",
      "metadata": {
        "id": "5cLNKOoE0x6t"
      },
      "source": [
        "# PLOT A GRAPH BETWEEN TRAIN TEST LOSS ACC FOR N EPOCHS"
      ],
      "execution_count": 96,
      "outputs": []
    },
    {
      "cell_type": "code",
      "metadata": {
        "id": "Ojk04z-g4-nA",
        "colab": {
          "base_uri": "https://localhost:8080/",
          "height": 610
        },
        "outputId": "62e372ae-010c-491d-d08a-5d3cd2783d18"
      },
      "source": [
        "\n",
        "import seaborn as sns\n",
        "import matplotlib.pyplot as plt\n",
        "sns.set()\n",
        "plt.style.use(\"dark_background\")\n",
        "\n",
        "fig, axs = plt.subplots(2,2,figsize=(15,10))\n",
        "axs[0, 0].plot(train_loss_epoch)\n",
        "axs[0, 0].set_title(\"Training Loss\")\n",
        "axs[0, 1].plot(valid_loss_epoch)\n",
        "axs[0, 1].set_title(\"Valid Loss\")\n",
        "axs[1, 0].plot(train_acc_epoch)\n",
        "axs[1, 0].set_title(\"Training Accuracy \")\n",
        "axs[1, 1].plot(valid_acc_epoch)\n",
        "axs[1, 1].set_title(\"Validation Accuracy\")\n",
        "\n",
        "plt.show()"
      ],
      "execution_count": 97,
      "outputs": [
        {
          "output_type": "display_data",
          "data": {
            "image/png": "[encoded data removed]",
            "text/plain": [
              "<Figure size 1080x720 with 4 Axes>"
            ]
          },
          "metadata": {
            "tags": []
          }
        }
      ]
    },
    {
      "cell_type": "code",
      "metadata": {
        "id": "bEz_3NCU5wEf"
      },
      "source": [
        "# CALCULATE TEST SET LOSS AND ACCURACY "
      ],
      "execution_count": 98,
      "outputs": []
    },
    {
      "cell_type": "code",
      "metadata": {
        "id": "mxbFrYMdenUM",
        "colab": {
          "base_uri": "https://localhost:8080/"
        },
        "outputId": "d5fd7829-a5b2-4b4e-9dae-29bda4d37f2a"
      },
      "source": [
        "model.load_state_dict(torch.load('tut2-model.pt'))\n",
        "\n",
        "test_loss, test_acc = evaluate(model, test_iterator, criterion)\n",
        "\n",
        "print(f'Test Loss: {test_loss:.3f} | Test Acc: {test_acc*100:.2f}%')"
      ],
      "execution_count": 99,
      "outputs": [
        {
          "output_type": "stream",
          "text": [
            "Test Loss: 0.377 | Test Acc: 84.48%\n"
          ],
          "name": "stdout"
        }
      ]
    }
  ]
}