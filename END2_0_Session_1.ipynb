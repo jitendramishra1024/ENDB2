{
  "nbformat": 4,
  "nbformat_minor": 0,
  "metadata": {
    "colab": {
      "name": "END2.0 Session 1.ipynb",
      "provenance": [],
      "include_colab_link": true
    },
    "kernelspec": {
      "name": "python3",
      "display_name": "Python 3"
    },
    "language_info": {
      "name": "python"
    }
  },
  "cells": [
    {
      "cell_type": "markdown",
      "metadata": {
        "id": "view-in-github",
        "colab_type": "text"
      },
      "source": [
        "<a href=\"https://colab.research.google.com/github/jitendramishra1024/ENDB2/blob/main/END2_0_Session_1.ipynb\" target=\"_parent\"><img src=\"https://colab.research.google.com/assets/colab-badge.svg\" alt=\"Open In Colab\"/></a>"
      ]
    },
    {
      "cell_type": "code",
      "metadata": {
        "colab": {
          "base_uri": "https://localhost:8080/"
        },
        "id": "GC_6PeobwwkH",
        "outputId": "b5de648d-3c28-4666-c709-d23f35b8873e"
      },
      "source": [
        "import torch\n",
        "from torch.autograd import Variable\n",
        "import torch.nn as nn\n",
        "import torch.nn.functional as F\n",
        "import torch.optim as optim\n",
        "import numpy as np\n",
        "import matplotlib.pyplot as plt\n",
        "%matplotlib inline\n",
        "torch.manual_seed(2)"
      ],
      "execution_count": null,
      "outputs": [
        {
          "output_type": "execute_result",
          "data": {
            "text/plain": [
              "<torch._C.Generator at 0x7f3f88457990>"
            ]
          },
          "metadata": {
            "tags": []
          },
          "execution_count": 1
        }
      ]
    },
    {
      "cell_type": "code",
      "metadata": {
        "id": "CI5XtYKQ6kcd"
      },
      "source": [
        ""
      ],
      "execution_count": null,
      "outputs": []
    },
    {
      "cell_type": "code",
      "metadata": {
        "id": "bL64bMTkw2GP"
      },
      "source": [
        "X = torch.Tensor([[0,0], [0,1], [1,0], [1,1]])\n",
        "Y = torch.Tensor([0, 1, 1, 0]).view(-1,1)"
      ],
      "execution_count": null,
      "outputs": []
    },
    {
      "cell_type": "code",
      "metadata": {
        "id": "aC82kEAIw3Wf"
      },
      "source": [
        "class XOR(nn.Module):\n",
        "    def __init__(self, input_dim = 2, output_dim=1):\n",
        "        super(XOR, self).__init__()\n",
        "        self.lin1 = nn.Linear(input_dim, 4,bias=True)\n",
        "        self.lin_mid1 = nn.Linear(4, 4,bias=True)\n",
        "        self.lin_mid2 = nn.Linear(4, 2,bias=True)\n",
        "        self.lin2 = nn.Linear(2, output_dim,bias=False)\n",
        "    \n",
        "    def forward(self, x):\n",
        "        x = self.lin1(x)\n",
        "        x = F.tanh(x)\n",
        "        x = self.lin_mid1(x)\n",
        "        x = F.tanh(x)\n",
        "        x = self.lin_mid2(x)\n",
        "        x = F.tanh(x)\n",
        "        x = self.lin2(x)\n",
        "        #x = F.tanh(x)\n",
        "        return x"
      ],
      "execution_count": null,
      "outputs": []
    },
    {
      "cell_type": "code",
      "metadata": {
        "colab": {
          "base_uri": "https://localhost:8080/"
        },
        "id": "8gQIQExYw65K",
        "outputId": "a3d179f7-d0fe-4826-a0a7-74b45a38be2b"
      },
      "source": [
        "model = XOR()\n",
        "print(model)\n",
        "\n",
        "from torchsummary import summary\n",
        "\n",
        "summary(model, (2,2))"
      ],
      "execution_count": null,
      "outputs": [
        {
          "output_type": "stream",
          "text": [
            "XOR(\n",
            "  (lin1): Linear(in_features=2, out_features=4, bias=True)\n",
            "  (lin_mid1): Linear(in_features=4, out_features=4, bias=True)\n",
            "  (lin_mid2): Linear(in_features=4, out_features=2, bias=True)\n",
            "  (lin2): Linear(in_features=2, out_features=1, bias=False)\n",
            ")\n",
            "----------------------------------------------------------------\n",
            "        Layer (type)               Output Shape         Param #\n",
            "================================================================\n",
            "            Linear-1                 [-1, 2, 4]              12\n",
            "            Linear-2                 [-1, 2, 4]              20\n",
            "            Linear-3                 [-1, 2, 2]              10\n",
            "            Linear-4                 [-1, 2, 1]               2\n",
            "================================================================\n",
            "Total params: 44\n",
            "Trainable params: 44\n",
            "Non-trainable params: 0\n",
            "----------------------------------------------------------------\n",
            "Input size (MB): 0.00\n",
            "Forward/backward pass size (MB): 0.00\n",
            "Params size (MB): 0.00\n",
            "Estimated Total Size (MB): 0.00\n",
            "----------------------------------------------------------------\n"
          ],
          "name": "stdout"
        },
        {
          "output_type": "stream",
          "text": [
            "/usr/local/lib/python3.7/dist-packages/torch/nn/functional.py:1698: UserWarning: nn.functional.tanh is deprecated. Use torch.tanh instead.\n",
            "  warnings.warn(\"nn.functional.tanh is deprecated. Use torch.tanh instead.\")\n"
          ],
          "name": "stderr"
        }
      ]
    },
    {
      "cell_type": "code",
      "metadata": {
        "id": "yeotEq19x6XF"
      },
      "source": [
        "def weights_init(model):\n",
        "    for m in model.modules():\n",
        "        if isinstance(m, nn.Linear):\n",
        "            # initialize the weight tensor, here we use a normal distribution\n",
        "            m.weight.data.normal_(0, 1)\n",
        "\n",
        "weights_init(model)"
      ],
      "execution_count": null,
      "outputs": []
    },
    {
      "cell_type": "code",
      "metadata": {
        "id": "WrD_sNzLx78e"
      },
      "source": [
        "loss_func = nn.L1Loss()"
      ],
      "execution_count": null,
      "outputs": []
    },
    {
      "cell_type": "code",
      "metadata": {
        "id": "-zvbrMd2x_lA"
      },
      "source": [
        "optimizer = optim.SGD(model.parameters(), lr=0.02, momentum=0.9)\n"
      ],
      "execution_count": null,
      "outputs": []
    },
    {
      "cell_type": "code",
      "metadata": {
        "colab": {
          "base_uri": "https://localhost:8080/"
        },
        "id": "q7tWa3D7yA5X",
        "outputId": "df738fb6-1f60-4d9a-8379-752ffc42ea97"
      },
      "source": [
        "epochs = 2001\n",
        "steps = X.size(0)\n",
        "for i in range(epochs):\n",
        "    for j in range(steps):\n",
        "        data_point = np.random.randint(X.size(0))\n",
        "        x_var = Variable(X[data_point], requires_grad=False)\n",
        "        y_var = Variable(Y[data_point], requires_grad=False)\n",
        "        \n",
        "        optimizer.zero_grad()\n",
        "        y_hat = model(x_var)\n",
        "        loss = loss_func.forward(y_hat, y_var)\n",
        "        loss.backward()\n",
        "        optimizer.step()\n",
        "        \n",
        "    if i % 50 == 0:\n",
        "        print( \"Epoch: {0}, Loss: {1}, \".format(i, loss.data.numpy()))"
      ],
      "execution_count": null,
      "outputs": [
        {
          "output_type": "stream",
          "text": [
            "Epoch: 0, Loss: 1.258967399597168, \n"
          ],
          "name": "stdout"
        },
        {
          "output_type": "stream",
          "text": [
            "/usr/local/lib/python3.7/dist-packages/torch/nn/functional.py:1698: UserWarning: nn.functional.tanh is deprecated. Use torch.tanh instead.\n",
            "  warnings.warn(\"nn.functional.tanh is deprecated. Use torch.tanh instead.\")\n"
          ],
          "name": "stderr"
        },
        {
          "output_type": "stream",
          "text": [
            "Epoch: 50, Loss: 0.6418172121047974, \n",
            "Epoch: 100, Loss: 0.06026536226272583, \n",
            "Epoch: 150, Loss: 0.41754040122032166, \n",
            "Epoch: 200, Loss: 0.0764177143573761, \n",
            "Epoch: 250, Loss: 0.13523098826408386, \n",
            "Epoch: 300, Loss: 0.0761559009552002, \n",
            "Epoch: 350, Loss: 0.11492633819580078, \n",
            "Epoch: 400, Loss: 0.08717268705368042, \n",
            "Epoch: 450, Loss: 0.08015012741088867, \n",
            "Epoch: 500, Loss: 0.005355656147003174, \n",
            "Epoch: 550, Loss: 0.07360780239105225, \n",
            "Epoch: 600, Loss: 0.03344464302062988, \n",
            "Epoch: 650, Loss: 0.01768571138381958, \n",
            "Epoch: 700, Loss: 0.338878333568573, \n",
            "Epoch: 750, Loss: 0.0008074045181274414, \n",
            "Epoch: 800, Loss: 0.0995028018951416, \n",
            "Epoch: 850, Loss: 0.00709417462348938, \n",
            "Epoch: 900, Loss: 0.1335049569606781, \n",
            "Epoch: 950, Loss: 0.06676924228668213, \n",
            "Epoch: 1000, Loss: 0.04456984996795654, \n",
            "Epoch: 1050, Loss: 0.13377121090888977, \n",
            "Epoch: 1100, Loss: 0.27830249071121216, \n",
            "Epoch: 1150, Loss: 0.015370756387710571, \n",
            "Epoch: 1200, Loss: 0.006380826234817505, \n",
            "Epoch: 1250, Loss: 0.1895185112953186, \n",
            "Epoch: 1300, Loss: 0.14289864897727966, \n",
            "Epoch: 1350, Loss: 0.21551835536956787, \n",
            "Epoch: 1400, Loss: 0.1189427375793457, \n",
            "Epoch: 1450, Loss: 0.174025297164917, \n",
            "Epoch: 1500, Loss: 0.04018557071685791, \n",
            "Epoch: 1550, Loss: 0.15553772449493408, \n",
            "Epoch: 1600, Loss: 0.03500261902809143, \n",
            "Epoch: 1650, Loss: 0.13941574096679688, \n",
            "Epoch: 1700, Loss: 0.018106386065483093, \n",
            "Epoch: 1750, Loss: 0.022732079029083252, \n",
            "Epoch: 1800, Loss: 0.035234153270721436, \n",
            "Epoch: 1850, Loss: 0.049120187759399414, \n",
            "Epoch: 1900, Loss: 0.20958828926086426, \n",
            "Epoch: 1950, Loss: 0.14754557609558105, \n",
            "Epoch: 2000, Loss: 0.18397623300552368, \n"
          ],
          "name": "stdout"
        }
      ]
    },
    {
      "cell_type": "code",
      "metadata": {
        "id": "QV0dIdveyCRi"
      },
      "source": [
        ""
      ],
      "execution_count": null,
      "outputs": []
    }
  ]
}