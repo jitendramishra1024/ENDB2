{
  "nbformat": 4,
  "nbformat_minor": 0,
  "metadata": {
    "colab": {
      "name": "MULTIMODAL_MNIST_ADDER.ipynb",
      "provenance": [],
      "collapsed_sections": []
    },
    "kernelspec": {
      "name": "python3",
      "display_name": "Python 3"
    },
    "language_info": {
      "name": "python"
    },
    "accelerator": "GPU"
  },
  "cells": [
    {
      "cell_type": "code",
      "metadata": {
        "id": "gTtpSEK_yhvr",
        "colab": {
          "base_uri": "https://localhost:8080/",
          "height": 35
        },
        "outputId": "882909f0-cea1-42d3-ca9f-276673d4bcc6"
      },
      "source": [
        "\n",
        "import torch\n",
        "from torch.utils.data import Dataset, DataLoader\n",
        "from torchvision import datasets, transforms\n",
        "from torchvision.transforms import ToTensor\n",
        "import torch.nn as nn\n",
        "import torch.nn.functional as F\n",
        "import torch.optim as optim\n",
        "import matplotlib.pyplot as plt #for plotting\n",
        "# using cuda enabled GPU  if available\n",
        "device = \"cuda\" if torch.cuda.is_available() else \"cpu\"\n",
        "device\n"
      ],
      "execution_count": null,
      "outputs": [
        {
          "output_type": "execute_result",
          "data": {
            "application/vnd.google.colaboratory.intrinsic+json": {
              "type": "string"
            },
            "text/plain": [
              "'cuda'"
            ]
          },
          "metadata": {
            "tags": []
          },
          "execution_count": 98
        }
      ]
    },
    {
      "cell_type": "code",
      "metadata": {
        "id": "lFXmuuH2KK_j"
      },
      "source": [
        "# downloading/loading MNIST train dataset\n",
        "mnist_train_data = datasets.MNIST(\n",
        "    root=\"data\",\n",
        "    train=True,\n",
        "    download=True,\n",
        "    transform=ToTensor()\n",
        ")"
      ],
      "execution_count": null,
      "outputs": []
    },
    {
      "cell_type": "code",
      "metadata": {
        "colab": {
          "base_uri": "https://localhost:8080/"
        },
        "id": "bz0NQXQSKhCu",
        "outputId": "eddb3afb-51d1-4505-cecc-cb317ad1604e"
      },
      "source": [
        "print(\"Total number of Images in Dataset\",len(mnist_train_data))\n",
        "# NOTE :Basically this contains 60000 tuples of ((1,28,28),1) =(image,label)"
      ],
      "execution_count": null,
      "outputs": [
        {
          "output_type": "stream",
          "text": [
            "Total number of Images in Dataset 60000\n"
          ],
          "name": "stdout"
        }
      ]
    },
    {
      "cell_type": "code",
      "metadata": {
        "colab": {
          "base_uri": "https://localhost:8080/",
          "height": 482
        },
        "id": "h9EmNk5TK4Hp",
        "outputId": "5acabfab-9ba2-4c7b-c19c-8f10b8e09418"
      },
      "source": [
        "# plotting sample of dataset\n",
        "figure = plt.figure(figsize=(8, 8))\n",
        "cols, rows = 3, 3\n",
        "#randomly selecting index from dataset\n",
        "rand_idx = torch.randint(len(mnist_train_data), size=(cols*rows,))\n",
        "for i, idx in enumerate(rand_idx):\n",
        "  #unpacking data set for img and label\n",
        "  img, label = mnist_train_data[idx.item()]\n",
        "  figure.add_subplot(rows, cols, i+1)\n",
        "  plt.title(label)\n",
        "  plt.axis(\"off\")\n",
        "  plt.imshow(img.squeeze(), cmap=\"gray\")\n",
        "plt.show()"
      ],
      "execution_count": null,
      "outputs": [
        {
          "output_type": "display_data",
          "data": {
            "image/png": "[encoded data removed]",
            "text/plain": [
              "<Figure size 576x576 with 9 Axes>"
            ]
          },
          "metadata": {
            "tags": []
          }
        }
      ]
    },
    {
      "cell_type": "code",
      "metadata": {
        "id": "n_HOSjTfRCoM"
      },
      "source": [
        "# creating a custom data set for loading image and radom number\n",
        "class CustomDataSet(Dataset):\n",
        "  def __init__(self, mnist_dataset):\n",
        "    self.mnist = mnist_dataset\n",
        "    self.numbers = torch.randint(10, size=(len(self),))\n",
        "\n",
        "  def __getitem__(self, index):\n",
        "    #unpack img and label from mnist\n",
        "    img, label = self.mnist[index]\n",
        "    #get number from random number tensor\n",
        "    number = self.numbers[index]\n",
        "    #one hot encoding number\n",
        "    num_onehot = F.one_hot(number, num_classes = 10).squeeze().float()\n",
        "    #dictionary with input and target\n",
        "    return {'input': [img.to(device), num_onehot.to(device)], 'target':[label, label + number.item()]}\n",
        "\n",
        "  def __len__(self):\n",
        "    return len(self.mnist)"
      ],
      "execution_count": null,
      "outputs": []
    },
    {
      "cell_type": "code",
      "metadata": {
        "id": "jafwxHfZRm_8"
      },
      "source": [
        "\n",
        "#instantiating dataset\n",
        "dataset = CustomDataSet(mnist_train_data)\n",
        "# NOTE :Basically this contains 60000 dictionary  of 'input':[(1x28X28),(1X10)] i.e image and one hot encoded random number\n",
        "                                                    # target:[int ,int] i.e label of image and label+random number\n",
        "\n",
        "#instantiating data loader with batch size 10\n",
        "data_loader = DataLoader(dataset, batch_size=10, shuffle=True)\n",
        "\n",
        "#data_loader =dataset divded into batches of 10 input \n"
      ],
      "execution_count": null,
      "outputs": []
    },
    {
      "cell_type": "code",
      "metadata": {
        "id": "uPS96TSEdt2m"
      },
      "source": [
        ""
      ],
      "execution_count": null,
      "outputs": []
    },
    {
      "cell_type": "code",
      "metadata": {
        "colab": {
          "base_uri": "https://localhost:8080/"
        },
        "id": "-oGY52XgRpS0",
        "outputId": "897c49f5-c7cf-4665-eebe-701b10d83a60"
      },
      "source": [
        "#get batch from data leader\n",
        "batch = next(iter(data_loader))\n",
        "inputs, targets = batch['input'], batch['target']\n",
        "print(\"Image batch {0}, One-hot encoded Number {1}\\n\\\n",
        "Handwritten digit label {2}, Sum of number and digit {3}\".format(inputs[0].shape, inputs[1].shape, targets[0].shape, targets[1].shape))"
      ],
      "execution_count": null,
      "outputs": [
        {
          "output_type": "stream",
          "text": [
            "Image batch torch.Size([10, 1, 28, 28]), One-hot encoded Number torch.Size([10, 10])\n",
            "Handwritten digit label torch.Size([10]), Sum of number and digit torch.Size([10])\n"
          ],
          "name": "stdout"
        }
      ]
    },
    {
      "cell_type": "code",
      "metadata": {
        "id": "GrpAJ06ddeWZ"
      },
      "source": [
        "# LETS CREATE TRAIN AND TEST LOADER\n",
        "#STEP 1: Download data \n",
        "#STEP 2: pass downloaded data through CustomDataSet\n",
        "#STEP 3: dataloader\n",
        "#TRAINLOADER \n",
        "train_transforms = transforms.Compose([\n",
        "                                       transforms.ToTensor(),\n",
        "                                       #transforms.RandomRotation((-7.0, 7.0), fill=(1,)),\n",
        "                                       #transforms.Normalize((0.1307,), (0.3081,)) # The mean and std have to be sequences (e.g., tuples), therefore you should add a comma after the values. \n",
        "                                       # Note the difference between (0.1307) and (0.1307,)\n",
        "                                       ])\n",
        "\n",
        "# Test Phase transformations\n",
        "test_transforms = transforms.Compose([\n",
        "                                       transforms.ToTensor(),\n",
        "                                       #transforms.Normalize((0.1307,), (0.3081,))\n",
        "                                       ])\n"
      ],
      "execution_count": null,
      "outputs": []
    },
    {
      "cell_type": "code",
      "metadata": {
        "id": "gVNvGd2nh8CV"
      },
      "source": [
        "mnist_train_data = datasets.MNIST(\n",
        "    root='./data/',\n",
        "    train=True,\n",
        "    download=True,\n",
        "    transform=train_transforms\n",
        ")\n",
        "train_dataset = CustomDataSet(mnist_train_data)\n",
        "train_data_loader = DataLoader(train_dataset, batch_size=256, shuffle=True)"
      ],
      "execution_count": null,
      "outputs": []
    },
    {
      "cell_type": "code",
      "metadata": {
        "id": "FBrbLsqjdxtv"
      },
      "source": [
        "mnist_test_data = datasets.MNIST(\n",
        "    root='./data/',\n",
        "    train=False,\n",
        "    download=True,\n",
        "    transform=test_transforms\n",
        ")\n",
        "test_dataset = CustomDataSet(mnist_test_data)\n",
        "test_data_loader = DataLoader(test_dataset, batch_size=256, shuffle=True)"
      ],
      "execution_count": null,
      "outputs": []
    },
    {
      "cell_type": "code",
      "metadata": {
        "colab": {
          "base_uri": "https://localhost:8080/"
        },
        "id": "U5ASRSsed65M",
        "outputId": "09d90e98-167d-4526-925c-5bb5928853d8"
      },
      "source": [
        "len(train_dataset),len(test_dataset),len(train_data_loader),len(test_data_loader)\n"
      ],
      "execution_count": null,
      "outputs": [
        {
          "output_type": "execute_result",
          "data": {
            "text/plain": [
              "(60000, 10000, 235, 40)"
            ]
          },
          "metadata": {
            "tags": []
          },
          "execution_count": 108
        }
      ]
    },
    {
      "cell_type": "code",
      "metadata": {
        "colab": {
          "base_uri": "https://localhost:8080/"
        },
        "id": "wDa8aklyeiZ7",
        "outputId": "d31dd61b-6644-406a-a4b6-f787963c3c45"
      },
      "source": [
        "batch = next(iter(test_data_loader))\n",
        "inputs, targets = batch['input'], batch['target']\n",
        "print(len(inputs[0]))\n",
        "print(\"Image batch {0}, One-hot encoded Number {1}\\n\\\n",
        "Handwritten digit label {2}, Sum of number and digit {3}\".format(inputs[0].shape, inputs[1].shape, targets[0].shape, targets[1].shape))\n",
        "print(targets[0][0])\n",
        "print(inputs[1][0])\n",
        "print(targets[1][0])\n"
      ],
      "execution_count": null,
      "outputs": [
        {
          "output_type": "stream",
          "text": [
            "256\n",
            "Image batch torch.Size([256, 1, 28, 28]), One-hot encoded Number torch.Size([256, 10])\n",
            "Handwritten digit label torch.Size([256]), Sum of number and digit torch.Size([256])\n",
            "tensor(2)\n",
            "tensor([1., 0., 0., 0., 0., 0., 0., 0., 0., 0.], device='cuda:0')\n",
            "tensor(2)\n"
          ],
          "name": "stdout"
        }
      ]
    },
    {
      "cell_type": "code",
      "metadata": {
        "id": "g__uNZkSARZ5"
      },
      "source": [
        "class Network1(nn.Module):\n",
        "  def __init__(self):\n",
        "      super().__init__()\n",
        "\n",
        "      #IMAGE 1X1X28 => 1X1X10 \n",
        "      self.input_block = nn.Sequential(\n",
        "      #INPUT 28X28X1 >>CONV 3X3X1X16 >>26X26X16\n",
        "      nn.Conv2d(1, 16, 3, bias=False), \n",
        "      nn.ReLU(),\n",
        "      nn.BatchNorm2d(16),\n",
        "      nn.Dropout2d(0.1),\n",
        "\n",
        "\n",
        "      #INPUT 26X26X16 >>CONV 3X3X16X32 >>24X24X32\n",
        "      nn.Conv2d(16, 32, 3, bias=False), \n",
        "      nn.ReLU(),\n",
        "      nn.BatchNorm2d(32),\n",
        "      nn.Dropout2d(0.1),\n",
        "      )\n",
        "        # translation layer\n",
        "\n",
        "      self.trans1 = nn.Sequential(\n",
        "      #24X24x32 >>CONV 1X1X32X8 >>24X24X8\n",
        "      nn.Conv2d(32, 8, 1, bias=False), \n",
        "      nn.ReLU(),\n",
        "      #24X24x8 >>MAXPOOL (2,2) >>12X12X8\n",
        "      nn.MaxPool2d(2, 2),\n",
        "      )\n",
        "      self.conv_block = nn.Sequential(\n",
        "      #12X12x8 >>CONV 3X3X8X16 PAD=1 >>12X12X16\n",
        "      nn.Conv2d(8, 16, 3,padding=1, bias=False),\n",
        "      nn.ReLU(),\n",
        "      nn.BatchNorm2d(16),\n",
        "      nn.Dropout2d(0.1),\n",
        "\n",
        "      #12X12x16 >>CONV 3X3X16X32 >>10X10X32\n",
        "\n",
        "      nn.Conv2d(16, 32, 3, bias=False),\n",
        "      nn.ReLU(),\n",
        "      nn.BatchNorm2d(32),\n",
        "      nn.Dropout2d(0.1),\n",
        "\n",
        "      )\n",
        "              # translation layer\n",
        "      self.trans2 = nn.Sequential(\n",
        "      #10X10x32 >>CONV 1X1X32X8 >>10X10X8\n",
        "      nn.Conv2d(32, 8, 1, bias=False), \n",
        "      nn.ReLU(),\n",
        "      #10X10x8 >>MAXPOOL (2,2) >>5X5X8\n",
        "      nn.MaxPool2d(2, 2),\n",
        "      )\n",
        "      self.conv_block2 = nn.Sequential(\n",
        "      #5X5X8 >>CONV 3X3X8X16 PAD=1 >>5X5X16\n",
        "      nn.Conv2d(8, 16, 3,padding=1,bias=False),\n",
        "      nn.ReLU(),\n",
        "      nn.BatchNorm2d(16),\n",
        "      nn.Dropout2d(0.1),  \n",
        "      #5X5X16 >>CONV 3X3X8X32 PAD=0 >>3X3X32\n",
        "      nn.Conv2d(16, 32, 3,bias=False),\n",
        "      nn.ReLU(),\n",
        "      nn.BatchNorm2d(32),\n",
        "      nn.Dropout2d(0.1),\n",
        "\n",
        "      )\n",
        "\n",
        "\n",
        "      self.avg_pool = nn.Sequential(\n",
        "      #3X3X32 >>CONV 1X1X32X10  >>3X3X10\n",
        "      nn.Conv2d(32, 10, 1, bias=False),\n",
        "      #3X3X10 >>AVG pool(3X3) >>1X1X10\n",
        "      nn.AvgPool2d(3))\n",
        "\n",
        "      ####################\n",
        "      #TEXT DATA \n",
        "      ###################  \n",
        "      #Random number block\n",
        "      #1X1X10  =>1X1X64\n",
        "      self.fc1 = nn.Linear(10, 64)\n",
        "      \n",
        "      #concated fc1 and flatten conv2\n",
        "      self.fc2 = nn.Linear(in_features=32*3*3 + 64, out_features=128)\n",
        "      self.fc3 = nn.Linear(in_features=128, out_features=64)\n",
        "      #self.fc4 = nn.Linear(in_features=256, out_features=64)\n",
        "\n",
        "      #output layers\n",
        "      self.out1 = nn.Linear(in_features=64, out_features=10)\n",
        "      self.out2 = nn.Linear(in_features=64, out_features=19)\n",
        "\n",
        "  def forward(self, t):\n",
        "      #unpacking image and numbers\n",
        "      images, numbers  = t\n",
        "      #IMAGE \n",
        "      x = self.input_block(images)\n",
        "      x = self.trans1(x)\n",
        "      x = self.conv_block(x)\n",
        "      x = self.trans2(x)\n",
        "      x = self.conv_block2(x)\n",
        "      x = x.reshape(-1, 32 * 3 * 3)\n",
        "      #x = self.avg_pool(x)\n",
        "      #x = x.view(-1, 10)\n",
        "      #NUMBERS\n",
        "\n",
        "      # sending random number to FC1\n",
        "      t1=x\n",
        "      t2 = self.fc1(numbers)\n",
        "      t2 = F.relu(t2)\n",
        "\n",
        "      # concatination of t1 and t2\n",
        "      t = torch.cat((t1, t2), 1)\n",
        "\n",
        "      # Propagating concatinated tensor to fully connected layers\n",
        "      t = self.fc2(t)\n",
        "      t = F.relu(t)\n",
        "\n",
        "      t = self.fc3(t)\n",
        "      t = F.relu(t)\n",
        "\n",
        "      # t = self.fc4(t)\n",
        "      # t = F.relu(t)\n",
        "\n",
        "      # Out1 Image Digit Prediction\n",
        "      o1 = self.out1(t)\n",
        "      o1 = F.softmax(o1, dim=1)\n",
        "\n",
        "      # Out2 Sum prediction\n",
        "      o2 = self.out2(t)\n",
        "      o2 = F.softmax(o2, dim=1)\n",
        "\n",
        "      return o1, o2"
      ],
      "execution_count": null,
      "outputs": []
    },
    {
      "cell_type": "code",
      "metadata": {
        "colab": {
          "base_uri": "https://localhost:8080/"
        },
        "id": "1M421RqyDCDt",
        "outputId": "422d67bf-01cb-4a63-b2a6-764d6cf395a5"
      },
      "source": [
        "model = Network1().to(device)\n",
        "print(model)"
      ],
      "execution_count": null,
      "outputs": [
        {
          "output_type": "stream",
          "text": [
            "Network1(\n",
            "  (input_block): Sequential(\n",
            "    (0): Conv2d(1, 16, kernel_size=(3, 3), stride=(1, 1), bias=False)\n",
            "    (1): ReLU()\n",
            "    (2): BatchNorm2d(16, eps=1e-05, momentum=0.1, affine=True, track_running_stats=True)\n",
            "    (3): Dropout2d(p=0.1, inplace=False)\n",
            "    (4): Conv2d(16, 32, kernel_size=(3, 3), stride=(1, 1), bias=False)\n",
            "    (5): ReLU()\n",
            "    (6): BatchNorm2d(32, eps=1e-05, momentum=0.1, affine=True, track_running_stats=True)\n",
            "    (7): Dropout2d(p=0.1, inplace=False)\n",
            "  )\n",
            "  (trans1): Sequential(\n",
            "    (0): Conv2d(32, 8, kernel_size=(1, 1), stride=(1, 1), bias=False)\n",
            "    (1): ReLU()\n",
            "    (2): MaxPool2d(kernel_size=2, stride=2, padding=0, dilation=1, ceil_mode=False)\n",
            "  )\n",
            "  (conv_block): Sequential(\n",
            "    (0): Conv2d(8, 16, kernel_size=(3, 3), stride=(1, 1), padding=(1, 1), bias=False)\n",
            "    (1): ReLU()\n",
            "    (2): BatchNorm2d(16, eps=1e-05, momentum=0.1, affine=True, track_running_stats=True)\n",
            "    (3): Dropout2d(p=0.1, inplace=False)\n",
            "    (4): Conv2d(16, 32, kernel_size=(3, 3), stride=(1, 1), bias=False)\n",
            "    (5): ReLU()\n",
            "    (6): BatchNorm2d(32, eps=1e-05, momentum=0.1, affine=True, track_running_stats=True)\n",
            "    (7): Dropout2d(p=0.1, inplace=False)\n",
            "  )\n",
            "  (trans2): Sequential(\n",
            "    (0): Conv2d(32, 8, kernel_size=(1, 1), stride=(1, 1), bias=False)\n",
            "    (1): ReLU()\n",
            "    (2): MaxPool2d(kernel_size=2, stride=2, padding=0, dilation=1, ceil_mode=False)\n",
            "  )\n",
            "  (conv_block2): Sequential(\n",
            "    (0): Conv2d(8, 16, kernel_size=(3, 3), stride=(1, 1), padding=(1, 1), bias=False)\n",
            "    (1): ReLU()\n",
            "    (2): BatchNorm2d(16, eps=1e-05, momentum=0.1, affine=True, track_running_stats=True)\n",
            "    (3): Dropout2d(p=0.1, inplace=False)\n",
            "    (4): Conv2d(16, 32, kernel_size=(3, 3), stride=(1, 1), bias=False)\n",
            "    (5): ReLU()\n",
            "    (6): BatchNorm2d(32, eps=1e-05, momentum=0.1, affine=True, track_running_stats=True)\n",
            "    (7): Dropout2d(p=0.1, inplace=False)\n",
            "  )\n",
            "  (avg_pool): Sequential(\n",
            "    (0): Conv2d(32, 10, kernel_size=(1, 1), stride=(1, 1), bias=False)\n",
            "    (1): AvgPool2d(kernel_size=3, stride=3, padding=0)\n",
            "  )\n",
            "  (fc1): Linear(in_features=10, out_features=64, bias=True)\n",
            "  (fc2): Linear(in_features=352, out_features=128, bias=True)\n",
            "  (fc3): Linear(in_features=128, out_features=64, bias=True)\n",
            "  (out1): Linear(in_features=64, out_features=10, bias=True)\n",
            "  (out2): Linear(in_features=64, out_features=19, bias=True)\n",
            ")\n"
          ],
          "name": "stdout"
        }
      ]
    },
    {
      "cell_type": "code",
      "metadata": {
        "id": "n-LaKrrKnMAq"
      },
      "source": [
        "#computing loss function for two softmax outputs\n",
        "def loss_function(outputs, t1, t2):\n",
        "  #unpacking outputs\n",
        "  o1, o2 = outputs\n",
        "  #computing cross entropy loss\n",
        "  l1=torch.nn.functional.cross_entropy(o1,t1)\n",
        "  l2=torch.nn.functional.cross_entropy(o2,t2)\n",
        "  #l1 = nn.CrossEntropyLoss()(o1, t1)\n",
        "  #l2 = nn.CrossEntropyLoss()(o2, t2)\n",
        "\n",
        "  #computing average loss\n",
        "  return l1+l2"
      ],
      "execution_count": null,
      "outputs": []
    },
    {
      "cell_type": "code",
      "metadata": {
        "id": "6xxoHB7Cjdxc"
      },
      "source": [
        "from tqdm import tqdm\n",
        "\n",
        "train_losses = []\n",
        "test_losses = []\n",
        "train_acc_image = []\n",
        "train_acc_adder = []\n",
        "test_acc = []\n",
        "\n",
        "\n",
        "\n",
        "def train(model, device, train_loader, optimizer, epoch):\n",
        "  #model.train()\n",
        "  #pbar = tqdm(train_loader)\n",
        "  correct = 0\n",
        "  digits_correct=0\n",
        "  sums_correct=0\n",
        "  processed = 0\n",
        "  #for batch_idx, batch in enumerate(pbar):\n",
        "  for batch in train_loader:\n",
        "    # get samples\n",
        "    inputs, targets = batch['input'], batch['target']\n",
        "    t1, t2 = targets[0].to(device), targets[1].to(device)\n",
        "    #data, target = data.to(device), target.to(device)\n",
        "\n",
        "    # Init\n",
        "    optimizer.zero_grad()\n",
        "    # In PyTorch, we need to set the gradients to zero before starting to do backpropragation because PyTorch accumulates the gradients on subsequent backward passes. \n",
        "    # Because of this, when you start your training loop, ideally you should zero out the gradients so that you do the parameter update correctly.\n",
        "\n",
        "    # Predict\n",
        "    preds = model(inputs)\n",
        "    loss = loss_function(preds, t1, t2)\n",
        "\n",
        "\n",
        "    # Calculate loss\n",
        "    #loss = F.nll_loss(y_pred, target)\n",
        "    train_losses.append(loss)\n",
        "\n",
        "    # Backpropagation\n",
        "    loss.backward()\n",
        "    optimizer.step()\n",
        "\n",
        "    # Update pbar-tqdm\n",
        "    digits_correct += preds[0].argmax(1).eq(t1).sum().item()\n",
        "    sums_correct += preds[1].argmax(1).eq(t2).sum().item()\n",
        "\n",
        "\n",
        "    processed += len(inputs[0])\n",
        "    #print(processed)\n",
        "    #pbar.set_description(desc= f'Loss={loss.item()} Batch_id={batch_idx}/{len(train_loader)} image_accuracy={100*digits_correct/processed:0.2f} adder_accuracy={100*sums_correct/processed:0.2f}')\n",
        "    train_acc_image.append(100*digits_correct/processed)\n",
        "    train_acc_adder.append(100*sums_correct/processed)\n",
        "    #tqdm._instances.clear()\n",
        "  # print(\"*****EPOCH SUMMARY IN TRAIN *****\")\n",
        "  # print(\"Epoch :\", epoch+1)\n",
        "  # print(\"Total images processed for the epoch\", processed)\n",
        "  # print(\"Images correct:\",digits_correct)\n",
        "  # print(\"Addition correct:\",sums_correct)\n",
        "  # print(\"Loss at the end of epoch\",train_losses[-1].item())\n",
        "  # print(\"Training Accuracy for image \",100*digits_correct/processed)\n",
        "  # print(\"Training Accuracy for Addition \",100*sums_correct/processed)\n",
        "  print(\"[TRAIN]: => loss {0}, total correct digits {1}, total correct sums {2} ,[image_accuracy]={3} , [adder_accuracy]={4} \".format(train_losses[-1].item(), digits_correct,sums_correct,\n",
        "                                                                                                                                   round((100*digits_correct/processed),2),round((100*sums_correct/processed),2)))\n",
        "  return train_losses[-1].item(),round((100*digits_correct/processed),2),round((100*sums_correct/processed),2)\n",
        "  \n",
        "\n",
        "\n",
        "\n",
        "def test(model, device, test_loader):\n",
        "    model.eval()\n",
        "    digits_correct = 0\n",
        "    sums_correct = 0\n",
        "    processed = 0\n",
        "    with torch.no_grad():\n",
        "        for batch in test_loader:\n",
        "            inputs, targets = batch['input'], batch['target']\n",
        "            t1, t2 = targets[0].to(device), targets[1].to(device)\n",
        "            preds = model(inputs)\n",
        "            loss = loss_function(preds, t1, t2)\n",
        "            test_losses.append(loss)\n",
        "            digits_correct += preds[0].argmax(1).eq(t1).sum().item()\n",
        "            sums_correct += preds[1].argmax(1).eq(t2).sum().item()\n",
        "            processed += len(inputs[0])\n",
        "    # print(\"*****EPOCH SUMMARY IN TEST *****\")\n",
        "    # print(\"Images correct:\",digits_correct)\n",
        "    # print(\"Addition correct:\",sums_correct)\n",
        "    # print(\"Loss at the end of epoch\",test_losses[-1].item())\n",
        "    # print(\"Total images processed for the epoch\",processed) \n",
        "    # print(\"Testing Accuracy for image \",100*digits_correct/processed)\n",
        "    # print(\"Testing  Accuracy for Addition \",100*sums_correct/processed) \n",
        "    print(\"[TEST] : => loss {0}, total correct digits {1}, total correct sums {2} ,[image_accuracy]={3} , [adder_accuracy]={4} \".format(test_losses[-1].item(), digits_correct,sums_correct,\n",
        "                                                                                                                           round((100*digits_correct/processed),2),round((100*sums_correct/processed),2)))\n",
        "    return test_losses[-1].item(),round((100*digits_correct/processed),2),round((100*sums_correct/processed),2)\n",
        "\n",
        "\n",
        "\n"
      ],
      "execution_count": null,
      "outputs": []
    },
    {
      "cell_type": "code",
      "metadata": {
        "id": "rtTqfV0gkaUl"
      },
      "source": [
        ""
      ],
      "execution_count": null,
      "outputs": []
    },
    {
      "cell_type": "code",
      "metadata": {
        "colab": {
          "base_uri": "https://localhost:8080/"
        },
        "id": "GMDWl_sujd_H",
        "outputId": "f8039fe6-f167-49d3-93a1-59fba965c543"
      },
      "source": [
        "model = Network1().to(device)\n",
        "optimizer = optim.SGD(model.parameters(), lr=0.001, momentum=0.9)\n",
        "#optimiser = optim.Adam(model.parameters(), lr=0.01)\n",
        "EPOCHS = 5\n",
        "train_loss_per_epoch=[]\n",
        "train_image_acc_per_epoch=[]\n",
        "train_adder_accuracy_per_epoch=[]\n",
        "test_loss_per_epoch=[]\n",
        "test_image_acc_per_epoch=[]\n",
        "test_adder_accuracy_per_epoch=[]\n",
        "for epoch in range(EPOCHS):\n",
        "    print(\"EPOCH:\", epoch)\n",
        "    train_epoch_loss,train_image_accuracy,train_adder_accuracy=train(model, device, train_data_loader, optimizer, epoch)\n",
        "    train_loss_per_epoch.append(train_epoch_loss)\n",
        "    train_image_acc_per_epoch.append(train_image_accuracy)\n",
        "    train_adder_accuracy_per_epoch.append(train_adder_accuracy)\n",
        "\n",
        "    test_epoch_loss,test_image_accuracy,test_adder_accuracy=test(model, device, test_data_loader)\n",
        "    test_loss_per_epoch.append(test_epoch_loss)\n",
        "    test_image_acc_per_epoch.append(test_image_accuracy)\n",
        "    test_adder_accuracy_per_epoch.append(test_adder_accuracy)"
      ],
      "execution_count": null,
      "outputs": [
        {
          "output_type": "stream",
          "text": [
            "EPOCH: 0\n",
            "[TRAIN]: => loss 5.244495391845703, total correct digits 7193, total correct sums 4597 ,[image_accuracy]=11.99 , [adder_accuracy]=7.66 \n",
            "[TEST] : => loss 5.239509582519531, total correct digits 1679, total correct sums 832 ,[image_accuracy]=16.79 , [adder_accuracy]=8.32 \n",
            "EPOCH: 1\n",
            "[TRAIN]: => loss 5.2393269538879395, total correct digits 11455, total correct sums 4956 ,[image_accuracy]=19.09 , [adder_accuracy]=8.26 \n",
            "[TEST] : => loss 5.242795944213867, total correct digits 2208, total correct sums 927 ,[image_accuracy]=22.08 , [adder_accuracy]=9.27 \n",
            "EPOCH: 2\n",
            "[TRAIN]: => loss 4.824916839599609, total correct digits 15437, total correct sums 5451 ,[image_accuracy]=25.73 , [adder_accuracy]=9.09 \n",
            "[TEST] : => loss 4.738735675811768, total correct digits 5340, total correct sums 915 ,[image_accuracy]=53.4 , [adder_accuracy]=9.15 \n",
            "EPOCH: 3\n",
            "[TRAIN]: => loss 4.5875749588012695, total correct digits 40876, total correct sums 6006 ,[image_accuracy]=68.13 , [adder_accuracy]=10.01 \n",
            "[TEST] : => loss 4.559754371643066, total correct digits 7341, total correct sums 964 ,[image_accuracy]=73.41 , [adder_accuracy]=9.64 \n",
            "EPOCH: 4\n",
            "[TRAIN]: => loss 4.6146979331970215, total correct digits 44636, total correct sums 6062 ,[image_accuracy]=74.39 , [adder_accuracy]=10.1 \n",
            "[TEST] : => loss 4.576569557189941, total correct digits 7622, total correct sums 948 ,[image_accuracy]=76.22 , [adder_accuracy]=9.48 \n"
          ],
          "name": "stdout"
        }
      ]
    },
    {
      "cell_type": "code",
      "metadata": {
        "id": "1Ce5qsNmobg_"
      },
      "source": [
        "import seaborn as sns\n",
        "import matplotlib.pyplot as plt\n",
        "sns.set()\n",
        "plt.style.use(\"dark_background\")\n",
        "\n",
        "fig, axs = plt.subplots(3,2,figsize=(15,10))\n",
        "axs[0, 0].plot(train_loss_per_epoch)\n",
        "axs[0, 0].set_title(\"Training Loss\")\n",
        "axs[0, 1].plot(train_loss_per_epoch)\n",
        "axs[0, 1].set_title(\"Test Loss\")\n",
        "axs[1, 0].plot(train_image_acc_per_epoch)\n",
        "axs[1, 0].set_title(\"Training Accuracy Image\")\n",
        "axs[1, 1].plot(test_image_acc_per_epoch)\n",
        "axs[1, 1].set_title(\"Test Accuracy Image\")\n",
        "axs[2, 0].plot(train_adder_accuracy_per_epoch)\n",
        "axs[2, 0].set_title(\"Training Accuracy Image\")\n",
        "axs[2, 1].plot(test_adder_accuracy_per_epoch)\n",
        "axs[2, 1].set_title(\"Test Accuracy Image\")\n",
        "plt.show()"
      ],
      "execution_count": null,
      "outputs": []
    },
    {
      "cell_type": "code",
      "metadata": {
        "id": "--ixC9AYacU1"
      },
      "source": [
        ""
      ],
      "execution_count": null,
      "outputs": []
    },
    {
      "cell_type": "code",
      "metadata": {
        "id": "r3KOpPCIacpy"
      },
      "source": [
        ""
      ],
      "execution_count": null,
      "outputs": []
    },
    {
      "cell_type": "code",
      "metadata": {
        "id": "C5mgy5W0acw1"
      },
      "source": [
        ""
      ],
      "execution_count": null,
      "outputs": []
    },
    {
      "cell_type": "code",
      "metadata": {
        "id": "6Pgyqugyaczw"
      },
      "source": [
        ""
      ],
      "execution_count": null,
      "outputs": []
    },
    {
      "cell_type": "code",
      "metadata": {
        "id": "bPLRaj4Uac19"
      },
      "source": [
        ""
      ],
      "execution_count": null,
      "outputs": []
    },
    {
      "cell_type": "code",
      "metadata": {
        "id": "LwLkgfM5ac5S"
      },
      "source": [
        ""
      ],
      "execution_count": null,
      "outputs": []
    },
    {
      "cell_type": "code",
      "metadata": {
        "id": "YwLyNRHRGAsN"
      },
      "source": [
        ""
      ],
      "execution_count": null,
      "outputs": []
    }
  ]
}