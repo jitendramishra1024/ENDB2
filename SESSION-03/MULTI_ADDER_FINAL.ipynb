{
  "nbformat": 4,
  "nbformat_minor": 0,
  "metadata": {
    "colab": {
      "name": "MULTI_ADDER_FINAL.ipynb",
      "provenance": [],
      "collapsed_sections": []
    },
    "kernelspec": {
      "name": "python3",
      "display_name": "Python 3"
    },
    "language_info": {
      "name": "python"
    },
    "accelerator": "GPU",
    "widgets": {
      "application/vnd.jupyter.widget-state+json": {
        "a429d9cddf104b7485294dcb6acf3c1b": {
          "model_module": "@jupyter-widgets/controls",
          "model_name": "HBoxModel",
          "state": {
            "_view_name": "HBoxView",
            "_dom_classes": [],
            "_model_name": "HBoxModel",
            "_view_module": "@jupyter-widgets/controls",
            "_model_module_version": "1.5.0",
            "_view_count": null,
            "_view_module_version": "1.5.0",
            "box_style": "",
            "layout": "IPY_MODEL_3e1f708494314278adf05837e5238ab6",
            "_model_module": "@jupyter-widgets/controls",
            "children": [
              "IPY_MODEL_d3875d84a9ea4452b4e0b04103689692",
              "IPY_MODEL_2761762cec854ba5b0d8d0d95496e5b2"
            ]
          }
        },
        "3e1f708494314278adf05837e5238ab6": {
          "model_module": "@jupyter-widgets/base",
          "model_name": "LayoutModel",
          "state": {
            "_view_name": "LayoutView",
            "grid_template_rows": null,
            "right": null,
            "justify_content": null,
            "_view_module": "@jupyter-widgets/base",
            "overflow": null,
            "_model_module_version": "1.2.0",
            "_view_count": null,
            "flex_flow": null,
            "width": null,
            "min_width": null,
            "border": null,
            "align_items": null,
            "bottom": null,
            "_model_module": "@jupyter-widgets/base",
            "top": null,
            "grid_column": null,
            "overflow_y": null,
            "overflow_x": null,
            "grid_auto_flow": null,
            "grid_area": null,
            "grid_template_columns": null,
            "flex": null,
            "_model_name": "LayoutModel",
            "justify_items": null,
            "grid_row": null,
            "max_height": null,
            "align_content": null,
            "visibility": null,
            "align_self": null,
            "height": null,
            "min_height": null,
            "padding": null,
            "grid_auto_rows": null,
            "grid_gap": null,
            "max_width": null,
            "order": null,
            "_view_module_version": "1.2.0",
            "grid_template_areas": null,
            "object_position": null,
            "object_fit": null,
            "grid_auto_columns": null,
            "margin": null,
            "display": null,
            "left": null
          }
        },
        "d3875d84a9ea4452b4e0b04103689692": {
          "model_module": "@jupyter-widgets/controls",
          "model_name": "FloatProgressModel",
          "state": {
            "_view_name": "ProgressView",
            "style": "IPY_MODEL_7cb477cba36d488b805e320661fd4bcd",
            "_dom_classes": [],
            "description": "",
            "_model_name": "FloatProgressModel",
            "bar_style": "success",
            "max": 9912422,
            "_view_module": "@jupyter-widgets/controls",
            "_model_module_version": "1.5.0",
            "value": 9912422,
            "_view_count": null,
            "_view_module_version": "1.5.0",
            "orientation": "horizontal",
            "min": 0,
            "description_tooltip": null,
            "_model_module": "@jupyter-widgets/controls",
            "layout": "IPY_MODEL_fa81be35c8484b588575d6559d1c0d62"
          }
        },
        "2761762cec854ba5b0d8d0d95496e5b2": {
          "model_module": "@jupyter-widgets/controls",
          "model_name": "HTMLModel",
          "state": {
            "_view_name": "HTMLView",
            "style": "IPY_MODEL_0c499a22b6b84dab9d14397fed22d834",
            "_dom_classes": [],
            "description": "",
            "_model_name": "HTMLModel",
            "placeholder": "​",
            "_view_module": "@jupyter-widgets/controls",
            "_model_module_version": "1.5.0",
            "value": " 9913344/? [05:33&lt;00:00, 29704.64it/s]",
            "_view_count": null,
            "_view_module_version": "1.5.0",
            "description_tooltip": null,
            "_model_module": "@jupyter-widgets/controls",
            "layout": "IPY_MODEL_2f217cc5d8ea4d8bbc2b90e2da49f1c7"
          }
        },
        "7cb477cba36d488b805e320661fd4bcd": {
          "model_module": "@jupyter-widgets/controls",
          "model_name": "ProgressStyleModel",
          "state": {
            "_view_name": "StyleView",
            "_model_name": "ProgressStyleModel",
            "description_width": "initial",
            "_view_module": "@jupyter-widgets/base",
            "_model_module_version": "1.5.0",
            "_view_count": null,
            "_view_module_version": "1.2.0",
            "bar_color": null,
            "_model_module": "@jupyter-widgets/controls"
          }
        },
        "fa81be35c8484b588575d6559d1c0d62": {
          "model_module": "@jupyter-widgets/base",
          "model_name": "LayoutModel",
          "state": {
            "_view_name": "LayoutView",
            "grid_template_rows": null,
            "right": null,
            "justify_content": null,
            "_view_module": "@jupyter-widgets/base",
            "overflow": null,
            "_model_module_version": "1.2.0",
            "_view_count": null,
            "flex_flow": null,
            "width": null,
            "min_width": null,
            "border": null,
            "align_items": null,
            "bottom": null,
            "_model_module": "@jupyter-widgets/base",
            "top": null,
            "grid_column": null,
            "overflow_y": null,
            "overflow_x": null,
            "grid_auto_flow": null,
            "grid_area": null,
            "grid_template_columns": null,
            "flex": null,
            "_model_name": "LayoutModel",
            "justify_items": null,
            "grid_row": null,
            "max_height": null,
            "align_content": null,
            "visibility": null,
            "align_self": null,
            "height": null,
            "min_height": null,
            "padding": null,
            "grid_auto_rows": null,
            "grid_gap": null,
            "max_width": null,
            "order": null,
            "_view_module_version": "1.2.0",
            "grid_template_areas": null,
            "object_position": null,
            "object_fit": null,
            "grid_auto_columns": null,
            "margin": null,
            "display": null,
            "left": null
          }
        },
        "0c499a22b6b84dab9d14397fed22d834": {
          "model_module": "@jupyter-widgets/controls",
          "model_name": "DescriptionStyleModel",
          "state": {
            "_view_name": "StyleView",
            "_model_name": "DescriptionStyleModel",
            "description_width": "",
            "_view_module": "@jupyter-widgets/base",
            "_model_module_version": "1.5.0",
            "_view_count": null,
            "_view_module_version": "1.2.0",
            "_model_module": "@jupyter-widgets/controls"
          }
        },
        "2f217cc5d8ea4d8bbc2b90e2da49f1c7": {
          "model_module": "@jupyter-widgets/base",
          "model_name": "LayoutModel",
          "state": {
            "_view_name": "LayoutView",
            "grid_template_rows": null,
            "right": null,
            "justify_content": null,
            "_view_module": "@jupyter-widgets/base",
            "overflow": null,
            "_model_module_version": "1.2.0",
            "_view_count": null,
            "flex_flow": null,
            "width": null,
            "min_width": null,
            "border": null,
            "align_items": null,
            "bottom": null,
            "_model_module": "@jupyter-widgets/base",
            "top": null,
            "grid_column": null,
            "overflow_y": null,
            "overflow_x": null,
            "grid_auto_flow": null,
            "grid_area": null,
            "grid_template_columns": null,
            "flex": null,
            "_model_name": "LayoutModel",
            "justify_items": null,
            "grid_row": null,
            "max_height": null,
            "align_content": null,
            "visibility": null,
            "align_self": null,
            "height": null,
            "min_height": null,
            "padding": null,
            "grid_auto_rows": null,
            "grid_gap": null,
            "max_width": null,
            "order": null,
            "_view_module_version": "1.2.0",
            "grid_template_areas": null,
            "object_position": null,
            "object_fit": null,
            "grid_auto_columns": null,
            "margin": null,
            "display": null,
            "left": null
          }
        },
        "9266a1161a2c4a9997719eddf2084304": {
          "model_module": "@jupyter-widgets/controls",
          "model_name": "HBoxModel",
          "state": {
            "_view_name": "HBoxView",
            "_dom_classes": [],
            "_model_name": "HBoxModel",
            "_view_module": "@jupyter-widgets/controls",
            "_model_module_version": "1.5.0",
            "_view_count": null,
            "_view_module_version": "1.5.0",
            "box_style": "",
            "layout": "IPY_MODEL_d5e0b1519bae47de91bec8b8d6d63ac1",
            "_model_module": "@jupyter-widgets/controls",
            "children": [
              "IPY_MODEL_d8536f68a4304609845dbef8791f89f8",
              "IPY_MODEL_74ff67c1441a4c3c938ea5c471e54186"
            ]
          }
        },
        "d5e0b1519bae47de91bec8b8d6d63ac1": {
          "model_module": "@jupyter-widgets/base",
          "model_name": "LayoutModel",
          "state": {
            "_view_name": "LayoutView",
            "grid_template_rows": null,
            "right": null,
            "justify_content": null,
            "_view_module": "@jupyter-widgets/base",
            "overflow": null,
            "_model_module_version": "1.2.0",
            "_view_count": null,
            "flex_flow": null,
            "width": null,
            "min_width": null,
            "border": null,
            "align_items": null,
            "bottom": null,
            "_model_module": "@jupyter-widgets/base",
            "top": null,
            "grid_column": null,
            "overflow_y": null,
            "overflow_x": null,
            "grid_auto_flow": null,
            "grid_area": null,
            "grid_template_columns": null,
            "flex": null,
            "_model_name": "LayoutModel",
            "justify_items": null,
            "grid_row": null,
            "max_height": null,
            "align_content": null,
            "visibility": null,
            "align_self": null,
            "height": null,
            "min_height": null,
            "padding": null,
            "grid_auto_rows": null,
            "grid_gap": null,
            "max_width": null,
            "order": null,
            "_view_module_version": "1.2.0",
            "grid_template_areas": null,
            "object_position": null,
            "object_fit": null,
            "grid_auto_columns": null,
            "margin": null,
            "display": null,
            "left": null
          }
        },
        "d8536f68a4304609845dbef8791f89f8": {
          "model_module": "@jupyter-widgets/controls",
          "model_name": "FloatProgressModel",
          "state": {
            "_view_name": "ProgressView",
            "style": "IPY_MODEL_8f2a24c042224280b405611c90f02861",
            "_dom_classes": [],
            "description": "",
            "_model_name": "FloatProgressModel",
            "bar_style": "success",
            "max": 28881,
            "_view_module": "@jupyter-widgets/controls",
            "_model_module_version": "1.5.0",
            "value": 28881,
            "_view_count": null,
            "_view_module_version": "1.5.0",
            "orientation": "horizontal",
            "min": 0,
            "description_tooltip": null,
            "_model_module": "@jupyter-widgets/controls",
            "layout": "IPY_MODEL_d0b1d0240b5b49aa8b8bd73ca1b9a853"
          }
        },
        "74ff67c1441a4c3c938ea5c471e54186": {
          "model_module": "@jupyter-widgets/controls",
          "model_name": "HTMLModel",
          "state": {
            "_view_name": "HTMLView",
            "style": "IPY_MODEL_b14d959acfa54b74bd4051db5b2adba0",
            "_dom_classes": [],
            "description": "",
            "_model_name": "HTMLModel",
            "placeholder": "​",
            "_view_module": "@jupyter-widgets/controls",
            "_model_module_version": "1.5.0",
            "value": " 29696/? [00:19&lt;00:00, 1546.88it/s]",
            "_view_count": null,
            "_view_module_version": "1.5.0",
            "description_tooltip": null,
            "_model_module": "@jupyter-widgets/controls",
            "layout": "IPY_MODEL_8e938296359b4290a959cb03a4654971"
          }
        },
        "8f2a24c042224280b405611c90f02861": {
          "model_module": "@jupyter-widgets/controls",
          "model_name": "ProgressStyleModel",
          "state": {
            "_view_name": "StyleView",
            "_model_name": "ProgressStyleModel",
            "description_width": "initial",
            "_view_module": "@jupyter-widgets/base",
            "_model_module_version": "1.5.0",
            "_view_count": null,
            "_view_module_version": "1.2.0",
            "bar_color": null,
            "_model_module": "@jupyter-widgets/controls"
          }
        },
        "d0b1d0240b5b49aa8b8bd73ca1b9a853": {
          "model_module": "@jupyter-widgets/base",
          "model_name": "LayoutModel",
          "state": {
            "_view_name": "LayoutView",
            "grid_template_rows": null,
            "right": null,
            "justify_content": null,
            "_view_module": "@jupyter-widgets/base",
            "overflow": null,
            "_model_module_version": "1.2.0",
            "_view_count": null,
            "flex_flow": null,
            "width": null,
            "min_width": null,
            "border": null,
            "align_items": null,
            "bottom": null,
            "_model_module": "@jupyter-widgets/base",
            "top": null,
            "grid_column": null,
            "overflow_y": null,
            "overflow_x": null,
            "grid_auto_flow": null,
            "grid_area": null,
            "grid_template_columns": null,
            "flex": null,
            "_model_name": "LayoutModel",
            "justify_items": null,
            "grid_row": null,
            "max_height": null,
            "align_content": null,
            "visibility": null,
            "align_self": null,
            "height": null,
            "min_height": null,
            "padding": null,
            "grid_auto_rows": null,
            "grid_gap": null,
            "max_width": null,
            "order": null,
            "_view_module_version": "1.2.0",
            "grid_template_areas": null,
            "object_position": null,
            "object_fit": null,
            "grid_auto_columns": null,
            "margin": null,
            "display": null,
            "left": null
          }
        },
        "b14d959acfa54b74bd4051db5b2adba0": {
          "model_module": "@jupyter-widgets/controls",
          "model_name": "DescriptionStyleModel",
          "state": {
            "_view_name": "StyleView",
            "_model_name": "DescriptionStyleModel",
            "description_width": "",
            "_view_module": "@jupyter-widgets/base",
            "_model_module_version": "1.5.0",
            "_view_count": null,
            "_view_module_version": "1.2.0",
            "_model_module": "@jupyter-widgets/controls"
          }
        },
        "8e938296359b4290a959cb03a4654971": {
          "model_module": "@jupyter-widgets/base",
          "model_name": "LayoutModel",
          "state": {
            "_view_name": "LayoutView",
            "grid_template_rows": null,
            "right": null,
            "justify_content": null,
            "_view_module": "@jupyter-widgets/base",
            "overflow": null,
            "_model_module_version": "1.2.0",
            "_view_count": null,
            "flex_flow": null,
            "width": null,
            "min_width": null,
            "border": null,
            "align_items": null,
            "bottom": null,
            "_model_module": "@jupyter-widgets/base",
            "top": null,
            "grid_column": null,
            "overflow_y": null,
            "overflow_x": null,
            "grid_auto_flow": null,
            "grid_area": null,
            "grid_template_columns": null,
            "flex": null,
            "_model_name": "LayoutModel",
            "justify_items": null,
            "grid_row": null,
            "max_height": null,
            "align_content": null,
            "visibility": null,
            "align_self": null,
            "height": null,
            "min_height": null,
            "padding": null,
            "grid_auto_rows": null,
            "grid_gap": null,
            "max_width": null,
            "order": null,
            "_view_module_version": "1.2.0",
            "grid_template_areas": null,
            "object_position": null,
            "object_fit": null,
            "grid_auto_columns": null,
            "margin": null,
            "display": null,
            "left": null
          }
        },
        "d001fcff6fcb4c78aca68ee89c6809ec": {
          "model_module": "@jupyter-widgets/controls",
          "model_name": "HBoxModel",
          "state": {
            "_view_name": "HBoxView",
            "_dom_classes": [],
            "_model_name": "HBoxModel",
            "_view_module": "@jupyter-widgets/controls",
            "_model_module_version": "1.5.0",
            "_view_count": null,
            "_view_module_version": "1.5.0",
            "box_style": "",
            "layout": "IPY_MODEL_e3f517f812ac4a75a77b8efd3e310a0e",
            "_model_module": "@jupyter-widgets/controls",
            "children": [
              "IPY_MODEL_f313b6f6d80f42de950ead5275babe66",
              "IPY_MODEL_912c04ef6bf44a7b9a02b91f876caa84"
            ]
          }
        },
        "e3f517f812ac4a75a77b8efd3e310a0e": {
          "model_module": "@jupyter-widgets/base",
          "model_name": "LayoutModel",
          "state": {
            "_view_name": "LayoutView",
            "grid_template_rows": null,
            "right": null,
            "justify_content": null,
            "_view_module": "@jupyter-widgets/base",
            "overflow": null,
            "_model_module_version": "1.2.0",
            "_view_count": null,
            "flex_flow": null,
            "width": null,
            "min_width": null,
            "border": null,
            "align_items": null,
            "bottom": null,
            "_model_module": "@jupyter-widgets/base",
            "top": null,
            "grid_column": null,
            "overflow_y": null,
            "overflow_x": null,
            "grid_auto_flow": null,
            "grid_area": null,
            "grid_template_columns": null,
            "flex": null,
            "_model_name": "LayoutModel",
            "justify_items": null,
            "grid_row": null,
            "max_height": null,
            "align_content": null,
            "visibility": null,
            "align_self": null,
            "height": null,
            "min_height": null,
            "padding": null,
            "grid_auto_rows": null,
            "grid_gap": null,
            "max_width": null,
            "order": null,
            "_view_module_version": "1.2.0",
            "grid_template_areas": null,
            "object_position": null,
            "object_fit": null,
            "grid_auto_columns": null,
            "margin": null,
            "display": null,
            "left": null
          }
        },
        "f313b6f6d80f42de950ead5275babe66": {
          "model_module": "@jupyter-widgets/controls",
          "model_name": "FloatProgressModel",
          "state": {
            "_view_name": "ProgressView",
            "style": "IPY_MODEL_01b1b7a72576470a893ca1876ecd6d62",
            "_dom_classes": [],
            "description": "",
            "_model_name": "FloatProgressModel",
            "bar_style": "success",
            "max": 1648877,
            "_view_module": "@jupyter-widgets/controls",
            "_model_module_version": "1.5.0",
            "value": 1648877,
            "_view_count": null,
            "_view_module_version": "1.5.0",
            "orientation": "horizontal",
            "min": 0,
            "description_tooltip": null,
            "_model_module": "@jupyter-widgets/controls",
            "layout": "IPY_MODEL_221919f68d3e49f289253033f85939f9"
          }
        },
        "912c04ef6bf44a7b9a02b91f876caa84": {
          "model_module": "@jupyter-widgets/controls",
          "model_name": "HTMLModel",
          "state": {
            "_view_name": "HTMLView",
            "style": "IPY_MODEL_fc95697bcc53496099f98c89a6d95b80",
            "_dom_classes": [],
            "description": "",
            "_model_name": "HTMLModel",
            "placeholder": "​",
            "_view_module": "@jupyter-widgets/controls",
            "_model_module_version": "1.5.0",
            "value": " 1649664/? [00:13&lt;00:00, 125446.17it/s]",
            "_view_count": null,
            "_view_module_version": "1.5.0",
            "description_tooltip": null,
            "_model_module": "@jupyter-widgets/controls",
            "layout": "IPY_MODEL_78e8b5a0a1b345c6b62953306b16be40"
          }
        },
        "01b1b7a72576470a893ca1876ecd6d62": {
          "model_module": "@jupyter-widgets/controls",
          "model_name": "ProgressStyleModel",
          "state": {
            "_view_name": "StyleView",
            "_model_name": "ProgressStyleModel",
            "description_width": "initial",
            "_view_module": "@jupyter-widgets/base",
            "_model_module_version": "1.5.0",
            "_view_count": null,
            "_view_module_version": "1.2.0",
            "bar_color": null,
            "_model_module": "@jupyter-widgets/controls"
          }
        },
        "221919f68d3e49f289253033f85939f9": {
          "model_module": "@jupyter-widgets/base",
          "model_name": "LayoutModel",
          "state": {
            "_view_name": "LayoutView",
            "grid_template_rows": null,
            "right": null,
            "justify_content": null,
            "_view_module": "@jupyter-widgets/base",
            "overflow": null,
            "_model_module_version": "1.2.0",
            "_view_count": null,
            "flex_flow": null,
            "width": null,
            "min_width": null,
            "border": null,
            "align_items": null,
            "bottom": null,
            "_model_module": "@jupyter-widgets/base",
            "top": null,
            "grid_column": null,
            "overflow_y": null,
            "overflow_x": null,
            "grid_auto_flow": null,
            "grid_area": null,
            "grid_template_columns": null,
            "flex": null,
            "_model_name": "LayoutModel",
            "justify_items": null,
            "grid_row": null,
            "max_height": null,
            "align_content": null,
            "visibility": null,
            "align_self": null,
            "height": null,
            "min_height": null,
            "padding": null,
            "grid_auto_rows": null,
            "grid_gap": null,
            "max_width": null,
            "order": null,
            "_view_module_version": "1.2.0",
            "grid_template_areas": null,
            "object_position": null,
            "object_fit": null,
            "grid_auto_columns": null,
            "margin": null,
            "display": null,
            "left": null
          }
        },
        "fc95697bcc53496099f98c89a6d95b80": {
          "model_module": "@jupyter-widgets/controls",
          "model_name": "DescriptionStyleModel",
          "state": {
            "_view_name": "StyleView",
            "_model_name": "DescriptionStyleModel",
            "description_width": "",
            "_view_module": "@jupyter-widgets/base",
            "_model_module_version": "1.5.0",
            "_view_count": null,
            "_view_module_version": "1.2.0",
            "_model_module": "@jupyter-widgets/controls"
          }
        },
        "78e8b5a0a1b345c6b62953306b16be40": {
          "model_module": "@jupyter-widgets/base",
          "model_name": "LayoutModel",
          "state": {
            "_view_name": "LayoutView",
            "grid_template_rows": null,
            "right": null,
            "justify_content": null,
            "_view_module": "@jupyter-widgets/base",
            "overflow": null,
            "_model_module_version": "1.2.0",
            "_view_count": null,
            "flex_flow": null,
            "width": null,
            "min_width": null,
            "border": null,
            "align_items": null,
            "bottom": null,
            "_model_module": "@jupyter-widgets/base",
            "top": null,
            "grid_column": null,
            "overflow_y": null,
            "overflow_x": null,
            "grid_auto_flow": null,
            "grid_area": null,
            "grid_template_columns": null,
            "flex": null,
            "_model_name": "LayoutModel",
            "justify_items": null,
            "grid_row": null,
            "max_height": null,
            "align_content": null,
            "visibility": null,
            "align_self": null,
            "height": null,
            "min_height": null,
            "padding": null,
            "grid_auto_rows": null,
            "grid_gap": null,
            "max_width": null,
            "order": null,
            "_view_module_version": "1.2.0",
            "grid_template_areas": null,
            "object_position": null,
            "object_fit": null,
            "grid_auto_columns": null,
            "margin": null,
            "display": null,
            "left": null
          }
        },
        "9e60e38c693f44599cb28e36fa3b3e75": {
          "model_module": "@jupyter-widgets/controls",
          "model_name": "HBoxModel",
          "state": {
            "_view_name": "HBoxView",
            "_dom_classes": [],
            "_model_name": "HBoxModel",
            "_view_module": "@jupyter-widgets/controls",
            "_model_module_version": "1.5.0",
            "_view_count": null,
            "_view_module_version": "1.5.0",
            "box_style": "",
            "layout": "IPY_MODEL_238ee322d4414799ad468b5b32cbb62e",
            "_model_module": "@jupyter-widgets/controls",
            "children": [
              "IPY_MODEL_1de671bda90b45508c810d72ef3222fb",
              "IPY_MODEL_ddb929fed334491991ee78deff1acd80"
            ]
          }
        },
        "238ee322d4414799ad468b5b32cbb62e": {
          "model_module": "@jupyter-widgets/base",
          "model_name": "LayoutModel",
          "state": {
            "_view_name": "LayoutView",
            "grid_template_rows": null,
            "right": null,
            "justify_content": null,
            "_view_module": "@jupyter-widgets/base",
            "overflow": null,
            "_model_module_version": "1.2.0",
            "_view_count": null,
            "flex_flow": null,
            "width": null,
            "min_width": null,
            "border": null,
            "align_items": null,
            "bottom": null,
            "_model_module": "@jupyter-widgets/base",
            "top": null,
            "grid_column": null,
            "overflow_y": null,
            "overflow_x": null,
            "grid_auto_flow": null,
            "grid_area": null,
            "grid_template_columns": null,
            "flex": null,
            "_model_name": "LayoutModel",
            "justify_items": null,
            "grid_row": null,
            "max_height": null,
            "align_content": null,
            "visibility": null,
            "align_self": null,
            "height": null,
            "min_height": null,
            "padding": null,
            "grid_auto_rows": null,
            "grid_gap": null,
            "max_width": null,
            "order": null,
            "_view_module_version": "1.2.0",
            "grid_template_areas": null,
            "object_position": null,
            "object_fit": null,
            "grid_auto_columns": null,
            "margin": null,
            "display": null,
            "left": null
          }
        },
        "1de671bda90b45508c810d72ef3222fb": {
          "model_module": "@jupyter-widgets/controls",
          "model_name": "FloatProgressModel",
          "state": {
            "_view_name": "ProgressView",
            "style": "IPY_MODEL_b3620f43f50645fcac21469abd24d647",
            "_dom_classes": [],
            "description": "",
            "_model_name": "FloatProgressModel",
            "bar_style": "success",
            "max": 4542,
            "_view_module": "@jupyter-widgets/controls",
            "_model_module_version": "1.5.0",
            "value": 4542,
            "_view_count": null,
            "_view_module_version": "1.5.0",
            "orientation": "horizontal",
            "min": 0,
            "description_tooltip": null,
            "_model_module": "@jupyter-widgets/controls",
            "layout": "IPY_MODEL_2a03b89ffa564069abc95825e085b39d"
          }
        },
        "ddb929fed334491991ee78deff1acd80": {
          "model_module": "@jupyter-widgets/controls",
          "model_name": "HTMLModel",
          "state": {
            "_view_name": "HTMLView",
            "style": "IPY_MODEL_a88cc08b5e514b548a226a6cc33c770d",
            "_dom_classes": [],
            "description": "",
            "_model_name": "HTMLModel",
            "placeholder": "​",
            "_view_module": "@jupyter-widgets/controls",
            "_model_module_version": "1.5.0",
            "value": " 5120/? [05:09&lt;00:00, 16.52it/s]",
            "_view_count": null,
            "_view_module_version": "1.5.0",
            "description_tooltip": null,
            "_model_module": "@jupyter-widgets/controls",
            "layout": "IPY_MODEL_54d47b81745942258af8b460381f1d12"
          }
        },
        "b3620f43f50645fcac21469abd24d647": {
          "model_module": "@jupyter-widgets/controls",
          "model_name": "ProgressStyleModel",
          "state": {
            "_view_name": "StyleView",
            "_model_name": "ProgressStyleModel",
            "description_width": "initial",
            "_view_module": "@jupyter-widgets/base",
            "_model_module_version": "1.5.0",
            "_view_count": null,
            "_view_module_version": "1.2.0",
            "bar_color": null,
            "_model_module": "@jupyter-widgets/controls"
          }
        },
        "2a03b89ffa564069abc95825e085b39d": {
          "model_module": "@jupyter-widgets/base",
          "model_name": "LayoutModel",
          "state": {
            "_view_name": "LayoutView",
            "grid_template_rows": null,
            "right": null,
            "justify_content": null,
            "_view_module": "@jupyter-widgets/base",
            "overflow": null,
            "_model_module_version": "1.2.0",
            "_view_count": null,
            "flex_flow": null,
            "width": null,
            "min_width": null,
            "border": null,
            "align_items": null,
            "bottom": null,
            "_model_module": "@jupyter-widgets/base",
            "top": null,
            "grid_column": null,
            "overflow_y": null,
            "overflow_x": null,
            "grid_auto_flow": null,
            "grid_area": null,
            "grid_template_columns": null,
            "flex": null,
            "_model_name": "LayoutModel",
            "justify_items": null,
            "grid_row": null,
            "max_height": null,
            "align_content": null,
            "visibility": null,
            "align_self": null,
            "height": null,
            "min_height": null,
            "padding": null,
            "grid_auto_rows": null,
            "grid_gap": null,
            "max_width": null,
            "order": null,
            "_view_module_version": "1.2.0",
            "grid_template_areas": null,
            "object_position": null,
            "object_fit": null,
            "grid_auto_columns": null,
            "margin": null,
            "display": null,
            "left": null
          }
        },
        "a88cc08b5e514b548a226a6cc33c770d": {
          "model_module": "@jupyter-widgets/controls",
          "model_name": "DescriptionStyleModel",
          "state": {
            "_view_name": "StyleView",
            "_model_name": "DescriptionStyleModel",
            "description_width": "",
            "_view_module": "@jupyter-widgets/base",
            "_model_module_version": "1.5.0",
            "_view_count": null,
            "_view_module_version": "1.2.0",
            "_model_module": "@jupyter-widgets/controls"
          }
        },
        "54d47b81745942258af8b460381f1d12": {
          "model_module": "@jupyter-widgets/base",
          "model_name": "LayoutModel",
          "state": {
            "_view_name": "LayoutView",
            "grid_template_rows": null,
            "right": null,
            "justify_content": null,
            "_view_module": "@jupyter-widgets/base",
            "overflow": null,
            "_model_module_version": "1.2.0",
            "_view_count": null,
            "flex_flow": null,
            "width": null,
            "min_width": null,
            "border": null,
            "align_items": null,
            "bottom": null,
            "_model_module": "@jupyter-widgets/base",
            "top": null,
            "grid_column": null,
            "overflow_y": null,
            "overflow_x": null,
            "grid_auto_flow": null,
            "grid_area": null,
            "grid_template_columns": null,
            "flex": null,
            "_model_name": "LayoutModel",
            "justify_items": null,
            "grid_row": null,
            "max_height": null,
            "align_content": null,
            "visibility": null,
            "align_self": null,
            "height": null,
            "min_height": null,
            "padding": null,
            "grid_auto_rows": null,
            "grid_gap": null,
            "max_width": null,
            "order": null,
            "_view_module_version": "1.2.0",
            "grid_template_areas": null,
            "object_position": null,
            "object_fit": null,
            "grid_auto_columns": null,
            "margin": null,
            "display": null,
            "left": null
          }
        }
      }
    }
  },
  "cells": [
    {
      "cell_type": "code",
      "metadata": {
        "id": "5l58lvc5i411"
      },
      "source": [
        "## IMPORT PACKAGES"
      ],
      "execution_count": 1,
      "outputs": []
    },
    {
      "cell_type": "code",
      "metadata": {
        "id": "tXrfkDbZsdF9"
      },
      "source": [
        "from __future__ import print_function\n",
        "import torch\n",
        "import torch.nn as nn\n",
        "import torch.nn.functional as F\n",
        "import torch.optim as optim\n",
        "from torchvision import datasets, transforms\n",
        "import matplotlib.pyplot as plt"
      ],
      "execution_count": 2,
      "outputs": []
    },
    {
      "cell_type": "code",
      "metadata": {
        "id": "9lCx8_CWs0V5"
      },
      "source": [
        "## DATSET EXTENSION "
      ],
      "execution_count": 3,
      "outputs": []
    },
    {
      "cell_type": "code",
      "metadata": {
        "id": "vLONAhYls4Xy"
      },
      "source": [
        "from torchvision.datasets import MNIST\n",
        "import numpy as np\n",
        "class MyDataset(MNIST):\n",
        "\n",
        "    def __init__(self, *args, **kwargs):\n",
        "        super(MyDataset, self).__init__(*args, **kwargs)\n",
        "        \n",
        "    def __getitem__(self, index):\n",
        "        img, target = super(self.__class__, self).__getitem__(index)\n",
        "        random_number = np.random.randint(low=0, high=10)\n",
        "        return (img, random_number), (target, target + random_number)"
      ],
      "execution_count": 4,
      "outputs": []
    },
    {
      "cell_type": "code",
      "metadata": {
        "id": "X-LxXdMhtDdk"
      },
      "source": [
        "## CUSTOMIZED MNIST DATASET"
      ],
      "execution_count": 5,
      "outputs": []
    },
    {
      "cell_type": "code",
      "metadata": {
        "colab": {
          "base_uri": "https://localhost:8080/",
          "height": 815,
          "referenced_widgets": [
            "a429d9cddf104b7485294dcb6acf3c1b",
            "3e1f708494314278adf05837e5238ab6",
            "d3875d84a9ea4452b4e0b04103689692",
            "2761762cec854ba5b0d8d0d95496e5b2",
            "7cb477cba36d488b805e320661fd4bcd",
            "fa81be35c8484b588575d6559d1c0d62",
            "0c499a22b6b84dab9d14397fed22d834",
            "2f217cc5d8ea4d8bbc2b90e2da49f1c7",
            "9266a1161a2c4a9997719eddf2084304",
            "d5e0b1519bae47de91bec8b8d6d63ac1",
            "d8536f68a4304609845dbef8791f89f8",
            "74ff67c1441a4c3c938ea5c471e54186",
            "8f2a24c042224280b405611c90f02861",
            "d0b1d0240b5b49aa8b8bd73ca1b9a853",
            "b14d959acfa54b74bd4051db5b2adba0",
            "8e938296359b4290a959cb03a4654971",
            "d001fcff6fcb4c78aca68ee89c6809ec",
            "e3f517f812ac4a75a77b8efd3e310a0e",
            "f313b6f6d80f42de950ead5275babe66",
            "912c04ef6bf44a7b9a02b91f876caa84",
            "01b1b7a72576470a893ca1876ecd6d62",
            "221919f68d3e49f289253033f85939f9",
            "fc95697bcc53496099f98c89a6d95b80",
            "78e8b5a0a1b345c6b62953306b16be40",
            "9e60e38c693f44599cb28e36fa3b3e75",
            "238ee322d4414799ad468b5b32cbb62e",
            "1de671bda90b45508c810d72ef3222fb",
            "ddb929fed334491991ee78deff1acd80",
            "b3620f43f50645fcac21469abd24d647",
            "2a03b89ffa564069abc95825e085b39d",
            "a88cc08b5e514b548a226a6cc33c770d",
            "54d47b81745942258af8b460381f1d12"
          ]
        },
        "id": "S1OwjeLltN48",
        "outputId": "54907432-d33a-493c-bf26-17ddb4507ee8"
      },
      "source": [
        "\n",
        "train_dataset = MyDataset('../data',train=True, download=True, transform=transforms.Compose([\n",
        "                        transforms.ToTensor(),\n",
        "                        transforms.Normalize((0.1307,), (0.3081,))\n",
        "                    ]))\n",
        "test_dataset = MyDataset('../data',train=False, download=True, transform=transforms.Compose([\n",
        "                        transforms.ToTensor(),\n",
        "                        transforms.Normalize((0.1307,), (0.3081,))\n",
        "                    ]))"
      ],
      "execution_count": 6,
      "outputs": [
        {
          "output_type": "stream",
          "text": [
            "Downloading http://yann.lecun.com/exdb/mnist/train-images-idx3-ubyte.gz\n",
            "Failed to download (trying next):\n",
            "HTTP Error 503: Service Unavailable\n",
            "\n",
            "Downloading https://ossci-datasets.s3.amazonaws.com/mnist/train-images-idx3-ubyte.gz\n",
            "Downloading https://ossci-datasets.s3.amazonaws.com/mnist/train-images-idx3-ubyte.gz to ../data/MyDataset/raw/train-images-idx3-ubyte.gz\n"
          ],
          "name": "stdout"
        },
        {
          "output_type": "display_data",
          "data": {
            "application/vnd.jupyter.widget-view+json": {
              "model_id": "a429d9cddf104b7485294dcb6acf3c1b",
              "version_minor": 0,
              "version_major": 2
            },
            "text/plain": [
              "HBox(children=(FloatProgress(value=0.0, max=9912422.0), HTML(value='')))"
            ]
          },
          "metadata": {
            "tags": []
          }
        },
        {
          "output_type": "stream",
          "text": [
            "\n",
            "Extracting ../data/MyDataset/raw/train-images-idx3-ubyte.gz to ../data/MyDataset/raw\n",
            "\n",
            "Downloading http://yann.lecun.com/exdb/mnist/train-labels-idx1-ubyte.gz\n",
            "Failed to download (trying next):\n",
            "HTTP Error 503: Service Unavailable\n",
            "\n",
            "Downloading https://ossci-datasets.s3.amazonaws.com/mnist/train-labels-idx1-ubyte.gz\n",
            "Downloading https://ossci-datasets.s3.amazonaws.com/mnist/train-labels-idx1-ubyte.gz to ../data/MyDataset/raw/train-labels-idx1-ubyte.gz\n"
          ],
          "name": "stdout"
        },
        {
          "output_type": "display_data",
          "data": {
            "application/vnd.jupyter.widget-view+json": {
              "model_id": "9266a1161a2c4a9997719eddf2084304",
              "version_minor": 0,
              "version_major": 2
            },
            "text/plain": [
              "HBox(children=(FloatProgress(value=0.0, max=28881.0), HTML(value='')))"
            ]
          },
          "metadata": {
            "tags": []
          }
        },
        {
          "output_type": "stream",
          "text": [
            "\n",
            "Extracting ../data/MyDataset/raw/train-labels-idx1-ubyte.gz to ../data/MyDataset/raw\n",
            "\n",
            "Downloading http://yann.lecun.com/exdb/mnist/t10k-images-idx3-ubyte.gz\n",
            "Failed to download (trying next):\n",
            "HTTP Error 503: Service Unavailable\n",
            "\n",
            "Downloading https://ossci-datasets.s3.amazonaws.com/mnist/t10k-images-idx3-ubyte.gz\n",
            "Downloading https://ossci-datasets.s3.amazonaws.com/mnist/t10k-images-idx3-ubyte.gz to ../data/MyDataset/raw/t10k-images-idx3-ubyte.gz\n"
          ],
          "name": "stdout"
        },
        {
          "output_type": "display_data",
          "data": {
            "application/vnd.jupyter.widget-view+json": {
              "model_id": "d001fcff6fcb4c78aca68ee89c6809ec",
              "version_minor": 0,
              "version_major": 2
            },
            "text/plain": [
              "HBox(children=(FloatProgress(value=0.0, max=1648877.0), HTML(value='')))"
            ]
          },
          "metadata": {
            "tags": []
          }
        },
        {
          "output_type": "stream",
          "text": [
            "\n",
            "Extracting ../data/MyDataset/raw/t10k-images-idx3-ubyte.gz to ../data/MyDataset/raw\n",
            "\n",
            "Downloading http://yann.lecun.com/exdb/mnist/t10k-labels-idx1-ubyte.gz\n",
            "Failed to download (trying next):\n",
            "HTTP Error 503: Service Unavailable\n",
            "\n",
            "Downloading https://ossci-datasets.s3.amazonaws.com/mnist/t10k-labels-idx1-ubyte.gz\n",
            "Downloading https://ossci-datasets.s3.amazonaws.com/mnist/t10k-labels-idx1-ubyte.gz to ../data/MyDataset/raw/t10k-labels-idx1-ubyte.gz\n"
          ],
          "name": "stdout"
        },
        {
          "output_type": "display_data",
          "data": {
            "application/vnd.jupyter.widget-view+json": {
              "model_id": "9e60e38c693f44599cb28e36fa3b3e75",
              "version_minor": 0,
              "version_major": 2
            },
            "text/plain": [
              "HBox(children=(FloatProgress(value=0.0, max=4542.0), HTML(value='')))"
            ]
          },
          "metadata": {
            "tags": []
          }
        },
        {
          "output_type": "stream",
          "text": [
            "\n",
            "Extracting ../data/MyDataset/raw/t10k-labels-idx1-ubyte.gz to ../data/MyDataset/raw\n",
            "\n",
            "Processing...\n",
            "Done!\n"
          ],
          "name": "stdout"
        },
        {
          "output_type": "stream",
          "text": [
            "/usr/local/lib/python3.7/dist-packages/torchvision/datasets/mnist.py:502: UserWarning: The given NumPy array is not writeable, and PyTorch does not support non-writeable tensors. This means you can write to the underlying (supposedly non-writeable) NumPy array using the tensor. You may want to copy the array to protect its data or make it writeable before converting it to a tensor. This type of warning will be suppressed for the rest of this program. (Triggered internally at  /pytorch/torch/csrc/utils/tensor_numpy.cpp:143.)\n",
            "  return torch.from_numpy(parsed.astype(m[2], copy=False)).view(*s)\n"
          ],
          "name": "stderr"
        }
      ]
    },
    {
      "cell_type": "code",
      "metadata": {
        "id": "_fB8NDmztOz4"
      },
      "source": [
        "## NETWORK STRUCTURE"
      ],
      "execution_count": 7,
      "outputs": []
    },
    {
      "cell_type": "code",
      "metadata": {
        "id": "lah_swdS_Cd2"
      },
      "source": [
        "class Net(nn.Module):\n",
        "    def __init__(self):\n",
        "        super(Net, self).__init__()\n",
        "        self.num_classes = 10\n",
        "        #IMAGE 1X1X28 => 1X1X10 \n",
        "        self.input_block = nn.Sequential(\n",
        "        #INPUT 28X28X1 >>CONV 3X3X1X16 >>26X26X16\n",
        "        nn.Conv2d(1, 16, 3, bias=False), \n",
        "        nn.ReLU(),\n",
        "        nn.BatchNorm2d(16),\n",
        "        nn.Dropout2d(0.1),\n",
        "\n",
        "\n",
        "        #INPUT 26X26X16 >>CONV 3X3X16X32 >>24X24X32\n",
        "        nn.Conv2d(16, 32, 3, bias=False), \n",
        "        nn.ReLU(),\n",
        "        nn.BatchNorm2d(32),\n",
        "        nn.Dropout2d(0.1),\n",
        "        )\n",
        "          # translation layer\n",
        "\n",
        "        self.trans1 = nn.Sequential(\n",
        "        #24X24x32 >>CONV 1X1X32X8 >>24X24X8\n",
        "        nn.Conv2d(32, 8, 1, bias=False), \n",
        "        nn.ReLU(),\n",
        "        #24X24x8 >>MAXPOOL (2,2) >>12X12X8\n",
        "        nn.MaxPool2d(2, 2),\n",
        "        )\n",
        "        self.conv_block = nn.Sequential(\n",
        "        #12X12x8 >>CONV 3X3X8X16 PAD=1 >>12X12X16\n",
        "        nn.Conv2d(8, 16, 3,padding=1, bias=False),\n",
        "        nn.ReLU(),\n",
        "        nn.BatchNorm2d(16),\n",
        "        nn.Dropout2d(0.1),\n",
        "\n",
        "        #12X12x16 >>CONV 3X3X16X32 >>10X10X32\n",
        "\n",
        "        nn.Conv2d(16, 32, 3, bias=False),\n",
        "        nn.ReLU(),\n",
        "        nn.BatchNorm2d(32),\n",
        "        nn.Dropout2d(0.1),\n",
        "\n",
        "        )\n",
        "                # translation layer\n",
        "        self.trans2 = nn.Sequential(\n",
        "        #10X10x32 >>CONV 1X1X32X8 >>10X10X8\n",
        "        nn.Conv2d(32, 8, 1, bias=False), \n",
        "        nn.ReLU(),\n",
        "        #10X10x8 >>MAXPOOL (2,2) >>5X5X8\n",
        "        nn.MaxPool2d(2, 2),\n",
        "        )\n",
        "        self.conv_block2 = nn.Sequential(\n",
        "        #5X5X8 >>CONV 3X3X8X16 PAD=1 >>5X5X16\n",
        "        nn.Conv2d(8, 16, 3,padding=1,bias=False),\n",
        "        nn.ReLU(),\n",
        "        nn.BatchNorm2d(16),\n",
        "        nn.Dropout2d(0.1),  \n",
        "        #5X5X16 >>CONV 3X3X8X32 PAD=0 >>3X3X32\n",
        "        nn.Conv2d(16, 32, 3,bias=False),\n",
        "        nn.ReLU(),\n",
        "        nn.BatchNorm2d(32),\n",
        "        nn.Dropout2d(0.1),\n",
        "\n",
        "        )\n",
        "\n",
        "\n",
        "        self.avg_pool = nn.Sequential(\n",
        "        #3X3X32 >>CONV 1X1X32X10  >>3X3X10\n",
        "        nn.Conv2d(32, 10, 1, bias=False),\n",
        "        #3X3X10 >>AVG pool(3X3) >>1X1X10\n",
        "        nn.AvgPool2d(3))\n",
        "\n",
        "\n",
        "        self.adder_layer1 = nn.Sequential(nn.Linear(in_features=10+10, out_features=60, bias=False),nn.BatchNorm1d(60),nn.ReLU(),nn.Dropout(0.1)) #10 from image #10 from one hot encode \n",
        "        self.adder_layer2 = nn.Sequential(nn.Linear(in_features=60, out_features=60, bias=False),nn.BatchNorm1d(60),nn.ReLU(),nn.Dropout(0.1))\n",
        "        self.adder_layer3 = nn.Sequential(nn.Linear(in_features=60, out_features=10, bias=False))\n",
        "        self.adder_layer4 = nn.Sequential(nn.Linear(in_features=60, out_features=19, bias=False))\n",
        "\n",
        "\n",
        "    def forward(self, x, y):\n",
        "        y = F.one_hot(y, num_classes=self.num_classes)\n",
        "        images=x\n",
        "        x = self.input_block(images)\n",
        "        x = self.trans1(x)\n",
        "        x = self.conv_block(x)\n",
        "        x = self.trans2(x)\n",
        "        x = self.conv_block2(x)\n",
        "        x = self.avg_pool(x)\n",
        "        x = x.view(-1, 10)\n",
        "        y = torch.cat([x, y], dim=-1)\n",
        "        y = self.adder_layer1(y)\n",
        "        y = self.adder_layer2(y)\n",
        "\n",
        "        images_out=self.adder_layer3(y)\n",
        "        digits_out=self.adder_layer4(y)\n",
        "\n",
        "        return F.log_softmax(images_out), F.log_softmax(digits_out)\n",
        "       \n",
        "\n",
        "\n",
        "\n"
      ],
      "execution_count": 8,
      "outputs": []
    },
    {
      "cell_type": "code",
      "metadata": {
        "id": "DhQZB86otWQ7"
      },
      "source": [
        "\n",
        "# class Net(nn.Module):\n",
        "#     def __init__(self, num_classes):\n",
        "#         super(Net, self).__init__()\n",
        "#         self.num_classes = num_classes\n",
        "#         self.conv1 = nn.Conv2d(1, 8, 3, padding=1) #input -? OUtput? RF\n",
        "#         self.conv2 = nn.Sequential(nn.Conv2d(8, 8, 3, padding=1),nn.BatchNorm2d(8))\n",
        "#         self.pool1 = nn.MaxPool2d(2, 2)\n",
        "#         self.conv3 = nn.Conv2d(8, 8, 3, padding=1)\n",
        "#         self.conv4 = nn.Sequential(nn.Conv2d(8, 16, 3, padding=1),nn.BatchNorm2d(16),nn.Dropout(0.23))\n",
        "#         self.pool2 = nn.MaxPool2d(2, 2)\n",
        "#         self.conv5 = nn.Conv2d(16, 32, 3)\n",
        "#         self.conv6 = nn.Conv2d(32, 32, 3)\n",
        "#         self.conv7 = nn.Conv2d(32, 10, 3)\n",
        "#         self.adder_layer1 = nn.Sequential(nn.Linear(in_features=20, out_features=60, bias=False),nn.BatchNorm1d(60),nn.ReLU(),nn.Dropout(0.1))\n",
        "#         self.adder_layer2 = nn.Sequential(nn.Linear(in_features=60, out_features=60, bias=False),nn.BatchNorm1d(60),nn.ReLU(),nn.Dropout(0.1))\n",
        "#         self.adder_layer3 = nn.Sequential(nn.Linear(in_features=60, out_features=19, bias=False))\n",
        "\n",
        "\n",
        "#     def forward(self, x, y):\n",
        "#         y = F.one_hot(y, num_classes=self.num_classes)\n",
        "#         x = self.pool1(F.relu(self.conv2(F.relu(self.conv1(x)))))\n",
        "#         x = self.pool2(F.relu(self.conv4(F.relu(self.conv3(x)))))\n",
        "#         x = F.relu(self.conv6(F.relu(self.conv5(x))))\n",
        "#         x = self.conv7(x)\n",
        "#         x = x.view(-1, 10)\n",
        "#         y = torch.cat([x, y], dim=-1)\n",
        "#         y = self.adder_layer1(y)\n",
        "#         y = self.adder_layer2(y)\n",
        "#         y = self.adder_layer3(y)\n",
        "#         return F.log_softmax(x), F.log_softmax(y)"
      ],
      "execution_count": 9,
      "outputs": []
    },
    {
      "cell_type": "code",
      "metadata": {
        "id": "BxC6bDTQtXdJ"
      },
      "source": [
        "from torchsummary import summary\n",
        "use_cuda = torch.cuda.is_available()\n",
        "device = torch.device(\"cuda\" if use_cuda else \"cpu\")\n",
        "model = Net().to(device)"
      ],
      "execution_count": 10,
      "outputs": []
    },
    {
      "cell_type": "code",
      "metadata": {
        "id": "SX72pc6-tetd"
      },
      "source": [
        "## MNIST DATA LOADER"
      ],
      "execution_count": 11,
      "outputs": []
    },
    {
      "cell_type": "code",
      "metadata": {
        "id": "yM3cDxj7t5Qq"
      },
      "source": [
        "torch.manual_seed(1)\n",
        "batch_size = 256\n",
        "\n",
        "kwargs = {'num_workers': 1, 'pin_memory': True} if use_cuda else {}\n",
        "train_loader = torch.utils.data.DataLoader(train_dataset,\n",
        "    batch_size=batch_size, shuffle=True, **kwargs)\n",
        "test_loader = torch.utils.data.DataLoader(test_dataset,\n",
        "    batch_size=batch_size, shuffle=True, **kwargs)"
      ],
      "execution_count": 12,
      "outputs": []
    },
    {
      "cell_type": "code",
      "metadata": {
        "id": "hgqHqpqpt7FI"
      },
      "source": [
        "## TRAIN TEST "
      ],
      "execution_count": 13,
      "outputs": []
    },
    {
      "cell_type": "code",
      "metadata": {
        "id": "AV9epeZIQ0TS"
      },
      "source": [
        "def train(model, device, train_loader, optimizer, epoch):\n",
        "  model.train()\n",
        "  correct = 0\n",
        "  digits_correct=0\n",
        "  sums_correct=0\n",
        "  processed = 0\n",
        "  #for batch_idx, batch in enumerate(pbar):\n",
        "  for data,target in train_loader:\n",
        "    #data,target=batch \n",
        "    # get samples\n",
        "    (mnist_x, rand_num) = data\n",
        "    (mnist_y, final_y) = target\n",
        "    mnist_x, rand_num, mnist_y, final_y  = mnist_x.to(device), rand_num.to(device), mnist_y.to(device), final_y.to(device)\n",
        "\n",
        "    optimizer.zero_grad()\n",
        "    mnist_pred, final_pred = model(mnist_x, rand_num)\n",
        "    mnist_loss = F.nll_loss(mnist_pred, mnist_y)\n",
        "    adder_loss = F.nll_loss(final_pred, final_y)\n",
        "    loss = mnist_loss + adder_loss\n",
        "    loss.backward()\n",
        "    optimizer.step()\n",
        "\n",
        "    # Update pbar-tqdm\n",
        "    digits_correct += mnist_pred.argmax(1).eq(mnist_y).sum().item()\n",
        "    sums_correct += final_pred.argmax(1).eq(final_y).sum().item()\n",
        "\n",
        "  train_acc_image_epoch=round(100. * digits_correct / len(train_loader.dataset),2)\n",
        "  adder_acc_image_epoch=round(100. * sums_correct / len(train_loader.dataset),2)\n",
        "  train_loss = loss/len(train_loader.dataset)\n",
        "  #print(digits_correct,sums_correct,train_acc_image_epoch,adder_acc_image_epoch)\n",
        "\n",
        "  print(\"[TRAIN]: => loss {0}, total_correct_digits {1}, total_correct_sums {2} ,[image_accuracy]={3} , [adder_accuracy]={4} \".format(train_loss, digits_correct,sums_correct,train_acc_image_epoch,adder_acc_image_epoch))\n",
        "  return train_loss,train_acc_image_epoch,adder_acc_image_epoch"
      ],
      "execution_count": 14,
      "outputs": []
    },
    {
      "cell_type": "code",
      "metadata": {
        "id": "-e4IZE0UuKQu"
      },
      "source": [
        "#from tqdm import tqdm\n",
        "# def train(model, device, train_loader, optimizer, epoch):\n",
        "#     model.train()\n",
        "#     pbar = tqdm(train_loader)\n",
        "#     for batch_idx, (data, target) in enumerate(pbar):\n",
        "#         (mnist_x, rand_num) = data\n",
        "#         (mnist_y, final_y) = target\n",
        "#         mnist_x, rand_num, mnist_y, final_y  = mnist_x.to(device), rand_num.to(device), mnist_y.to(device), final_y.to(device)\n",
        "#         optimizer.zero_grad()\n",
        "#         mnist_pred, final_pred = model(mnist_x, rand_num)\n",
        "#         mnist_loss = F.nll_loss(mnist_pred, mnist_y)\n",
        "#         adder_loss = F.nll_loss(final_pred, final_y)\n",
        "#         loss = mnist_loss + adder_loss\n",
        "#         loss.backward()\n",
        "#         optimizer.step()\n",
        "#         pbar.set_description(desc= f'loss={loss.item()}, MNIST_LOSS={mnist_loss.item()}, ADDER_LOSS={adder_loss.item()}, batch_id={batch_idx}')\n",
        "def test(model, device, test_loader):\n",
        "    model.eval()\n",
        "    test_loss = 0\n",
        "    mnist_correct = 0\n",
        "    adder_correct = 0\n",
        "    with torch.no_grad():\n",
        "        for data, target in test_loader:\n",
        "            (mnist_x, rand_num) = data\n",
        "            (mnist_y, final_y) = target\n",
        "            mnist_x, rand_num, mnist_y, final_y  = mnist_x.to(device), rand_num.to(device), mnist_y.to(device), final_y.to(device)\n",
        "            mnist_pred, final_pred = model(mnist_x, rand_num)\n",
        "            mnist_loss = F.nll_loss(mnist_pred, mnist_y)\n",
        "            adder_loss = F.nll_loss(final_pred, final_y)\n",
        "            loss = mnist_loss + adder_loss\n",
        "            mnist_pred = torch.argmax(mnist_pred, dim=1)\n",
        "            final_pred = torch.argmax(final_pred, dim=1)\n",
        "            test_loss += loss.item()  # sum up batch loss\n",
        "            mnist_correct += mnist_pred.eq(mnist_y.view_as(mnist_pred)).sum().item()\n",
        "            adder_correct += final_pred.eq(final_y.view_as(final_pred)).sum().item()\n",
        "\n",
        "\n",
        "    test_loss /= len(test_loader.dataset)\n",
        "    test_acc_image_epoch=round(100. * mnist_correct / len(test_loader.dataset),2)\n",
        "    adder_acc_image_epoch=round(100. * adder_correct / len(test_loader.dataset),2)\n",
        "\n",
        "    print(\"[TEST]:  => loss {0}, total_correct_digits {1}, total_correct_sums {2} ,[image_accuracy]={3} , [adder_accuracy]={4} \".format(test_loss, mnist_correct,adder_correct,test_acc_image_epoch,adder_acc_image_epoch))\n",
        "    print()\n",
        "    return test_loss,test_acc_image_epoch,adder_acc_image_epoch\n"
      ],
      "execution_count": 15,
      "outputs": []
    },
    {
      "cell_type": "code",
      "metadata": {
        "id": "fT9XrvNvuZEq"
      },
      "source": [
        "## tRAIN "
      ],
      "execution_count": 16,
      "outputs": []
    },
    {
      "cell_type": "code",
      "metadata": {
        "colab": {
          "base_uri": "https://localhost:8080/"
        },
        "id": "hBg2btU5uag5",
        "outputId": "4182cf00-2a0e-49c5-94d7-f504be8f4f82"
      },
      "source": [
        "model = Net().to(device)\n",
        "optimizer = optim.SGD(model.parameters(), lr=0.008, momentum=0.9)\n",
        "\n",
        "# for epoch in range(1, 5):\n",
        "#     train(model, device, train_loader, optimizer, epoch)\n",
        "#     test(model, device, test_loader)\n",
        "\n",
        "EPOCHS = 30\n",
        "train_loss_per_epoch=[]\n",
        "train_image_acc_per_epoch=[]\n",
        "train_adder_accuracy_per_epoch=[]\n",
        "test_loss_per_epoch=[]\n",
        "test_image_acc_per_epoch=[]\n",
        "test_adder_accuracy_per_epoch=[]\n",
        "\n",
        "\n",
        "for epoch in range(EPOCHS):\n",
        "    print(\"EPOCH:\", epoch)\n",
        "    train_epoch_loss,train_image_accuracy,train_adder_accuracy=train(model, device, train_loader, optimizer, epoch)\n",
        "\n",
        "    train_loss_per_epoch.append(train_epoch_loss)\n",
        "    train_image_acc_per_epoch.append(train_image_accuracy)\n",
        "    train_adder_accuracy_per_epoch.append(train_adder_accuracy)\n",
        "\n",
        "    test_epoch_loss,test_image_accuracy,test_adder_accuracy=test(model, device, test_loader)\n",
        "\n",
        "    test_loss_per_epoch.append(test_epoch_loss)\n",
        "    test_image_acc_per_epoch.append(test_image_accuracy)\n",
        "    test_adder_accuracy_per_epoch.append(test_adder_accuracy)"
      ],
      "execution_count": 17,
      "outputs": [
        {
          "output_type": "stream",
          "text": [
            "EPOCH: 0\n"
          ],
          "name": "stdout"
        },
        {
          "output_type": "stream",
          "text": [
            "/usr/local/lib/python3.7/dist-packages/ipykernel_launcher.py:97: UserWarning: Implicit dimension choice for log_softmax has been deprecated. Change the call to include dim=X as an argument.\n"
          ],
          "name": "stderr"
        },
        {
          "output_type": "stream",
          "text": [
            "[TRAIN]: => loss 3.1884319469099864e-05, total_correct_digits 41821, total_correct_sums 19280 ,[image_accuracy]=69.7 , [adder_accuracy]=32.13 \n",
            "[TEST]:  => loss 0.005395963454246521, total_correct_digits 9603, total_correct_sums 8546 ,[image_accuracy]=96.03 , [adder_accuracy]=85.46 \n",
            "\n",
            "EPOCH: 1\n",
            "[TRAIN]: => loss 1.1291496775811538e-05, total_correct_digits 56057, total_correct_sums 48362 ,[image_accuracy]=93.43 , [adder_accuracy]=80.6 \n",
            "[TEST]:  => loss 0.0010805989176034926, total_correct_digits 9820, total_correct_sums 9790 ,[image_accuracy]=98.2 , [adder_accuracy]=97.9 \n",
            "\n",
            "EPOCH: 2\n",
            "[TRAIN]: => loss 6.986016614973778e-06, total_correct_digits 57468, total_correct_sums 54950 ,[image_accuracy]=95.78 , [adder_accuracy]=91.58 \n",
            "[TEST]:  => loss 0.0004893827345222234, total_correct_digits 9865, total_correct_sums 9850 ,[image_accuracy]=98.65 , [adder_accuracy]=98.5 \n",
            "\n",
            "EPOCH: 3\n",
            "[TRAIN]: => loss 4.391592483443674e-06, total_correct_digits 57999, total_correct_sums 56491 ,[image_accuracy]=96.67 , [adder_accuracy]=94.15 \n",
            "[TEST]:  => loss 0.0004088408936746418, total_correct_digits 9857, total_correct_sums 9862 ,[image_accuracy]=98.57 , [adder_accuracy]=98.62 \n",
            "\n",
            "EPOCH: 4\n",
            "[TRAIN]: => loss 9.983995369111653e-06, total_correct_digits 58253, total_correct_sums 57257 ,[image_accuracy]=97.09 , [adder_accuracy]=95.43 \n",
            "[TEST]:  => loss 0.00033548580855131147, total_correct_digits 9891, total_correct_sums 9885 ,[image_accuracy]=98.91 , [adder_accuracy]=98.85 \n",
            "\n",
            "EPOCH: 5\n",
            "[TRAIN]: => loss 2.3047680315357866e-06, total_correct_digits 58454, total_correct_sums 57575 ,[image_accuracy]=97.42 , [adder_accuracy]=95.96 \n",
            "[TEST]:  => loss 0.000267106029484421, total_correct_digits 9914, total_correct_sums 9906 ,[image_accuracy]=99.14 , [adder_accuracy]=99.06 \n",
            "\n",
            "EPOCH: 6\n",
            "[TRAIN]: => loss 3.5357822980586207e-06, total_correct_digits 58569, total_correct_sums 57810 ,[image_accuracy]=97.61 , [adder_accuracy]=96.35 \n",
            "[TEST]:  => loss 0.00025931689236313103, total_correct_digits 9911, total_correct_sums 9899 ,[image_accuracy]=99.11 , [adder_accuracy]=98.99 \n",
            "\n",
            "EPOCH: 7\n",
            "[TRAIN]: => loss 4.176366019237321e-06, total_correct_digits 58721, total_correct_sums 58076 ,[image_accuracy]=97.87 , [adder_accuracy]=96.79 \n",
            "[TEST]:  => loss 0.0002476936073973775, total_correct_digits 9910, total_correct_sums 9905 ,[image_accuracy]=99.1 , [adder_accuracy]=99.05 \n",
            "\n",
            "EPOCH: 8\n",
            "[TRAIN]: => loss 1.2217337825859431e-06, total_correct_digits 58807, total_correct_sums 58205 ,[image_accuracy]=98.01 , [adder_accuracy]=97.01 \n",
            "[TEST]:  => loss 0.0002625258515588939, total_correct_digits 9904, total_correct_sums 9908 ,[image_accuracy]=99.04 , [adder_accuracy]=99.08 \n",
            "\n",
            "EPOCH: 9\n",
            "[TRAIN]: => loss 2.3227682959259255e-06, total_correct_digits 58823, total_correct_sums 58313 ,[image_accuracy]=98.04 , [adder_accuracy]=97.19 \n",
            "[TEST]:  => loss 0.00023281794833019377, total_correct_digits 9916, total_correct_sums 9912 ,[image_accuracy]=99.16 , [adder_accuracy]=99.12 \n",
            "\n",
            "EPOCH: 10\n",
            "[TRAIN]: => loss 2.3844486349844374e-06, total_correct_digits 58893, total_correct_sums 58421 ,[image_accuracy]=98.16 , [adder_accuracy]=97.37 \n",
            "[TEST]:  => loss 0.0002218058274476789, total_correct_digits 9920, total_correct_sums 9919 ,[image_accuracy]=99.2 , [adder_accuracy]=99.19 \n",
            "\n",
            "EPOCH: 11\n",
            "[TRAIN]: => loss 3.3664912280073622e-06, total_correct_digits 58985, total_correct_sums 58481 ,[image_accuracy]=98.31 , [adder_accuracy]=97.47 \n",
            "[TEST]:  => loss 0.0002239311599172652, total_correct_digits 9916, total_correct_sums 9913 ,[image_accuracy]=99.16 , [adder_accuracy]=99.13 \n",
            "\n",
            "EPOCH: 12\n",
            "[TRAIN]: => loss 2.4449875581922242e-06, total_correct_digits 59029, total_correct_sums 58608 ,[image_accuracy]=98.38 , [adder_accuracy]=97.68 \n",
            "[TEST]:  => loss 0.00020177304334938526, total_correct_digits 9928, total_correct_sums 9928 ,[image_accuracy]=99.28 , [adder_accuracy]=99.28 \n",
            "\n",
            "EPOCH: 13\n",
            "[TRAIN]: => loss 5.51103369161865e-07, total_correct_digits 59017, total_correct_sums 58622 ,[image_accuracy]=98.36 , [adder_accuracy]=97.7 \n",
            "[TEST]:  => loss 0.00020676878686062993, total_correct_digits 9928, total_correct_sums 9924 ,[image_accuracy]=99.28 , [adder_accuracy]=99.24 \n",
            "\n",
            "EPOCH: 14\n",
            "[TRAIN]: => loss 1.283167080146086e-06, total_correct_digits 59059, total_correct_sums 58653 ,[image_accuracy]=98.43 , [adder_accuracy]=97.75 \n",
            "[TEST]:  => loss 0.00022760783452540636, total_correct_digits 9910, total_correct_sums 9908 ,[image_accuracy]=99.1 , [adder_accuracy]=99.08 \n",
            "\n",
            "EPOCH: 15\n",
            "[TRAIN]: => loss 9.888150316328392e-07, total_correct_digits 59130, total_correct_sums 58736 ,[image_accuracy]=98.55 , [adder_accuracy]=97.89 \n",
            "[TEST]:  => loss 0.000208331477077445, total_correct_digits 9923, total_correct_sums 9926 ,[image_accuracy]=99.23 , [adder_accuracy]=99.26 \n",
            "\n",
            "EPOCH: 16\n",
            "[TRAIN]: => loss 2.7653234155877726e-06, total_correct_digits 59136, total_correct_sums 58792 ,[image_accuracy]=98.56 , [adder_accuracy]=97.99 \n",
            "[TEST]:  => loss 0.00020873856032267214, total_correct_digits 9921, total_correct_sums 9918 ,[image_accuracy]=99.21 , [adder_accuracy]=99.18 \n",
            "\n",
            "EPOCH: 17\n",
            "[TRAIN]: => loss 1.3820008462062106e-06, total_correct_digits 59160, total_correct_sums 58798 ,[image_accuracy]=98.6 , [adder_accuracy]=98.0 \n",
            "[TEST]:  => loss 0.00021042603536043316, total_correct_digits 9920, total_correct_sums 9926 ,[image_accuracy]=99.2 , [adder_accuracy]=99.26 \n",
            "\n",
            "EPOCH: 18\n",
            "[TRAIN]: => loss 4.772619831783231e-06, total_correct_digits 59174, total_correct_sums 58884 ,[image_accuracy]=98.62 , [adder_accuracy]=98.14 \n",
            "[TEST]:  => loss 0.0002875760836992413, total_correct_digits 9929, total_correct_sums 9924 ,[image_accuracy]=99.29 , [adder_accuracy]=99.24 \n",
            "\n",
            "EPOCH: 19\n",
            "[TRAIN]: => loss 4.454646386875538e-06, total_correct_digits 59191, total_correct_sums 58875 ,[image_accuracy]=98.65 , [adder_accuracy]=98.12 \n",
            "[TEST]:  => loss 0.00021252896265359597, total_correct_digits 9921, total_correct_sums 9914 ,[image_accuracy]=99.21 , [adder_accuracy]=99.14 \n",
            "\n",
            "EPOCH: 20\n",
            "[TRAIN]: => loss 3.5047144137934083e-06, total_correct_digits 59215, total_correct_sums 58918 ,[image_accuracy]=98.69 , [adder_accuracy]=98.2 \n",
            "[TEST]:  => loss 0.00016986386370845138, total_correct_digits 9939, total_correct_sums 9943 ,[image_accuracy]=99.39 , [adder_accuracy]=99.43 \n",
            "\n",
            "EPOCH: 21\n",
            "[TRAIN]: => loss 3.129681090285885e-06, total_correct_digits 59225, total_correct_sums 58903 ,[image_accuracy]=98.71 , [adder_accuracy]=98.17 \n",
            "[TEST]:  => loss 0.00018083769406657666, total_correct_digits 9939, total_correct_sums 9935 ,[image_accuracy]=99.39 , [adder_accuracy]=99.35 \n",
            "\n",
            "EPOCH: 22\n",
            "[TRAIN]: => loss 8.911290478863521e-07, total_correct_digits 59264, total_correct_sums 58978 ,[image_accuracy]=98.77 , [adder_accuracy]=98.3 \n",
            "[TEST]:  => loss 0.00021197915228549392, total_correct_digits 9926, total_correct_sums 9926 ,[image_accuracy]=99.26 , [adder_accuracy]=99.26 \n",
            "\n",
            "EPOCH: 23\n",
            "[TRAIN]: => loss 2.512368610041449e-06, total_correct_digits 59246, total_correct_sums 58954 ,[image_accuracy]=98.74 , [adder_accuracy]=98.26 \n",
            "[TEST]:  => loss 0.00020152173477690666, total_correct_digits 9929, total_correct_sums 9927 ,[image_accuracy]=99.29 , [adder_accuracy]=99.27 \n",
            "\n",
            "EPOCH: 24\n",
            "[TRAIN]: => loss 2.6349632662459044e-06, total_correct_digits 59270, total_correct_sums 58997 ,[image_accuracy]=98.78 , [adder_accuracy]=98.33 \n",
            "[TEST]:  => loss 0.0001702698216540739, total_correct_digits 9943, total_correct_sums 9938 ,[image_accuracy]=99.43 , [adder_accuracy]=99.38 \n",
            "\n",
            "EPOCH: 25\n",
            "[TRAIN]: => loss 4.3226418711128645e-07, total_correct_digits 59272, total_correct_sums 58990 ,[image_accuracy]=98.79 , [adder_accuracy]=98.32 \n",
            "[TEST]:  => loss 0.00019872117559425532, total_correct_digits 9933, total_correct_sums 9929 ,[image_accuracy]=99.33 , [adder_accuracy]=99.29 \n",
            "\n",
            "EPOCH: 26\n",
            "[TRAIN]: => loss 1.5772432107041823e-06, total_correct_digits 59315, total_correct_sums 59038 ,[image_accuracy]=98.86 , [adder_accuracy]=98.4 \n",
            "[TEST]:  => loss 0.00019904623419279233, total_correct_digits 9930, total_correct_sums 9929 ,[image_accuracy]=99.3 , [adder_accuracy]=99.29 \n",
            "\n",
            "EPOCH: 27\n",
            "[TRAIN]: => loss 2.5473143523413455e-06, total_correct_digits 59310, total_correct_sums 59050 ,[image_accuracy]=98.85 , [adder_accuracy]=98.42 \n",
            "[TEST]:  => loss 0.00019579185374313964, total_correct_digits 9930, total_correct_sums 9925 ,[image_accuracy]=99.3 , [adder_accuracy]=99.25 \n",
            "\n",
            "EPOCH: 28\n",
            "[TRAIN]: => loss 3.408842417229607e-07, total_correct_digits 59286, total_correct_sums 59025 ,[image_accuracy]=98.81 , [adder_accuracy]=98.38 \n",
            "[TEST]:  => loss 0.0002972422127262689, total_correct_digits 9928, total_correct_sums 9922 ,[image_accuracy]=99.28 , [adder_accuracy]=99.22 \n",
            "\n",
            "EPOCH: 29\n",
            "[TRAIN]: => loss 8.151394581545901e-07, total_correct_digits 59334, total_correct_sums 59107 ,[image_accuracy]=98.89 , [adder_accuracy]=98.51 \n",
            "[TEST]:  => loss 0.00019235789654776454, total_correct_digits 9935, total_correct_sums 9936 ,[image_accuracy]=99.35 , [adder_accuracy]=99.36 \n",
            "\n"
          ],
          "name": "stdout"
        }
      ]
    },
    {
      "cell_type": "code",
      "metadata": {
        "id": "4mHN-YiZu9TC"
      },
      "source": [
        "## PLOT "
      ],
      "execution_count": 18,
      "outputs": []
    },
    {
      "cell_type": "code",
      "metadata": {
        "colab": {
          "base_uri": "https://localhost:8080/",
          "height": 610
        },
        "id": "sjPTMKpEhmlu",
        "outputId": "b1f36b18-4529-4cf9-cdd9-7a1894bbe9ee"
      },
      "source": [
        "import seaborn as sns\n",
        "import matplotlib.pyplot as plt\n",
        "sns.set()\n",
        "plt.style.use(\"dark_background\")\n",
        "\n",
        "fig, axs = plt.subplots(3,2,figsize=(15,10))\n",
        "axs[0, 0].plot(train_loss_per_epoch)\n",
        "axs[0, 0].set_title(\"Training Loss\")\n",
        "axs[0, 1].plot(train_loss_per_epoch)\n",
        "axs[0, 1].set_title(\"Test Loss\")\n",
        "axs[1, 0].plot(train_image_acc_per_epoch)\n",
        "axs[1, 0].set_title(\"Training Accuracy Image\")\n",
        "axs[1, 1].plot(test_image_acc_per_epoch)\n",
        "axs[1, 1].set_title(\"Test Accuracy Image\")\n",
        "axs[2, 0].plot(train_adder_accuracy_per_epoch)\n",
        "axs[2, 0].set_title(\"Training Accuracy Adder\")\n",
        "axs[2, 1].plot(test_adder_accuracy_per_epoch)\n",
        "axs[2, 1].set_title(\"Test Accuracy Adder\")\n",
        "plt.show()"
      ],
      "execution_count": 19,
      "outputs": [
        {
          "output_type": "display_data",
          "data": {
            "image/png": "[encoded data removed]",
            "text/plain": [
              "<Figure size 1080x720 with 6 Axes>"
            ]
          },
          "metadata": {
            "tags": []
          }
        }
      ]
    },
    {
      "cell_type": "code",
      "metadata": {
        "id": "ubLt6sOQudEw"
      },
      "source": [
        "\n",
        "def infer_and_plot_output(sample_data, model):\n",
        "    (mnist_img, adder_num), (mnist_target, adder_target) = sample_data\n",
        "    \n",
        "    with torch.no_grad():\n",
        "        mnist_pred, adder_pred = model(mnist_img, adder_num)\n",
        "        mnist_pred, adder_pred = torch.argmax(mnist_pred, dim=1), torch.argmax(adder_pred, dim=1)\n",
        "\n",
        "    num_images = 25\n",
        "    fig = plt.figure(figsize=(12, 15))\n",
        "\n",
        "    assert len(mnist_img[0] >= 25), \"need atleast 25 images in `sample_data`\"\n",
        "\n",
        "    fig.suptitle('MNIST Adder')\n",
        "\n",
        "    for idx in range(0, 25):\n",
        "\n",
        "        image = mnist_img[idx].cpu().numpy()\n",
        "        add_num = adder_num[idx].cpu().item()\n",
        "        image_target = mnist_target[idx].cpu().item()\n",
        "        add_target = adder_target[idx].cpu().item()\n",
        "        image_pred = mnist_pred[idx].cpu().item()\n",
        "        add_pred = adder_pred[idx].cpu().item()\n",
        "\n",
        "        isvalid = (image_target == image_pred) and (add_target == add_pred)\n",
        "        isvalid = str(isvalid).upper()\n",
        "\n",
        "        ax = fig.add_subplot(5, 5, idx+1)\n",
        "        ax.axis('off')\n",
        "        ax.imshow(mnist_img[idx].squeeze())\n",
        "        ax.set_title(f'target: {image_target} + {add_num} = {add_target}\\npred: {image_pred} + {add_num} = {add_pred}\\nValid: {isvalid}')\n",
        "\n",
        "    plt.show()"
      ],
      "execution_count": 20,
      "outputs": []
    },
    {
      "cell_type": "code",
      "metadata": {
        "id": "t-CkXOCWvAsV"
      },
      "source": [
        "plotting_loader = torch.utils.data.DataLoader(test_dataset, batch_size=25, shuffle=True, **kwargs)\n",
        "data = iter(plotting_loader)"
      ],
      "execution_count": 21,
      "outputs": []
    },
    {
      "cell_type": "code",
      "metadata": {
        "colab": {
          "base_uri": "https://localhost:8080/",
          "height": 958
        },
        "id": "8_GBaM9PvNNy",
        "outputId": "77c4bc06-3f54-401f-8f51-4ff8149b0f74"
      },
      "source": [
        "infer_and_plot_output(next(data),model.to('cpu'))"
      ],
      "execution_count": 22,
      "outputs": [
        {
          "output_type": "stream",
          "text": [
            "/usr/local/lib/python3.7/dist-packages/ipykernel_launcher.py:97: UserWarning: Implicit dimension choice for log_softmax has been deprecated. Change the call to include dim=X as an argument.\n"
          ],
          "name": "stderr"
        },
        {
          "output_type": "display_data",
          "data": {
            "image/png": "[encoded data removed]",
            "text/plain": [
              "<Figure size 864x1080 with 25 Axes>"
            ]
          },
          "metadata": {
            "tags": []
          }
        }
      ]
    },
    {
      "cell_type": "code",
      "metadata": {
        "id": "yyiOIEatvmkN"
      },
      "source": [
        ""
      ],
      "execution_count": 22,
      "outputs": []
    }
  ]
}