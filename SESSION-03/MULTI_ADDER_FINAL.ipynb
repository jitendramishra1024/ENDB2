{
  "nbformat": 4,
  "nbformat_minor": 0,
  "metadata": {
    "colab": {
      "name": "MULTI_ADDER_FINAL.ipynb",
      "provenance": [],
      "collapsed_sections": []
    },
    "kernelspec": {
      "name": "python3",
      "display_name": "Python 3"
    },
    "language_info": {
      "name": "python"
    },
    "accelerator": "GPU",
    "widgets": {
      "application/vnd.jupyter.widget-state+json": {
        "eb2e696bb9574d948dde1acda8e11985": {
          "model_module": "@jupyter-widgets/controls",
          "model_name": "HBoxModel",
          "state": {
            "_view_name": "HBoxView",
            "_dom_classes": [],
            "_model_name": "HBoxModel",
            "_view_module": "@jupyter-widgets/controls",
            "_model_module_version": "1.5.0",
            "_view_count": null,
            "_view_module_version": "1.5.0",
            "box_style": "",
            "layout": "IPY_MODEL_b9687e434c5c4d48b168808282e0fa44",
            "_model_module": "@jupyter-widgets/controls",
            "children": [
              "IPY_MODEL_bfc41dcf136d426f9eb899b4ea2e2b50",
              "IPY_MODEL_defe1970b15143d4bf3a6b552a382e39"
            ]
          }
        },
        "b9687e434c5c4d48b168808282e0fa44": {
          "model_module": "@jupyter-widgets/base",
          "model_name": "LayoutModel",
          "state": {
            "_view_name": "LayoutView",
            "grid_template_rows": null,
            "right": null,
            "justify_content": null,
            "_view_module": "@jupyter-widgets/base",
            "overflow": null,
            "_model_module_version": "1.2.0",
            "_view_count": null,
            "flex_flow": null,
            "width": null,
            "min_width": null,
            "border": null,
            "align_items": null,
            "bottom": null,
            "_model_module": "@jupyter-widgets/base",
            "top": null,
            "grid_column": null,
            "overflow_y": null,
            "overflow_x": null,
            "grid_auto_flow": null,
            "grid_area": null,
            "grid_template_columns": null,
            "flex": null,
            "_model_name": "LayoutModel",
            "justify_items": null,
            "grid_row": null,
            "max_height": null,
            "align_content": null,
            "visibility": null,
            "align_self": null,
            "height": null,
            "min_height": null,
            "padding": null,
            "grid_auto_rows": null,
            "grid_gap": null,
            "max_width": null,
            "order": null,
            "_view_module_version": "1.2.0",
            "grid_template_areas": null,
            "object_position": null,
            "object_fit": null,
            "grid_auto_columns": null,
            "margin": null,
            "display": null,
            "left": null
          }
        },
        "bfc41dcf136d426f9eb899b4ea2e2b50": {
          "model_module": "@jupyter-widgets/controls",
          "model_name": "FloatProgressModel",
          "state": {
            "_view_name": "ProgressView",
            "style": "IPY_MODEL_0ffa37fba7a7490496142235280a9236",
            "_dom_classes": [],
            "description": "",
            "_model_name": "FloatProgressModel",
            "bar_style": "success",
            "max": 9912422,
            "_view_module": "@jupyter-widgets/controls",
            "_model_module_version": "1.5.0",
            "value": 9912422,
            "_view_count": null,
            "_view_module_version": "1.5.0",
            "orientation": "horizontal",
            "min": 0,
            "description_tooltip": null,
            "_model_module": "@jupyter-widgets/controls",
            "layout": "IPY_MODEL_5d90c95d4a9b46c5b8972dad71913815"
          }
        },
        "defe1970b15143d4bf3a6b552a382e39": {
          "model_module": "@jupyter-widgets/controls",
          "model_name": "HTMLModel",
          "state": {
            "_view_name": "HTMLView",
            "style": "IPY_MODEL_a719413255d84e7b89793c4bf4e75f5b",
            "_dom_classes": [],
            "description": "",
            "_model_name": "HTMLModel",
            "placeholder": "​",
            "_view_module": "@jupyter-widgets/controls",
            "_model_module_version": "1.5.0",
            "value": " 9913344/? [09:14&lt;00:00, 17862.29it/s]",
            "_view_count": null,
            "_view_module_version": "1.5.0",
            "description_tooltip": null,
            "_model_module": "@jupyter-widgets/controls",
            "layout": "IPY_MODEL_04e5dc434a8e4f6f8c5b3ae3b90096f4"
          }
        },
        "0ffa37fba7a7490496142235280a9236": {
          "model_module": "@jupyter-widgets/controls",
          "model_name": "ProgressStyleModel",
          "state": {
            "_view_name": "StyleView",
            "_model_name": "ProgressStyleModel",
            "description_width": "initial",
            "_view_module": "@jupyter-widgets/base",
            "_model_module_version": "1.5.0",
            "_view_count": null,
            "_view_module_version": "1.2.0",
            "bar_color": null,
            "_model_module": "@jupyter-widgets/controls"
          }
        },
        "5d90c95d4a9b46c5b8972dad71913815": {
          "model_module": "@jupyter-widgets/base",
          "model_name": "LayoutModel",
          "state": {
            "_view_name": "LayoutView",
            "grid_template_rows": null,
            "right": null,
            "justify_content": null,
            "_view_module": "@jupyter-widgets/base",
            "overflow": null,
            "_model_module_version": "1.2.0",
            "_view_count": null,
            "flex_flow": null,
            "width": null,
            "min_width": null,
            "border": null,
            "align_items": null,
            "bottom": null,
            "_model_module": "@jupyter-widgets/base",
            "top": null,
            "grid_column": null,
            "overflow_y": null,
            "overflow_x": null,
            "grid_auto_flow": null,
            "grid_area": null,
            "grid_template_columns": null,
            "flex": null,
            "_model_name": "LayoutModel",
            "justify_items": null,
            "grid_row": null,
            "max_height": null,
            "align_content": null,
            "visibility": null,
            "align_self": null,
            "height": null,
            "min_height": null,
            "padding": null,
            "grid_auto_rows": null,
            "grid_gap": null,
            "max_width": null,
            "order": null,
            "_view_module_version": "1.2.0",
            "grid_template_areas": null,
            "object_position": null,
            "object_fit": null,
            "grid_auto_columns": null,
            "margin": null,
            "display": null,
            "left": null
          }
        },
        "a719413255d84e7b89793c4bf4e75f5b": {
          "model_module": "@jupyter-widgets/controls",
          "model_name": "DescriptionStyleModel",
          "state": {
            "_view_name": "StyleView",
            "_model_name": "DescriptionStyleModel",
            "description_width": "",
            "_view_module": "@jupyter-widgets/base",
            "_model_module_version": "1.5.0",
            "_view_count": null,
            "_view_module_version": "1.2.0",
            "_model_module": "@jupyter-widgets/controls"
          }
        },
        "04e5dc434a8e4f6f8c5b3ae3b90096f4": {
          "model_module": "@jupyter-widgets/base",
          "model_name": "LayoutModel",
          "state": {
            "_view_name": "LayoutView",
            "grid_template_rows": null,
            "right": null,
            "justify_content": null,
            "_view_module": "@jupyter-widgets/base",
            "overflow": null,
            "_model_module_version": "1.2.0",
            "_view_count": null,
            "flex_flow": null,
            "width": null,
            "min_width": null,
            "border": null,
            "align_items": null,
            "bottom": null,
            "_model_module": "@jupyter-widgets/base",
            "top": null,
            "grid_column": null,
            "overflow_y": null,
            "overflow_x": null,
            "grid_auto_flow": null,
            "grid_area": null,
            "grid_template_columns": null,
            "flex": null,
            "_model_name": "LayoutModel",
            "justify_items": null,
            "grid_row": null,
            "max_height": null,
            "align_content": null,
            "visibility": null,
            "align_self": null,
            "height": null,
            "min_height": null,
            "padding": null,
            "grid_auto_rows": null,
            "grid_gap": null,
            "max_width": null,
            "order": null,
            "_view_module_version": "1.2.0",
            "grid_template_areas": null,
            "object_position": null,
            "object_fit": null,
            "grid_auto_columns": null,
            "margin": null,
            "display": null,
            "left": null
          }
        },
        "e5d63d4f7886451eaebc8ec543fe7a88": {
          "model_module": "@jupyter-widgets/controls",
          "model_name": "HBoxModel",
          "state": {
            "_view_name": "HBoxView",
            "_dom_classes": [],
            "_model_name": "HBoxModel",
            "_view_module": "@jupyter-widgets/controls",
            "_model_module_version": "1.5.0",
            "_view_count": null,
            "_view_module_version": "1.5.0",
            "box_style": "",
            "layout": "IPY_MODEL_35980af67e7046648a037793e8c7b7b1",
            "_model_module": "@jupyter-widgets/controls",
            "children": [
              "IPY_MODEL_d2c64a6fa87043aaba030c5ef2480696",
              "IPY_MODEL_4bd68ca8c3044aaf80d5614c1ffcf2bc"
            ]
          }
        },
        "35980af67e7046648a037793e8c7b7b1": {
          "model_module": "@jupyter-widgets/base",
          "model_name": "LayoutModel",
          "state": {
            "_view_name": "LayoutView",
            "grid_template_rows": null,
            "right": null,
            "justify_content": null,
            "_view_module": "@jupyter-widgets/base",
            "overflow": null,
            "_model_module_version": "1.2.0",
            "_view_count": null,
            "flex_flow": null,
            "width": null,
            "min_width": null,
            "border": null,
            "align_items": null,
            "bottom": null,
            "_model_module": "@jupyter-widgets/base",
            "top": null,
            "grid_column": null,
            "overflow_y": null,
            "overflow_x": null,
            "grid_auto_flow": null,
            "grid_area": null,
            "grid_template_columns": null,
            "flex": null,
            "_model_name": "LayoutModel",
            "justify_items": null,
            "grid_row": null,
            "max_height": null,
            "align_content": null,
            "visibility": null,
            "align_self": null,
            "height": null,
            "min_height": null,
            "padding": null,
            "grid_auto_rows": null,
            "grid_gap": null,
            "max_width": null,
            "order": null,
            "_view_module_version": "1.2.0",
            "grid_template_areas": null,
            "object_position": null,
            "object_fit": null,
            "grid_auto_columns": null,
            "margin": null,
            "display": null,
            "left": null
          }
        },
        "d2c64a6fa87043aaba030c5ef2480696": {
          "model_module": "@jupyter-widgets/controls",
          "model_name": "FloatProgressModel",
          "state": {
            "_view_name": "ProgressView",
            "style": "IPY_MODEL_2ee361b916c346249678e1ff0ecc9036",
            "_dom_classes": [],
            "description": "",
            "_model_name": "FloatProgressModel",
            "bar_style": "success",
            "max": 28881,
            "_view_module": "@jupyter-widgets/controls",
            "_model_module_version": "1.5.0",
            "value": 28881,
            "_view_count": null,
            "_view_module_version": "1.5.0",
            "orientation": "horizontal",
            "min": 0,
            "description_tooltip": null,
            "_model_module": "@jupyter-widgets/controls",
            "layout": "IPY_MODEL_5ba6eb5cbc884fae8a234c7679cf2c3f"
          }
        },
        "4bd68ca8c3044aaf80d5614c1ffcf2bc": {
          "model_module": "@jupyter-widgets/controls",
          "model_name": "HTMLModel",
          "state": {
            "_view_name": "HTMLView",
            "style": "IPY_MODEL_2441e32c51e54426a3fa7260a5522984",
            "_dom_classes": [],
            "description": "",
            "_model_name": "HTMLModel",
            "placeholder": "​",
            "_view_module": "@jupyter-widgets/controls",
            "_model_module_version": "1.5.0",
            "value": " 29696/? [00:51&lt;00:00, 578.76it/s]",
            "_view_count": null,
            "_view_module_version": "1.5.0",
            "description_tooltip": null,
            "_model_module": "@jupyter-widgets/controls",
            "layout": "IPY_MODEL_275f98fc404e4a2281d6148f87d93d75"
          }
        },
        "2ee361b916c346249678e1ff0ecc9036": {
          "model_module": "@jupyter-widgets/controls",
          "model_name": "ProgressStyleModel",
          "state": {
            "_view_name": "StyleView",
            "_model_name": "ProgressStyleModel",
            "description_width": "initial",
            "_view_module": "@jupyter-widgets/base",
            "_model_module_version": "1.5.0",
            "_view_count": null,
            "_view_module_version": "1.2.0",
            "bar_color": null,
            "_model_module": "@jupyter-widgets/controls"
          }
        },
        "5ba6eb5cbc884fae8a234c7679cf2c3f": {
          "model_module": "@jupyter-widgets/base",
          "model_name": "LayoutModel",
          "state": {
            "_view_name": "LayoutView",
            "grid_template_rows": null,
            "right": null,
            "justify_content": null,
            "_view_module": "@jupyter-widgets/base",
            "overflow": null,
            "_model_module_version": "1.2.0",
            "_view_count": null,
            "flex_flow": null,
            "width": null,
            "min_width": null,
            "border": null,
            "align_items": null,
            "bottom": null,
            "_model_module": "@jupyter-widgets/base",
            "top": null,
            "grid_column": null,
            "overflow_y": null,
            "overflow_x": null,
            "grid_auto_flow": null,
            "grid_area": null,
            "grid_template_columns": null,
            "flex": null,
            "_model_name": "LayoutModel",
            "justify_items": null,
            "grid_row": null,
            "max_height": null,
            "align_content": null,
            "visibility": null,
            "align_self": null,
            "height": null,
            "min_height": null,
            "padding": null,
            "grid_auto_rows": null,
            "grid_gap": null,
            "max_width": null,
            "order": null,
            "_view_module_version": "1.2.0",
            "grid_template_areas": null,
            "object_position": null,
            "object_fit": null,
            "grid_auto_columns": null,
            "margin": null,
            "display": null,
            "left": null
          }
        },
        "2441e32c51e54426a3fa7260a5522984": {
          "model_module": "@jupyter-widgets/controls",
          "model_name": "DescriptionStyleModel",
          "state": {
            "_view_name": "StyleView",
            "_model_name": "DescriptionStyleModel",
            "description_width": "",
            "_view_module": "@jupyter-widgets/base",
            "_model_module_version": "1.5.0",
            "_view_count": null,
            "_view_module_version": "1.2.0",
            "_model_module": "@jupyter-widgets/controls"
          }
        },
        "275f98fc404e4a2281d6148f87d93d75": {
          "model_module": "@jupyter-widgets/base",
          "model_name": "LayoutModel",
          "state": {
            "_view_name": "LayoutView",
            "grid_template_rows": null,
            "right": null,
            "justify_content": null,
            "_view_module": "@jupyter-widgets/base",
            "overflow": null,
            "_model_module_version": "1.2.0",
            "_view_count": null,
            "flex_flow": null,
            "width": null,
            "min_width": null,
            "border": null,
            "align_items": null,
            "bottom": null,
            "_model_module": "@jupyter-widgets/base",
            "top": null,
            "grid_column": null,
            "overflow_y": null,
            "overflow_x": null,
            "grid_auto_flow": null,
            "grid_area": null,
            "grid_template_columns": null,
            "flex": null,
            "_model_name": "LayoutModel",
            "justify_items": null,
            "grid_row": null,
            "max_height": null,
            "align_content": null,
            "visibility": null,
            "align_self": null,
            "height": null,
            "min_height": null,
            "padding": null,
            "grid_auto_rows": null,
            "grid_gap": null,
            "max_width": null,
            "order": null,
            "_view_module_version": "1.2.0",
            "grid_template_areas": null,
            "object_position": null,
            "object_fit": null,
            "grid_auto_columns": null,
            "margin": null,
            "display": null,
            "left": null
          }
        },
        "52ce2175919349378c74ceb7c1519df8": {
          "model_module": "@jupyter-widgets/controls",
          "model_name": "HBoxModel",
          "state": {
            "_view_name": "HBoxView",
            "_dom_classes": [],
            "_model_name": "HBoxModel",
            "_view_module": "@jupyter-widgets/controls",
            "_model_module_version": "1.5.0",
            "_view_count": null,
            "_view_module_version": "1.5.0",
            "box_style": "",
            "layout": "IPY_MODEL_1a64bf2617924d938e5f49b9e9956ca1",
            "_model_module": "@jupyter-widgets/controls",
            "children": [
              "IPY_MODEL_a53a38e1844f48eda0aee8974bfee155",
              "IPY_MODEL_f570515492ec4ab487465bdb06c4c940"
            ]
          }
        },
        "1a64bf2617924d938e5f49b9e9956ca1": {
          "model_module": "@jupyter-widgets/base",
          "model_name": "LayoutModel",
          "state": {
            "_view_name": "LayoutView",
            "grid_template_rows": null,
            "right": null,
            "justify_content": null,
            "_view_module": "@jupyter-widgets/base",
            "overflow": null,
            "_model_module_version": "1.2.0",
            "_view_count": null,
            "flex_flow": null,
            "width": null,
            "min_width": null,
            "border": null,
            "align_items": null,
            "bottom": null,
            "_model_module": "@jupyter-widgets/base",
            "top": null,
            "grid_column": null,
            "overflow_y": null,
            "overflow_x": null,
            "grid_auto_flow": null,
            "grid_area": null,
            "grid_template_columns": null,
            "flex": null,
            "_model_name": "LayoutModel",
            "justify_items": null,
            "grid_row": null,
            "max_height": null,
            "align_content": null,
            "visibility": null,
            "align_self": null,
            "height": null,
            "min_height": null,
            "padding": null,
            "grid_auto_rows": null,
            "grid_gap": null,
            "max_width": null,
            "order": null,
            "_view_module_version": "1.2.0",
            "grid_template_areas": null,
            "object_position": null,
            "object_fit": null,
            "grid_auto_columns": null,
            "margin": null,
            "display": null,
            "left": null
          }
        },
        "a53a38e1844f48eda0aee8974bfee155": {
          "model_module": "@jupyter-widgets/controls",
          "model_name": "FloatProgressModel",
          "state": {
            "_view_name": "ProgressView",
            "style": "IPY_MODEL_5ba0f5e6e4cd47f8b5faacc0fee59d4f",
            "_dom_classes": [],
            "description": "",
            "_model_name": "FloatProgressModel",
            "bar_style": "success",
            "max": 1648877,
            "_view_module": "@jupyter-widgets/controls",
            "_model_module_version": "1.5.0",
            "value": 1648877,
            "_view_count": null,
            "_view_module_version": "1.5.0",
            "orientation": "horizontal",
            "min": 0,
            "description_tooltip": null,
            "_model_module": "@jupyter-widgets/controls",
            "layout": "IPY_MODEL_f0fdfd46464343b4a791e13dd97a42a1"
          }
        },
        "f570515492ec4ab487465bdb06c4c940": {
          "model_module": "@jupyter-widgets/controls",
          "model_name": "HTMLModel",
          "state": {
            "_view_name": "HTMLView",
            "style": "IPY_MODEL_d455d69e30c8455dbf4975df63464362",
            "_dom_classes": [],
            "description": "",
            "_model_name": "HTMLModel",
            "placeholder": "​",
            "_view_module": "@jupyter-widgets/controls",
            "_model_module_version": "1.5.0",
            "value": " 1649664/? [00:50&lt;00:00, 32480.91it/s]",
            "_view_count": null,
            "_view_module_version": "1.5.0",
            "description_tooltip": null,
            "_model_module": "@jupyter-widgets/controls",
            "layout": "IPY_MODEL_e5c1c525798c495c853efdd03a686154"
          }
        },
        "5ba0f5e6e4cd47f8b5faacc0fee59d4f": {
          "model_module": "@jupyter-widgets/controls",
          "model_name": "ProgressStyleModel",
          "state": {
            "_view_name": "StyleView",
            "_model_name": "ProgressStyleModel",
            "description_width": "initial",
            "_view_module": "@jupyter-widgets/base",
            "_model_module_version": "1.5.0",
            "_view_count": null,
            "_view_module_version": "1.2.0",
            "bar_color": null,
            "_model_module": "@jupyter-widgets/controls"
          }
        },
        "f0fdfd46464343b4a791e13dd97a42a1": {
          "model_module": "@jupyter-widgets/base",
          "model_name": "LayoutModel",
          "state": {
            "_view_name": "LayoutView",
            "grid_template_rows": null,
            "right": null,
            "justify_content": null,
            "_view_module": "@jupyter-widgets/base",
            "overflow": null,
            "_model_module_version": "1.2.0",
            "_view_count": null,
            "flex_flow": null,
            "width": null,
            "min_width": null,
            "border": null,
            "align_items": null,
            "bottom": null,
            "_model_module": "@jupyter-widgets/base",
            "top": null,
            "grid_column": null,
            "overflow_y": null,
            "overflow_x": null,
            "grid_auto_flow": null,
            "grid_area": null,
            "grid_template_columns": null,
            "flex": null,
            "_model_name": "LayoutModel",
            "justify_items": null,
            "grid_row": null,
            "max_height": null,
            "align_content": null,
            "visibility": null,
            "align_self": null,
            "height": null,
            "min_height": null,
            "padding": null,
            "grid_auto_rows": null,
            "grid_gap": null,
            "max_width": null,
            "order": null,
            "_view_module_version": "1.2.0",
            "grid_template_areas": null,
            "object_position": null,
            "object_fit": null,
            "grid_auto_columns": null,
            "margin": null,
            "display": null,
            "left": null
          }
        },
        "d455d69e30c8455dbf4975df63464362": {
          "model_module": "@jupyter-widgets/controls",
          "model_name": "DescriptionStyleModel",
          "state": {
            "_view_name": "StyleView",
            "_model_name": "DescriptionStyleModel",
            "description_width": "",
            "_view_module": "@jupyter-widgets/base",
            "_model_module_version": "1.5.0",
            "_view_count": null,
            "_view_module_version": "1.2.0",
            "_model_module": "@jupyter-widgets/controls"
          }
        },
        "e5c1c525798c495c853efdd03a686154": {
          "model_module": "@jupyter-widgets/base",
          "model_name": "LayoutModel",
          "state": {
            "_view_name": "LayoutView",
            "grid_template_rows": null,
            "right": null,
            "justify_content": null,
            "_view_module": "@jupyter-widgets/base",
            "overflow": null,
            "_model_module_version": "1.2.0",
            "_view_count": null,
            "flex_flow": null,
            "width": null,
            "min_width": null,
            "border": null,
            "align_items": null,
            "bottom": null,
            "_model_module": "@jupyter-widgets/base",
            "top": null,
            "grid_column": null,
            "overflow_y": null,
            "overflow_x": null,
            "grid_auto_flow": null,
            "grid_area": null,
            "grid_template_columns": null,
            "flex": null,
            "_model_name": "LayoutModel",
            "justify_items": null,
            "grid_row": null,
            "max_height": null,
            "align_content": null,
            "visibility": null,
            "align_self": null,
            "height": null,
            "min_height": null,
            "padding": null,
            "grid_auto_rows": null,
            "grid_gap": null,
            "max_width": null,
            "order": null,
            "_view_module_version": "1.2.0",
            "grid_template_areas": null,
            "object_position": null,
            "object_fit": null,
            "grid_auto_columns": null,
            "margin": null,
            "display": null,
            "left": null
          }
        },
        "5c238b605f2045619c758ee1d18252c3": {
          "model_module": "@jupyter-widgets/controls",
          "model_name": "HBoxModel",
          "state": {
            "_view_name": "HBoxView",
            "_dom_classes": [],
            "_model_name": "HBoxModel",
            "_view_module": "@jupyter-widgets/controls",
            "_model_module_version": "1.5.0",
            "_view_count": null,
            "_view_module_version": "1.5.0",
            "box_style": "",
            "layout": "IPY_MODEL_c8718d5543fd4835b7481612dedfb888",
            "_model_module": "@jupyter-widgets/controls",
            "children": [
              "IPY_MODEL_529428d4518f4e6d86ec24752e7a39a8",
              "IPY_MODEL_d77ee34730bf4ba8b78aefb7340e3fb8"
            ]
          }
        },
        "c8718d5543fd4835b7481612dedfb888": {
          "model_module": "@jupyter-widgets/base",
          "model_name": "LayoutModel",
          "state": {
            "_view_name": "LayoutView",
            "grid_template_rows": null,
            "right": null,
            "justify_content": null,
            "_view_module": "@jupyter-widgets/base",
            "overflow": null,
            "_model_module_version": "1.2.0",
            "_view_count": null,
            "flex_flow": null,
            "width": null,
            "min_width": null,
            "border": null,
            "align_items": null,
            "bottom": null,
            "_model_module": "@jupyter-widgets/base",
            "top": null,
            "grid_column": null,
            "overflow_y": null,
            "overflow_x": null,
            "grid_auto_flow": null,
            "grid_area": null,
            "grid_template_columns": null,
            "flex": null,
            "_model_name": "LayoutModel",
            "justify_items": null,
            "grid_row": null,
            "max_height": null,
            "align_content": null,
            "visibility": null,
            "align_self": null,
            "height": null,
            "min_height": null,
            "padding": null,
            "grid_auto_rows": null,
            "grid_gap": null,
            "max_width": null,
            "order": null,
            "_view_module_version": "1.2.0",
            "grid_template_areas": null,
            "object_position": null,
            "object_fit": null,
            "grid_auto_columns": null,
            "margin": null,
            "display": null,
            "left": null
          }
        },
        "529428d4518f4e6d86ec24752e7a39a8": {
          "model_module": "@jupyter-widgets/controls",
          "model_name": "FloatProgressModel",
          "state": {
            "_view_name": "ProgressView",
            "style": "IPY_MODEL_8a32de19762b43349409bfd6b548c3b0",
            "_dom_classes": [],
            "description": "",
            "_model_name": "FloatProgressModel",
            "bar_style": "success",
            "max": 4542,
            "_view_module": "@jupyter-widgets/controls",
            "_model_module_version": "1.5.0",
            "value": 4542,
            "_view_count": null,
            "_view_module_version": "1.5.0",
            "orientation": "horizontal",
            "min": 0,
            "description_tooltip": null,
            "_model_module": "@jupyter-widgets/controls",
            "layout": "IPY_MODEL_f6b798596f324c1b91d2cbde8d424b2b"
          }
        },
        "d77ee34730bf4ba8b78aefb7340e3fb8": {
          "model_module": "@jupyter-widgets/controls",
          "model_name": "HTMLModel",
          "state": {
            "_view_name": "HTMLView",
            "style": "IPY_MODEL_810ac410ba5d4bb3ac573ac2cebbdbc6",
            "_dom_classes": [],
            "description": "",
            "_model_name": "HTMLModel",
            "placeholder": "​",
            "_view_module": "@jupyter-widgets/controls",
            "_model_module_version": "1.5.0",
            "value": " 5120/? [08:21&lt;00:00, 10.20it/s]",
            "_view_count": null,
            "_view_module_version": "1.5.0",
            "description_tooltip": null,
            "_model_module": "@jupyter-widgets/controls",
            "layout": "IPY_MODEL_65022927f251419ea34621d70483bba3"
          }
        },
        "8a32de19762b43349409bfd6b548c3b0": {
          "model_module": "@jupyter-widgets/controls",
          "model_name": "ProgressStyleModel",
          "state": {
            "_view_name": "StyleView",
            "_model_name": "ProgressStyleModel",
            "description_width": "initial",
            "_view_module": "@jupyter-widgets/base",
            "_model_module_version": "1.5.0",
            "_view_count": null,
            "_view_module_version": "1.2.0",
            "bar_color": null,
            "_model_module": "@jupyter-widgets/controls"
          }
        },
        "f6b798596f324c1b91d2cbde8d424b2b": {
          "model_module": "@jupyter-widgets/base",
          "model_name": "LayoutModel",
          "state": {
            "_view_name": "LayoutView",
            "grid_template_rows": null,
            "right": null,
            "justify_content": null,
            "_view_module": "@jupyter-widgets/base",
            "overflow": null,
            "_model_module_version": "1.2.0",
            "_view_count": null,
            "flex_flow": null,
            "width": null,
            "min_width": null,
            "border": null,
            "align_items": null,
            "bottom": null,
            "_model_module": "@jupyter-widgets/base",
            "top": null,
            "grid_column": null,
            "overflow_y": null,
            "overflow_x": null,
            "grid_auto_flow": null,
            "grid_area": null,
            "grid_template_columns": null,
            "flex": null,
            "_model_name": "LayoutModel",
            "justify_items": null,
            "grid_row": null,
            "max_height": null,
            "align_content": null,
            "visibility": null,
            "align_self": null,
            "height": null,
            "min_height": null,
            "padding": null,
            "grid_auto_rows": null,
            "grid_gap": null,
            "max_width": null,
            "order": null,
            "_view_module_version": "1.2.0",
            "grid_template_areas": null,
            "object_position": null,
            "object_fit": null,
            "grid_auto_columns": null,
            "margin": null,
            "display": null,
            "left": null
          }
        },
        "810ac410ba5d4bb3ac573ac2cebbdbc6": {
          "model_module": "@jupyter-widgets/controls",
          "model_name": "DescriptionStyleModel",
          "state": {
            "_view_name": "StyleView",
            "_model_name": "DescriptionStyleModel",
            "description_width": "",
            "_view_module": "@jupyter-widgets/base",
            "_model_module_version": "1.5.0",
            "_view_count": null,
            "_view_module_version": "1.2.0",
            "_model_module": "@jupyter-widgets/controls"
          }
        },
        "65022927f251419ea34621d70483bba3": {
          "model_module": "@jupyter-widgets/base",
          "model_name": "LayoutModel",
          "state": {
            "_view_name": "LayoutView",
            "grid_template_rows": null,
            "right": null,
            "justify_content": null,
            "_view_module": "@jupyter-widgets/base",
            "overflow": null,
            "_model_module_version": "1.2.0",
            "_view_count": null,
            "flex_flow": null,
            "width": null,
            "min_width": null,
            "border": null,
            "align_items": null,
            "bottom": null,
            "_model_module": "@jupyter-widgets/base",
            "top": null,
            "grid_column": null,
            "overflow_y": null,
            "overflow_x": null,
            "grid_auto_flow": null,
            "grid_area": null,
            "grid_template_columns": null,
            "flex": null,
            "_model_name": "LayoutModel",
            "justify_items": null,
            "grid_row": null,
            "max_height": null,
            "align_content": null,
            "visibility": null,
            "align_self": null,
            "height": null,
            "min_height": null,
            "padding": null,
            "grid_auto_rows": null,
            "grid_gap": null,
            "max_width": null,
            "order": null,
            "_view_module_version": "1.2.0",
            "grid_template_areas": null,
            "object_position": null,
            "object_fit": null,
            "grid_auto_columns": null,
            "margin": null,
            "display": null,
            "left": null
          }
        }
      }
    }
  },
  "cells": [
    {
      "cell_type": "code",
      "metadata": {
        "id": "5l58lvc5i411"
      },
      "source": [
        "## IMPORT PACKAGES"
      ],
      "execution_count": 1,
      "outputs": []
    },
    {
      "cell_type": "code",
      "metadata": {
        "id": "tXrfkDbZsdF9"
      },
      "source": [
        "from __future__ import print_function\n",
        "import torch\n",
        "import torch.nn as nn\n",
        "import torch.nn.functional as F\n",
        "import torch.optim as optim\n",
        "from torchvision import datasets, transforms\n",
        "import matplotlib.pyplot as plt"
      ],
      "execution_count": 2,
      "outputs": []
    },
    {
      "cell_type": "code",
      "metadata": {
        "id": "9lCx8_CWs0V5"
      },
      "source": [
        "## DATSET EXTENSION "
      ],
      "execution_count": 3,
      "outputs": []
    },
    {
      "cell_type": "code",
      "metadata": {
        "id": "vLONAhYls4Xy"
      },
      "source": [
        "from torchvision.datasets import MNIST\n",
        "import numpy as np\n",
        "class MyDataset(MNIST):\n",
        "\n",
        "    def __init__(self, *args, **kwargs):\n",
        "        super(MyDataset, self).__init__(*args, **kwargs)\n",
        "        \n",
        "    def __getitem__(self, index):\n",
        "        img, target = super(self.__class__, self).__getitem__(index)\n",
        "        random_number = np.random.randint(low=0, high=10)\n",
        "        return (img, random_number), (target, target + random_number)"
      ],
      "execution_count": 4,
      "outputs": []
    },
    {
      "cell_type": "code",
      "metadata": {
        "id": "X-LxXdMhtDdk"
      },
      "source": [
        "## CUSTOMIZED MNIST DATASET"
      ],
      "execution_count": 5,
      "outputs": []
    },
    {
      "cell_type": "code",
      "metadata": {
        "colab": {
          "base_uri": "https://localhost:8080/",
          "height": 636,
          "referenced_widgets": [
            "eb2e696bb9574d948dde1acda8e11985",
            "b9687e434c5c4d48b168808282e0fa44",
            "bfc41dcf136d426f9eb899b4ea2e2b50",
            "defe1970b15143d4bf3a6b552a382e39",
            "0ffa37fba7a7490496142235280a9236",
            "5d90c95d4a9b46c5b8972dad71913815",
            "a719413255d84e7b89793c4bf4e75f5b",
            "04e5dc434a8e4f6f8c5b3ae3b90096f4",
            "e5d63d4f7886451eaebc8ec543fe7a88",
            "35980af67e7046648a037793e8c7b7b1",
            "d2c64a6fa87043aaba030c5ef2480696",
            "4bd68ca8c3044aaf80d5614c1ffcf2bc",
            "2ee361b916c346249678e1ff0ecc9036",
            "5ba6eb5cbc884fae8a234c7679cf2c3f",
            "2441e32c51e54426a3fa7260a5522984",
            "275f98fc404e4a2281d6148f87d93d75",
            "52ce2175919349378c74ceb7c1519df8",
            "1a64bf2617924d938e5f49b9e9956ca1",
            "a53a38e1844f48eda0aee8974bfee155",
            "f570515492ec4ab487465bdb06c4c940",
            "5ba0f5e6e4cd47f8b5faacc0fee59d4f",
            "f0fdfd46464343b4a791e13dd97a42a1",
            "d455d69e30c8455dbf4975df63464362",
            "e5c1c525798c495c853efdd03a686154",
            "5c238b605f2045619c758ee1d18252c3",
            "c8718d5543fd4835b7481612dedfb888",
            "529428d4518f4e6d86ec24752e7a39a8",
            "d77ee34730bf4ba8b78aefb7340e3fb8",
            "8a32de19762b43349409bfd6b548c3b0",
            "f6b798596f324c1b91d2cbde8d424b2b",
            "810ac410ba5d4bb3ac573ac2cebbdbc6",
            "65022927f251419ea34621d70483bba3"
          ]
        },
        "id": "S1OwjeLltN48",
        "outputId": "a9d526e1-f740-4eec-daed-9481bb5b34b4"
      },
      "source": [
        "\n",
        "train_dataset = MyDataset('../data',train=True, download=True, transform=transforms.Compose([\n",
        "                        transforms.ToTensor(),\n",
        "                        transforms.Normalize((0.1307,), (0.3081,))\n",
        "                    ]))\n",
        "test_dataset = MyDataset('../data',train=False, download=True, transform=transforms.Compose([\n",
        "                        transforms.ToTensor(),\n",
        "                        transforms.Normalize((0.1307,), (0.3081,))\n",
        "                    ]))"
      ],
      "execution_count": 6,
      "outputs": [
        {
          "output_type": "stream",
          "text": [
            "Downloading http://yann.lecun.com/exdb/mnist/train-images-idx3-ubyte.gz\n",
            "Downloading http://yann.lecun.com/exdb/mnist/train-images-idx3-ubyte.gz to ../data/MyDataset/raw/train-images-idx3-ubyte.gz\n",
            "Failed to download (trying next):\n",
            "HTTP Error 503: Service Unavailable\n",
            "\n",
            "Downloading https://ossci-datasets.s3.amazonaws.com/mnist/train-images-idx3-ubyte.gz\n",
            "Downloading https://ossci-datasets.s3.amazonaws.com/mnist/train-images-idx3-ubyte.gz to ../data/MyDataset/raw/train-images-idx3-ubyte.gz\n"
          ],
          "name": "stdout"
        },
        {
          "output_type": "display_data",
          "data": {
            "application/vnd.jupyter.widget-view+json": {
              "model_id": "eb2e696bb9574d948dde1acda8e11985",
              "version_minor": 0,
              "version_major": 2
            },
            "text/plain": [
              "HBox(children=(FloatProgress(value=0.0, max=9912422.0), HTML(value='')))"
            ]
          },
          "metadata": {
            "tags": []
          }
        },
        {
          "output_type": "stream",
          "text": [
            "\n",
            "Extracting ../data/MyDataset/raw/train-images-idx3-ubyte.gz to ../data/MyDataset/raw\n",
            "\n",
            "Downloading http://yann.lecun.com/exdb/mnist/train-labels-idx1-ubyte.gz\n",
            "Downloading http://yann.lecun.com/exdb/mnist/train-labels-idx1-ubyte.gz to ../data/MyDataset/raw/train-labels-idx1-ubyte.gz\n"
          ],
          "name": "stdout"
        },
        {
          "output_type": "display_data",
          "data": {
            "application/vnd.jupyter.widget-view+json": {
              "model_id": "e5d63d4f7886451eaebc8ec543fe7a88",
              "version_minor": 0,
              "version_major": 2
            },
            "text/plain": [
              "HBox(children=(FloatProgress(value=0.0, max=28881.0), HTML(value='')))"
            ]
          },
          "metadata": {
            "tags": []
          }
        },
        {
          "output_type": "stream",
          "text": [
            "\n",
            "Extracting ../data/MyDataset/raw/train-labels-idx1-ubyte.gz to ../data/MyDataset/raw\n",
            "\n",
            "Downloading http://yann.lecun.com/exdb/mnist/t10k-images-idx3-ubyte.gz\n",
            "Downloading http://yann.lecun.com/exdb/mnist/t10k-images-idx3-ubyte.gz to ../data/MyDataset/raw/t10k-images-idx3-ubyte.gz\n"
          ],
          "name": "stdout"
        },
        {
          "output_type": "display_data",
          "data": {
            "application/vnd.jupyter.widget-view+json": {
              "model_id": "52ce2175919349378c74ceb7c1519df8",
              "version_minor": 0,
              "version_major": 2
            },
            "text/plain": [
              "HBox(children=(FloatProgress(value=0.0, max=1648877.0), HTML(value='')))"
            ]
          },
          "metadata": {
            "tags": []
          }
        },
        {
          "output_type": "stream",
          "text": [
            "\n",
            "Extracting ../data/MyDataset/raw/t10k-images-idx3-ubyte.gz to ../data/MyDataset/raw\n",
            "\n",
            "Downloading http://yann.lecun.com/exdb/mnist/t10k-labels-idx1-ubyte.gz\n",
            "Downloading http://yann.lecun.com/exdb/mnist/t10k-labels-idx1-ubyte.gz to ../data/MyDataset/raw/t10k-labels-idx1-ubyte.gz\n"
          ],
          "name": "stdout"
        },
        {
          "output_type": "display_data",
          "data": {
            "application/vnd.jupyter.widget-view+json": {
              "model_id": "5c238b605f2045619c758ee1d18252c3",
              "version_minor": 0,
              "version_major": 2
            },
            "text/plain": [
              "HBox(children=(FloatProgress(value=0.0, max=4542.0), HTML(value='')))"
            ]
          },
          "metadata": {
            "tags": []
          }
        },
        {
          "output_type": "stream",
          "text": [
            "\n",
            "Extracting ../data/MyDataset/raw/t10k-labels-idx1-ubyte.gz to ../data/MyDataset/raw\n",
            "\n",
            "Processing...\n",
            "Done!\n"
          ],
          "name": "stdout"
        },
        {
          "output_type": "stream",
          "text": [
            "/usr/local/lib/python3.7/dist-packages/torchvision/datasets/mnist.py:502: UserWarning: The given NumPy array is not writeable, and PyTorch does not support non-writeable tensors. This means you can write to the underlying (supposedly non-writeable) NumPy array using the tensor. You may want to copy the array to protect its data or make it writeable before converting it to a tensor. This type of warning will be suppressed for the rest of this program. (Triggered internally at  /pytorch/torch/csrc/utils/tensor_numpy.cpp:143.)\n",
            "  return torch.from_numpy(parsed.astype(m[2], copy=False)).view(*s)\n"
          ],
          "name": "stderr"
        }
      ]
    },
    {
      "cell_type": "code",
      "metadata": {
        "id": "_fB8NDmztOz4"
      },
      "source": [
        "## NETWORK STRUCTURE"
      ],
      "execution_count": 7,
      "outputs": []
    },
    {
      "cell_type": "code",
      "metadata": {
        "id": "lah_swdS_Cd2"
      },
      "source": [
        "class Net(nn.Module):\n",
        "    def __init__(self):\n",
        "        super(Net, self).__init__()\n",
        "        self.num_classes = 10\n",
        "        #IMAGE 1X1X28 => 1X1X10 \n",
        "        self.input_block = nn.Sequential(\n",
        "        #INPUT 28X28X1 >>CONV 3X3X1X16 >>26X26X16\n",
        "        nn.Conv2d(1, 16, 3, bias=False), \n",
        "        nn.ReLU(),\n",
        "        nn.BatchNorm2d(16),\n",
        "        nn.Dropout2d(0.1),\n",
        "\n",
        "\n",
        "        #INPUT 26X26X16 >>CONV 3X3X16X32 >>24X24X32\n",
        "        nn.Conv2d(16, 32, 3, bias=False), \n",
        "        nn.ReLU(),\n",
        "        nn.BatchNorm2d(32),\n",
        "        nn.Dropout2d(0.1),\n",
        "        )\n",
        "          # translation layer\n",
        "\n",
        "        self.trans1 = nn.Sequential(\n",
        "        #24X24x32 >>CONV 1X1X32X8 >>24X24X8\n",
        "        nn.Conv2d(32, 8, 1, bias=False), \n",
        "        nn.ReLU(),\n",
        "        #24X24x8 >>MAXPOOL (2,2) >>12X12X8\n",
        "        nn.MaxPool2d(2, 2),\n",
        "        )\n",
        "        self.conv_block = nn.Sequential(\n",
        "        #12X12x8 >>CONV 3X3X8X16 PAD=1 >>12X12X16\n",
        "        nn.Conv2d(8, 16, 3,padding=1, bias=False),\n",
        "        nn.ReLU(),\n",
        "        nn.BatchNorm2d(16),\n",
        "        nn.Dropout2d(0.1),\n",
        "\n",
        "        #12X12x16 >>CONV 3X3X16X32 >>10X10X32\n",
        "\n",
        "        nn.Conv2d(16, 32, 3, bias=False),\n",
        "        nn.ReLU(),\n",
        "        nn.BatchNorm2d(32),\n",
        "        nn.Dropout2d(0.1),\n",
        "\n",
        "        )\n",
        "                # translation layer\n",
        "        self.trans2 = nn.Sequential(\n",
        "        #10X10x32 >>CONV 1X1X32X8 >>10X10X8\n",
        "        nn.Conv2d(32, 8, 1, bias=False), \n",
        "        nn.ReLU(),\n",
        "        #10X10x8 >>MAXPOOL (2,2) >>5X5X8\n",
        "        nn.MaxPool2d(2, 2),\n",
        "        )\n",
        "        self.conv_block2 = nn.Sequential(\n",
        "        #5X5X8 >>CONV 3X3X8X16 PAD=1 >>5X5X16\n",
        "        nn.Conv2d(8, 16, 3,padding=1,bias=False),\n",
        "        nn.ReLU(),\n",
        "        nn.BatchNorm2d(16),\n",
        "        nn.Dropout2d(0.1),  \n",
        "        #5X5X16 >>CONV 3X3X8X32 PAD=0 >>3X3X32\n",
        "        nn.Conv2d(16, 32, 3,bias=False),\n",
        "        nn.ReLU(),\n",
        "        nn.BatchNorm2d(32),\n",
        "        nn.Dropout2d(0.1),\n",
        "\n",
        "        )\n",
        "\n",
        "\n",
        "        self.avg_pool = nn.Sequential(\n",
        "        #3X3X32 >>CONV 1X1X32X10  >>3X3X10\n",
        "        nn.Conv2d(32, 10, 1, bias=False),\n",
        "        #3X3X10 >>AVG pool(3X3) >>1X1X10\n",
        "        nn.AvgPool2d(3))\n",
        "\n",
        "\n",
        "        self.adder_layer1 = nn.Sequential(nn.Linear(in_features=10+10, out_features=60, bias=False),nn.BatchNorm1d(60),nn.ReLU(),nn.Dropout(0.1)) #10 from image #10 from one hot encode \n",
        "        self.adder_layer2 = nn.Sequential(nn.Linear(in_features=60, out_features=60, bias=False),nn.BatchNorm1d(60),nn.ReLU(),nn.Dropout(0.1))\n",
        "        self.adder_layer3 = nn.Sequential(nn.Linear(in_features=60, out_features=10, bias=False))\n",
        "        self.adder_layer4 = nn.Sequential(nn.Linear(in_features=60, out_features=19, bias=False))\n",
        "\n",
        "\n",
        "    def forward(self, x, y):\n",
        "        y = F.one_hot(y, num_classes=self.num_classes)\n",
        "        images=x\n",
        "        x = self.input_block(images)\n",
        "        x = self.trans1(x)\n",
        "        x = self.conv_block(x)\n",
        "        x = self.trans2(x)\n",
        "        x = self.conv_block2(x)\n",
        "        x = self.avg_pool(x)\n",
        "        x = x.view(-1, 10)\n",
        "        y = torch.cat([x, y], dim=-1)\n",
        "        y = self.adder_layer1(y)\n",
        "        y = self.adder_layer2(y)\n",
        "\n",
        "        images_out=self.adder_layer3(y)\n",
        "        digits_out=self.adder_layer4(y)\n",
        "\n",
        "        return F.log_softmax(images_out), F.log_softmax(digits_out)\n",
        "       \n",
        "\n",
        "\n",
        "\n"
      ],
      "execution_count": 8,
      "outputs": []
    },
    {
      "cell_type": "code",
      "metadata": {
        "id": "DhQZB86otWQ7"
      },
      "source": [
        "\n",
        "# class Net(nn.Module):\n",
        "#     def __init__(self, num_classes):\n",
        "#         super(Net, self).__init__()\n",
        "#         self.num_classes = num_classes\n",
        "#         self.conv1 = nn.Conv2d(1, 8, 3, padding=1) #input -? OUtput? RF\n",
        "#         self.conv2 = nn.Sequential(nn.Conv2d(8, 8, 3, padding=1),nn.BatchNorm2d(8))\n",
        "#         self.pool1 = nn.MaxPool2d(2, 2)\n",
        "#         self.conv3 = nn.Conv2d(8, 8, 3, padding=1)\n",
        "#         self.conv4 = nn.Sequential(nn.Conv2d(8, 16, 3, padding=1),nn.BatchNorm2d(16),nn.Dropout(0.23))\n",
        "#         self.pool2 = nn.MaxPool2d(2, 2)\n",
        "#         self.conv5 = nn.Conv2d(16, 32, 3)\n",
        "#         self.conv6 = nn.Conv2d(32, 32, 3)\n",
        "#         self.conv7 = nn.Conv2d(32, 10, 3)\n",
        "#         self.adder_layer1 = nn.Sequential(nn.Linear(in_features=20, out_features=60, bias=False),nn.BatchNorm1d(60),nn.ReLU(),nn.Dropout(0.1))\n",
        "#         self.adder_layer2 = nn.Sequential(nn.Linear(in_features=60, out_features=60, bias=False),nn.BatchNorm1d(60),nn.ReLU(),nn.Dropout(0.1))\n",
        "#         self.adder_layer3 = nn.Sequential(nn.Linear(in_features=60, out_features=19, bias=False))\n",
        "\n",
        "\n",
        "#     def forward(self, x, y):\n",
        "#         y = F.one_hot(y, num_classes=self.num_classes)\n",
        "#         x = self.pool1(F.relu(self.conv2(F.relu(self.conv1(x)))))\n",
        "#         x = self.pool2(F.relu(self.conv4(F.relu(self.conv3(x)))))\n",
        "#         x = F.relu(self.conv6(F.relu(self.conv5(x))))\n",
        "#         x = self.conv7(x)\n",
        "#         x = x.view(-1, 10)\n",
        "#         y = torch.cat([x, y], dim=-1)\n",
        "#         y = self.adder_layer1(y)\n",
        "#         y = self.adder_layer2(y)\n",
        "#         y = self.adder_layer3(y)\n",
        "#         return F.log_softmax(x), F.log_softmax(y)"
      ],
      "execution_count": 9,
      "outputs": []
    },
    {
      "cell_type": "code",
      "metadata": {
        "id": "BxC6bDTQtXdJ"
      },
      "source": [
        "from torchsummary import summary\n",
        "use_cuda = torch.cuda.is_available()\n",
        "device = torch.device(\"cuda\" if use_cuda else \"cpu\")\n",
        "model = Net().to(device)"
      ],
      "execution_count": 10,
      "outputs": []
    },
    {
      "cell_type": "code",
      "metadata": {
        "id": "SX72pc6-tetd"
      },
      "source": [
        "## MNIST DATA LOADER"
      ],
      "execution_count": 11,
      "outputs": []
    },
    {
      "cell_type": "code",
      "metadata": {
        "id": "yM3cDxj7t5Qq"
      },
      "source": [
        "torch.manual_seed(1)\n",
        "batch_size = 256\n",
        "\n",
        "kwargs = {'num_workers': 1, 'pin_memory': True} if use_cuda else {}\n",
        "train_loader = torch.utils.data.DataLoader(train_dataset,\n",
        "    batch_size=batch_size, shuffle=True, **kwargs)\n",
        "test_loader = torch.utils.data.DataLoader(test_dataset,\n",
        "    batch_size=batch_size, shuffle=True, **kwargs)"
      ],
      "execution_count": 12,
      "outputs": []
    },
    {
      "cell_type": "code",
      "metadata": {
        "id": "hgqHqpqpt7FI"
      },
      "source": [
        "## TRAIN TEST "
      ],
      "execution_count": 13,
      "outputs": []
    },
    {
      "cell_type": "code",
      "metadata": {
        "id": "AV9epeZIQ0TS"
      },
      "source": [
        "def train(model, device, train_loader, optimizer, epoch):\n",
        "  model.train()\n",
        "  correct = 0\n",
        "  digits_correct=0\n",
        "  sums_correct=0\n",
        "  processed = 0\n",
        "  #for batch_idx, batch in enumerate(pbar):\n",
        "  for data,target in train_loader:\n",
        "    #data,target=batch \n",
        "    # get samples\n",
        "    (mnist_x, rand_num) = data\n",
        "    (mnist_y, final_y) = target\n",
        "    mnist_x, rand_num, mnist_y, final_y  = mnist_x.to(device), rand_num.to(device), mnist_y.to(device), final_y.to(device)\n",
        "\n",
        "    optimizer.zero_grad()\n",
        "    mnist_pred, final_pred = model(mnist_x, rand_num)\n",
        "    # mnist_loss = F.nll_loss(mnist_pred, mnist_y)\n",
        "    # adder_loss = F.nll_loss(final_pred, final_y)\n",
        "    mnist_loss = F.cross_entropy(mnist_pred, mnist_y)\n",
        "    adder_loss = F.cross_entropy(final_pred, final_y)\n",
        "    loss = mnist_loss + adder_loss\n",
        "    loss.backward()\n",
        "    optimizer.step()\n",
        "\n",
        "    # Update pbar-tqdm\n",
        "    digits_correct += mnist_pred.argmax(1).eq(mnist_y).sum().item()\n",
        "    sums_correct += final_pred.argmax(1).eq(final_y).sum().item()\n",
        "\n",
        "  train_acc_image_epoch=round(100. * digits_correct / len(train_loader.dataset),2)\n",
        "  adder_acc_image_epoch=round(100. * sums_correct / len(train_loader.dataset),2)\n",
        "  train_loss = loss/len(train_loader.dataset)\n",
        "  #print(digits_correct,sums_correct,train_acc_image_epoch,adder_acc_image_epoch)\n",
        "\n",
        "  print(\"[TRAIN]: => loss {0}, total_correct_digits {1}, total_correct_sums {2} ,[image_accuracy]={3} , [adder_accuracy]={4} \".format(train_loss, digits_correct,sums_correct,train_acc_image_epoch,adder_acc_image_epoch))\n",
        "  return train_loss,train_acc_image_epoch,adder_acc_image_epoch"
      ],
      "execution_count": 14,
      "outputs": []
    },
    {
      "cell_type": "code",
      "metadata": {
        "id": "-e4IZE0UuKQu"
      },
      "source": [
        "#from tqdm import tqdm\n",
        "# def train(model, device, train_loader, optimizer, epoch):\n",
        "#     model.train()\n",
        "#     pbar = tqdm(train_loader)\n",
        "#     for batch_idx, (data, target) in enumerate(pbar):\n",
        "#         (mnist_x, rand_num) = data\n",
        "#         (mnist_y, final_y) = target\n",
        "#         mnist_x, rand_num, mnist_y, final_y  = mnist_x.to(device), rand_num.to(device), mnist_y.to(device), final_y.to(device)\n",
        "#         optimizer.zero_grad()\n",
        "#         mnist_pred, final_pred = model(mnist_x, rand_num)\n",
        "#         mnist_loss = F.nll_loss(mnist_pred, mnist_y)\n",
        "#         adder_loss = F.nll_loss(final_pred, final_y)\n",
        "#         loss = mnist_loss + adder_loss\n",
        "#         loss.backward()\n",
        "#         optimizer.step()\n",
        "#         pbar.set_description(desc= f'loss={loss.item()}, MNIST_LOSS={mnist_loss.item()}, ADDER_LOSS={adder_loss.item()}, batch_id={batch_idx}')\n",
        "def test(model, device, test_loader):\n",
        "    model.eval()\n",
        "    test_loss = 0\n",
        "    mnist_correct = 0\n",
        "    adder_correct = 0\n",
        "    with torch.no_grad():\n",
        "        for data, target in test_loader:\n",
        "            (mnist_x, rand_num) = data\n",
        "            (mnist_y, final_y) = target\n",
        "            mnist_x, rand_num, mnist_y, final_y  = mnist_x.to(device), rand_num.to(device), mnist_y.to(device), final_y.to(device)\n",
        "            mnist_pred, final_pred = model(mnist_x, rand_num)\n",
        "            mnist_loss = F.nll_loss(mnist_pred, mnist_y)\n",
        "            adder_loss = F.nll_loss(final_pred, final_y)\n",
        "            loss = mnist_loss + adder_loss\n",
        "            mnist_pred = torch.argmax(mnist_pred, dim=1)\n",
        "            final_pred = torch.argmax(final_pred, dim=1)\n",
        "            test_loss += loss.item()  # sum up batch loss\n",
        "            mnist_correct += mnist_pred.eq(mnist_y.view_as(mnist_pred)).sum().item()\n",
        "            adder_correct += final_pred.eq(final_y.view_as(final_pred)).sum().item()\n",
        "\n",
        "\n",
        "    test_loss /= len(test_loader.dataset)\n",
        "    test_acc_image_epoch=round(100. * mnist_correct / len(test_loader.dataset),2)\n",
        "    adder_acc_image_epoch=round(100. * adder_correct / len(test_loader.dataset),2)\n",
        "\n",
        "    print(\"[TEST]:  => loss {0}, total_correct_digits {1}, total_correct_sums {2} ,[image_accuracy]={3} , [adder_accuracy]={4} \".format(test_loss, mnist_correct,adder_correct,test_acc_image_epoch,adder_acc_image_epoch))\n",
        "    print()\n",
        "    return test_loss,test_acc_image_epoch,adder_acc_image_epoch\n"
      ],
      "execution_count": 15,
      "outputs": []
    },
    {
      "cell_type": "code",
      "metadata": {
        "id": "fT9XrvNvuZEq"
      },
      "source": [
        "## tRAIN "
      ],
      "execution_count": 16,
      "outputs": []
    },
    {
      "cell_type": "code",
      "metadata": {
        "colab": {
          "base_uri": "https://localhost:8080/"
        },
        "id": "hBg2btU5uag5",
        "outputId": "c88fd44e-d612-4582-c02d-932626acfb48"
      },
      "source": [
        "model = Net().to(device)\n",
        "optimizer = optim.SGD(model.parameters(), lr=0.008, momentum=0.9)\n",
        "\n",
        "# for epoch in range(1, 5):\n",
        "#     train(model, device, train_loader, optimizer, epoch)\n",
        "#     test(model, device, test_loader)\n",
        "\n",
        "EPOCHS = 30\n",
        "train_loss_per_epoch=[]\n",
        "train_image_acc_per_epoch=[]\n",
        "train_adder_accuracy_per_epoch=[]\n",
        "test_loss_per_epoch=[]\n",
        "test_image_acc_per_epoch=[]\n",
        "test_adder_accuracy_per_epoch=[]\n",
        "\n",
        "\n",
        "for epoch in range(EPOCHS):\n",
        "    print(\"EPOCH:\", epoch)\n",
        "    train_epoch_loss,train_image_accuracy,train_adder_accuracy=train(model, device, train_loader, optimizer, epoch)\n",
        "\n",
        "    train_loss_per_epoch.append(train_epoch_loss)\n",
        "    train_image_acc_per_epoch.append(train_image_accuracy)\n",
        "    train_adder_accuracy_per_epoch.append(train_adder_accuracy)\n",
        "\n",
        "    test_epoch_loss,test_image_accuracy,test_adder_accuracy=test(model, device, test_loader)\n",
        "\n",
        "    test_loss_per_epoch.append(test_epoch_loss)\n",
        "    test_image_acc_per_epoch.append(test_image_accuracy)\n",
        "    test_adder_accuracy_per_epoch.append(test_adder_accuracy)"
      ],
      "execution_count": 17,
      "outputs": [
        {
          "output_type": "stream",
          "text": [
            "EPOCH: 0\n"
          ],
          "name": "stdout"
        },
        {
          "output_type": "stream",
          "text": [
            "/usr/local/lib/python3.7/dist-packages/ipykernel_launcher.py:97: UserWarning: Implicit dimension choice for log_softmax has been deprecated. Change the call to include dim=X as an argument.\n"
          ],
          "name": "stderr"
        },
        {
          "output_type": "stream",
          "text": [
            "[TRAIN]: => loss 3.181002466590144e-05, total_correct_digits 43043, total_correct_sums 19143 ,[image_accuracy]=71.74 , [adder_accuracy]=31.91 \n",
            "[TEST]:  => loss 0.005468686771392822, total_correct_digits 9621, total_correct_sums 8696 ,[image_accuracy]=96.21 , [adder_accuracy]=86.96 \n",
            "\n",
            "EPOCH: 1\n",
            "[TRAIN]: => loss 1.062575483956607e-05, total_correct_digits 56191, total_correct_sums 48759 ,[image_accuracy]=93.65 , [adder_accuracy]=81.27 \n",
            "[TEST]:  => loss 0.0010679741784930228, total_correct_digits 9792, total_correct_sums 9772 ,[image_accuracy]=97.92 , [adder_accuracy]=97.72 \n",
            "\n",
            "EPOCH: 2\n",
            "[TRAIN]: => loss 9.959942872228567e-06, total_correct_digits 57379, total_correct_sums 54993 ,[image_accuracy]=95.63 , [adder_accuracy]=91.66 \n",
            "[TEST]:  => loss 0.0005570014610886574, total_correct_digits 9838, total_correct_sums 9828 ,[image_accuracy]=98.38 , [adder_accuracy]=98.28 \n",
            "\n",
            "EPOCH: 3\n",
            "[TRAIN]: => loss 4.842951966566034e-06, total_correct_digits 57948, total_correct_sums 56503 ,[image_accuracy]=96.58 , [adder_accuracy]=94.17 \n",
            "[TEST]:  => loss 0.00037559388671070336, total_correct_digits 9874, total_correct_sums 9877 ,[image_accuracy]=98.74 , [adder_accuracy]=98.77 \n",
            "\n",
            "EPOCH: 4\n",
            "[TRAIN]: => loss 1.0488327461644076e-05, total_correct_digits 58275, total_correct_sums 57164 ,[image_accuracy]=97.12 , [adder_accuracy]=95.27 \n",
            "[TEST]:  => loss 0.00029369625356048346, total_correct_digits 9898, total_correct_sums 9899 ,[image_accuracy]=98.98 , [adder_accuracy]=98.99 \n",
            "\n",
            "EPOCH: 5\n",
            "[TRAIN]: => loss 2.329286189706181e-06, total_correct_digits 58546, total_correct_sums 57636 ,[image_accuracy]=97.58 , [adder_accuracy]=96.06 \n",
            "[TEST]:  => loss 0.0002977978700771928, total_correct_digits 9897, total_correct_sums 9899 ,[image_accuracy]=98.97 , [adder_accuracy]=98.99 \n",
            "\n",
            "EPOCH: 6\n",
            "[TRAIN]: => loss 5.117580712976633e-06, total_correct_digits 58593, total_correct_sums 57900 ,[image_accuracy]=97.66 , [adder_accuracy]=96.5 \n",
            "[TEST]:  => loss 0.0002761437151581049, total_correct_digits 9900, total_correct_sums 9889 ,[image_accuracy]=99.0 , [adder_accuracy]=98.89 \n",
            "\n",
            "EPOCH: 7\n",
            "[TRAIN]: => loss 2.783749778245692e-06, total_correct_digits 58731, total_correct_sums 58074 ,[image_accuracy]=97.89 , [adder_accuracy]=96.79 \n",
            "[TEST]:  => loss 0.00025249026189558206, total_correct_digits 9913, total_correct_sums 9910 ,[image_accuracy]=99.13 , [adder_accuracy]=99.1 \n",
            "\n",
            "EPOCH: 8\n",
            "[TRAIN]: => loss 1.3015179547437583e-06, total_correct_digits 58833, total_correct_sums 58237 ,[image_accuracy]=98.06 , [adder_accuracy]=97.06 \n",
            "[TEST]:  => loss 0.00027749027106910946, total_correct_digits 9901, total_correct_sums 9892 ,[image_accuracy]=99.01 , [adder_accuracy]=98.92 \n",
            "\n",
            "EPOCH: 9\n",
            "[TRAIN]: => loss 1.510621586930938e-06, total_correct_digits 58850, total_correct_sums 58328 ,[image_accuracy]=98.08 , [adder_accuracy]=97.21 \n",
            "[TEST]:  => loss 0.00020827253514435143, total_correct_digits 9934, total_correct_sums 9930 ,[image_accuracy]=99.34 , [adder_accuracy]=99.3 \n",
            "\n",
            "EPOCH: 10\n",
            "[TRAIN]: => loss 3.325777697682497e-06, total_correct_digits 58886, total_correct_sums 58438 ,[image_accuracy]=98.14 , [adder_accuracy]=97.4 \n",
            "[TEST]:  => loss 0.0002475306826643646, total_correct_digits 9913, total_correct_sums 9911 ,[image_accuracy]=99.13 , [adder_accuracy]=99.11 \n",
            "\n",
            "EPOCH: 11\n",
            "[TRAIN]: => loss 3.1432812193088466e-06, total_correct_digits 58965, total_correct_sums 58479 ,[image_accuracy]=98.28 , [adder_accuracy]=97.47 \n",
            "[TEST]:  => loss 0.00021175240287557245, total_correct_digits 9930, total_correct_sums 9927 ,[image_accuracy]=99.3 , [adder_accuracy]=99.27 \n",
            "\n",
            "EPOCH: 12\n",
            "[TRAIN]: => loss 2.406277644695365e-06, total_correct_digits 58989, total_correct_sums 58582 ,[image_accuracy]=98.31 , [adder_accuracy]=97.64 \n",
            "[TEST]:  => loss 0.00020440943497233093, total_correct_digits 9928, total_correct_sums 9925 ,[image_accuracy]=99.28 , [adder_accuracy]=99.25 \n",
            "\n",
            "EPOCH: 13\n",
            "[TRAIN]: => loss 1.0030802286564722e-06, total_correct_digits 59081, total_correct_sums 58617 ,[image_accuracy]=98.47 , [adder_accuracy]=97.69 \n",
            "[TEST]:  => loss 0.00018583838720805942, total_correct_digits 9935, total_correct_sums 9932 ,[image_accuracy]=99.35 , [adder_accuracy]=99.32 \n",
            "\n",
            "EPOCH: 14\n",
            "[TRAIN]: => loss 9.258565114578232e-07, total_correct_digits 59060, total_correct_sums 58685 ,[image_accuracy]=98.43 , [adder_accuracy]=97.81 \n",
            "[TEST]:  => loss 0.00021324859289452433, total_correct_digits 9927, total_correct_sums 9922 ,[image_accuracy]=99.27 , [adder_accuracy]=99.22 \n",
            "\n",
            "EPOCH: 15\n",
            "[TRAIN]: => loss 3.716452965818462e-06, total_correct_digits 59078, total_correct_sums 58692 ,[image_accuracy]=98.46 , [adder_accuracy]=97.82 \n",
            "[TEST]:  => loss 0.00023240602723089977, total_correct_digits 9916, total_correct_sums 9922 ,[image_accuracy]=99.16 , [adder_accuracy]=99.22 \n",
            "\n",
            "EPOCH: 16\n",
            "[TRAIN]: => loss 2.286752078362042e-06, total_correct_digits 59066, total_correct_sums 58726 ,[image_accuracy]=98.44 , [adder_accuracy]=97.88 \n",
            "[TEST]:  => loss 0.00019977316777221858, total_correct_digits 9929, total_correct_sums 9919 ,[image_accuracy]=99.29 , [adder_accuracy]=99.19 \n",
            "\n",
            "EPOCH: 17\n",
            "[TRAIN]: => loss 1.739343815643224e-06, total_correct_digits 59150, total_correct_sums 58803 ,[image_accuracy]=98.58 , [adder_accuracy]=98.0 \n",
            "[TEST]:  => loss 0.00019884347929619253, total_correct_digits 9926, total_correct_sums 9920 ,[image_accuracy]=99.26 , [adder_accuracy]=99.2 \n",
            "\n",
            "EPOCH: 18\n",
            "[TRAIN]: => loss 2.1385837953857845e-06, total_correct_digits 59187, total_correct_sums 58835 ,[image_accuracy]=98.64 , [adder_accuracy]=98.06 \n",
            "[TEST]:  => loss 0.0002826593334088102, total_correct_digits 9936, total_correct_sums 9929 ,[image_accuracy]=99.36 , [adder_accuracy]=99.29 \n",
            "\n",
            "EPOCH: 19\n",
            "[TRAIN]: => loss 2.0237591797922505e-06, total_correct_digits 59211, total_correct_sums 58914 ,[image_accuracy]=98.69 , [adder_accuracy]=98.19 \n",
            "[TEST]:  => loss 0.00019142821910209023, total_correct_digits 9934, total_correct_sums 9936 ,[image_accuracy]=99.34 , [adder_accuracy]=99.36 \n",
            "\n",
            "EPOCH: 20\n",
            "[TRAIN]: => loss 5.070201495982474e-06, total_correct_digits 59203, total_correct_sums 58898 ,[image_accuracy]=98.67 , [adder_accuracy]=98.16 \n",
            "[TEST]:  => loss 0.000182963430788368, total_correct_digits 9934, total_correct_sums 9934 ,[image_accuracy]=99.34 , [adder_accuracy]=99.34 \n",
            "\n",
            "EPOCH: 21\n",
            "[TRAIN]: => loss 4.133772563363891e-06, total_correct_digits 59196, total_correct_sums 58910 ,[image_accuracy]=98.66 , [adder_accuracy]=98.18 \n",
            "[TEST]:  => loss 0.00016332291448197794, total_correct_digits 9944, total_correct_sums 9937 ,[image_accuracy]=99.44 , [adder_accuracy]=99.37 \n",
            "\n",
            "EPOCH: 22\n",
            "[TRAIN]: => loss 4.656316150430939e-07, total_correct_digits 59237, total_correct_sums 58946 ,[image_accuracy]=98.73 , [adder_accuracy]=98.24 \n",
            "[TEST]:  => loss 0.00018639642738271504, total_correct_digits 9940, total_correct_sums 9940 ,[image_accuracy]=99.4 , [adder_accuracy]=99.4 \n",
            "\n",
            "EPOCH: 23\n",
            "[TRAIN]: => loss 1.2923619578941725e-06, total_correct_digits 59202, total_correct_sums 58887 ,[image_accuracy]=98.67 , [adder_accuracy]=98.14 \n",
            "[TEST]:  => loss 0.00018240503751439975, total_correct_digits 9944, total_correct_sums 9935 ,[image_accuracy]=99.44 , [adder_accuracy]=99.35 \n",
            "\n",
            "EPOCH: 24\n",
            "[TRAIN]: => loss 1.958678012670134e-06, total_correct_digits 59247, total_correct_sums 58968 ,[image_accuracy]=98.75 , [adder_accuracy]=98.28 \n",
            "[TEST]:  => loss 0.00018897060034796595, total_correct_digits 9937, total_correct_sums 9930 ,[image_accuracy]=99.37 , [adder_accuracy]=99.3 \n",
            "\n",
            "EPOCH: 25\n",
            "[TRAIN]: => loss 6.428695655813499e-07, total_correct_digits 59281, total_correct_sums 59063 ,[image_accuracy]=98.8 , [adder_accuracy]=98.44 \n",
            "[TEST]:  => loss 0.0002003220181213692, total_correct_digits 9941, total_correct_sums 9937 ,[image_accuracy]=99.41 , [adder_accuracy]=99.37 \n",
            "\n",
            "EPOCH: 26\n",
            "[TRAIN]: => loss 2.3027591851132456e-06, total_correct_digits 59274, total_correct_sums 59017 ,[image_accuracy]=98.79 , [adder_accuracy]=98.36 \n",
            "[TEST]:  => loss 0.00018484989206772297, total_correct_digits 9937, total_correct_sums 9937 ,[image_accuracy]=99.37 , [adder_accuracy]=99.37 \n",
            "\n",
            "EPOCH: 27\n",
            "[TRAIN]: => loss 1.2967815337106003e-06, total_correct_digits 59286, total_correct_sums 58994 ,[image_accuracy]=98.81 , [adder_accuracy]=98.32 \n",
            "[TEST]:  => loss 0.00018729037668090313, total_correct_digits 9943, total_correct_sums 9944 ,[image_accuracy]=99.43 , [adder_accuracy]=99.44 \n",
            "\n",
            "EPOCH: 28\n",
            "[TRAIN]: => loss 1.619649196982209e-06, total_correct_digits 59319, total_correct_sums 59063 ,[image_accuracy]=98.86 , [adder_accuracy]=98.44 \n",
            "[TEST]:  => loss 0.00032650305572897196, total_correct_digits 9930, total_correct_sums 9938 ,[image_accuracy]=99.3 , [adder_accuracy]=99.38 \n",
            "\n",
            "EPOCH: 29\n",
            "[TRAIN]: => loss 5.554646236305416e-07, total_correct_digits 59298, total_correct_sums 59080 ,[image_accuracy]=98.83 , [adder_accuracy]=98.47 \n",
            "[TEST]:  => loss 0.0001887132664793171, total_correct_digits 9933, total_correct_sums 9936 ,[image_accuracy]=99.33 , [adder_accuracy]=99.36 \n",
            "\n"
          ],
          "name": "stdout"
        }
      ]
    },
    {
      "cell_type": "code",
      "metadata": {
        "id": "4mHN-YiZu9TC"
      },
      "source": [
        "## PLOT "
      ],
      "execution_count": 18,
      "outputs": []
    },
    {
      "cell_type": "code",
      "metadata": {
        "colab": {
          "base_uri": "https://localhost:8080/",
          "height": 610
        },
        "id": "sjPTMKpEhmlu",
        "outputId": "20e40156-91e3-4647-84ec-ce5b16121366"
      },
      "source": [
        "import seaborn as sns\n",
        "import matplotlib.pyplot as plt\n",
        "sns.set()\n",
        "plt.style.use(\"dark_background\")\n",
        "\n",
        "fig, axs = plt.subplots(3,2,figsize=(15,10))\n",
        "axs[0, 0].plot(train_loss_per_epoch)\n",
        "axs[0, 0].set_title(\"Training Loss\")\n",
        "axs[0, 1].plot(train_loss_per_epoch)\n",
        "axs[0, 1].set_title(\"Test Loss\")\n",
        "axs[1, 0].plot(train_image_acc_per_epoch)\n",
        "axs[1, 0].set_title(\"Training Accuracy Image\")\n",
        "axs[1, 1].plot(test_image_acc_per_epoch)\n",
        "axs[1, 1].set_title(\"Test Accuracy Image\")\n",
        "axs[2, 0].plot(train_adder_accuracy_per_epoch)\n",
        "axs[2, 0].set_title(\"Training Accuracy Adder\")\n",
        "axs[2, 1].plot(test_adder_accuracy_per_epoch)\n",
        "axs[2, 1].set_title(\"Test Accuracy Adder\")\n",
        "plt.show()"
      ],
      "execution_count": 19,
      "outputs": [
        {
          "output_type": "display_data",
          "data": {
            "image/png": "[encoded data removed]",
            "text/plain": [
              "<Figure size 1080x720 with 6 Axes>"
            ]
          },
          "metadata": {
            "tags": []
          }
        }
      ]
    },
    {
      "cell_type": "code",
      "metadata": {
        "id": "ubLt6sOQudEw"
      },
      "source": [
        "\n",
        "def infer_and_plot_output(sample_data, model):\n",
        "    (mnist_img, adder_num), (mnist_target, adder_target) = sample_data\n",
        "    \n",
        "    with torch.no_grad():\n",
        "        mnist_pred, adder_pred = model(mnist_img, adder_num)\n",
        "        mnist_pred, adder_pred = torch.argmax(mnist_pred, dim=1), torch.argmax(adder_pred, dim=1)\n",
        "\n",
        "    num_images = 25\n",
        "    fig = plt.figure(figsize=(12, 15))\n",
        "\n",
        "    assert len(mnist_img[0] >= 25), \"need atleast 25 images in `sample_data`\"\n",
        "\n",
        "    fig.suptitle('MNIST Adder')\n",
        "\n",
        "    for idx in range(0, 25):\n",
        "\n",
        "        image = mnist_img[idx].cpu().numpy()\n",
        "        add_num = adder_num[idx].cpu().item()\n",
        "        image_target = mnist_target[idx].cpu().item()\n",
        "        add_target = adder_target[idx].cpu().item()\n",
        "        image_pred = mnist_pred[idx].cpu().item()\n",
        "        add_pred = adder_pred[idx].cpu().item()\n",
        "\n",
        "        isvalid = (image_target == image_pred) and (add_target == add_pred)\n",
        "        isvalid = str(isvalid).upper()\n",
        "\n",
        "        ax = fig.add_subplot(5, 5, idx+1)\n",
        "        ax.axis('off')\n",
        "        ax.imshow(mnist_img[idx].squeeze())\n",
        "        ax.set_title(f'target: {image_target} + {add_num} = {add_target}\\npred: {image_pred} + {add_num} = {add_pred}\\nValid: {isvalid}')\n",
        "\n",
        "    plt.show()"
      ],
      "execution_count": 20,
      "outputs": []
    },
    {
      "cell_type": "code",
      "metadata": {
        "id": "t-CkXOCWvAsV"
      },
      "source": [
        "plotting_loader = torch.utils.data.DataLoader(test_dataset, batch_size=25, shuffle=True, **kwargs)\n",
        "data = iter(plotting_loader)"
      ],
      "execution_count": 21,
      "outputs": []
    },
    {
      "cell_type": "code",
      "metadata": {
        "colab": {
          "base_uri": "https://localhost:8080/",
          "height": 958
        },
        "id": "8_GBaM9PvNNy",
        "outputId": "49bd8d0c-8645-4924-d7f6-c7931c016c6e"
      },
      "source": [
        "infer_and_plot_output(next(data),model.to('cpu'))"
      ],
      "execution_count": 22,
      "outputs": [
        {
          "output_type": "stream",
          "text": [
            "/usr/local/lib/python3.7/dist-packages/ipykernel_launcher.py:97: UserWarning: Implicit dimension choice for log_softmax has been deprecated. Change the call to include dim=X as an argument.\n"
          ],
          "name": "stderr"
        },
        {
          "output_type": "display_data",
          "data": {
            "image/png": "[encoded data removed]",
            "text/plain": [
              "<Figure size 864x1080 with 25 Axes>"
            ]
          },
          "metadata": {
            "tags": []
          }
        }
      ]
    },
    {
      "cell_type": "code",
      "metadata": {
        "id": "yyiOIEatvmkN"
      },
      "source": [
        ""
      ],
      "execution_count": 22,
      "outputs": []
    }
  ]
}