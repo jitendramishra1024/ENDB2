{
  "nbformat": 4,
  "nbformat_minor": 0,
  "metadata": {
    "accelerator": "GPU",
    "colab": {
      "name": "04_Sentiment_classification_SST_Glove_Final.ipynb",
      "provenance": [],
      "collapsed_sections": []
    },
    "kernelspec": {
      "display_name": "Python 3",
      "name": "python3"
    },
    "language_info": {
      "name": "python"
    }
  },
  "cells": [
    {
      "cell_type": "code",
      "metadata": {
        "colab": {
          "base_uri": "https://localhost:8080/"
        },
        "id": "DEP5ZQ6OqPoF",
        "outputId": "40bb9909-621a-4aae-ace2-160dfc2096bf"
      },
      "source": [
        "from google.colab import drive\n",
        "drive.mount('/content/drive', force_remount=True)\n",
        "\n",
        "\n"
      ],
      "execution_count": 1,
      "outputs": [
        {
          "output_type": "stream",
          "text": [
            "Mounted at /content/drive\n"
          ],
          "name": "stdout"
        }
      ]
    },
    {
      "cell_type": "code",
      "metadata": {
        "id": "m6bNkrXLpvvv"
      },
      "source": [
        "path='/content/drive/MyDrive/ENDB2/SESSION_05/data_weights/'"
      ],
      "execution_count": 2,
      "outputs": []
    },
    {
      "cell_type": "code",
      "metadata": {
        "colab": {
          "base_uri": "https://localhost:8080/"
        },
        "id": "1dn1fCqWnXfQ",
        "outputId": "59b5b66a-d2db-484d-bac4-771a70538ac7"
      },
      "source": [
        "#Install pytreebank\n",
        "! pip install pytreebank==0.2.7\n",
        "! pip install google_trans_new\n",
        "import nltk \n",
        "nltk.download('wordnet')\n",
        "nltk.download('stopwords')"
      ],
      "execution_count": 3,
      "outputs": [
        {
          "output_type": "stream",
          "text": [
            "Requirement already satisfied: pytreebank==0.2.7 in /usr/local/lib/python3.7/dist-packages (0.2.7)\n",
            "Requirement already satisfied: google_trans_new in /usr/local/lib/python3.7/dist-packages (1.1.9)\n",
            "[nltk_data] Downloading package wordnet to /root/nltk_data...\n",
            "[nltk_data]   Package wordnet is already up-to-date!\n",
            "[nltk_data] Downloading package stopwords to /root/nltk_data...\n",
            "[nltk_data]   Package stopwords is already up-to-date!\n"
          ],
          "name": "stdout"
        },
        {
          "output_type": "execute_result",
          "data": {
            "text/plain": [
              "True"
            ]
          },
          "metadata": {
            "tags": []
          },
          "execution_count": 3
        }
      ]
    },
    {
      "cell_type": "code",
      "metadata": {
        "id": "omFPfgvqpaHc"
      },
      "source": [
        ""
      ],
      "execution_count": 3,
      "outputs": []
    },
    {
      "cell_type": "code",
      "metadata": {
        "id": "X2mSIqwapank"
      },
      "source": [
        ""
      ],
      "execution_count": 3,
      "outputs": []
    },
    {
      "cell_type": "code",
      "metadata": {
        "id": "KzXOcWCTsUrf"
      },
      "source": [
        "import torch\n",
        "import torch.nn as nn\n",
        "import torch.optim as optim\n",
        "\n",
        "import torchtext.legacy\n",
        "from torchtext import datasets\n",
        "\n",
        "import re\n",
        "import pandas as pd\n",
        "import seaborn as sns\n",
        "from matplotlib import pyplot as plt\n",
        "\n",
        "import spacy\n",
        "import nltk\n",
        "from nltk.corpus import stopwords, wordnet\n",
        "\n",
        "import pytreebank\n",
        "\n",
        "import google_trans_new \n",
        "from google_trans_new import google_translator  \n",
        "import random\n",
        "\n",
        "#from sklearn.model_selection import train_test_split\n",
        "\n",
        "import os, pickle"
      ],
      "execution_count": 4,
      "outputs": []
    },
    {
      "cell_type": "code",
      "metadata": {
        "id": "I_mzC9Gcsml4"
      },
      "source": [
        "#GET DATASET\n",
        "dataset = pytreebank.load_sst()"
      ],
      "execution_count": 5,
      "outputs": []
    },
    {
      "cell_type": "code",
      "metadata": {
        "colab": {
          "base_uri": "https://localhost:8080/"
        },
        "id": "6chTSS_uuc7A",
        "outputId": "0b11f7bb-843a-4620-d8ed-efadf01d7c52"
      },
      "source": [
        "#SEE ONE LABEL AND TEXT OF TRAIN DATASET \n",
        "dataset['train'][0].to_labeled_lines()[0]"
      ],
      "execution_count": 6,
      "outputs": [
        {
          "output_type": "execute_result",
          "data": {
            "text/plain": [
              "(3,\n",
              " \"The Rock is destined to be the 21st Century 's new `` Conan '' and that he 's going to make a splash even greater than Arnold Schwarzenegger , Jean-Claud Van Damme or Steven Segal .\")"
            ]
          },
          "metadata": {
            "tags": []
          },
          "execution_count": 6
        }
      ]
    },
    {
      "cell_type": "code",
      "metadata": {
        "id": "SKnFo2GVuqMn"
      },
      "source": [
        "#LETS SEPARATE TRAIN AND TEST \n",
        "data_train = [example.to_labeled_lines()[0] for example in dataset[\"train\"]]\n",
        "data_test = [example.to_labeled_lines()[0] for example in dataset[\"test\"]]"
      ],
      "execution_count": 7,
      "outputs": []
    },
    {
      "cell_type": "code",
      "metadata": {
        "colab": {
          "base_uri": "https://localhost:8080/"
        },
        "id": "OYW3C2J1vuO-",
        "outputId": "b9d03203-2da9-4ea8-c27f-adab06d2cdc5"
      },
      "source": [
        "len(data_train), len(data_test)"
      ],
      "execution_count": 8,
      "outputs": [
        {
          "output_type": "execute_result",
          "data": {
            "text/plain": [
              "(8544, 2210)"
            ]
          },
          "metadata": {
            "tags": []
          },
          "execution_count": 8
        }
      ]
    },
    {
      "cell_type": "code",
      "metadata": {
        "id": "u8lwdup3vx32"
      },
      "source": [
        "train = pd.DataFrame(data_train, columns = ['label', 'sentence'])\n",
        "test = pd.DataFrame(data_test, columns = ['label', 'sentence'])"
      ],
      "execution_count": 9,
      "outputs": []
    },
    {
      "cell_type": "code",
      "metadata": {
        "colab": {
          "base_uri": "https://localhost:8080/",
          "height": 200
        },
        "id": "h2s1c2f4wFlr",
        "outputId": "93f79260-d300-4d6f-fc42-e1d09b62e7c0"
      },
      "source": [
        "\n",
        "train.head()"
      ],
      "execution_count": 10,
      "outputs": [
        {
          "output_type": "execute_result",
          "data": {
            "text/html": [
              "<div>\n",
              "<style scoped>\n",
              "    .dataframe tbody tr th:only-of-type {\n",
              "        vertical-align: middle;\n",
              "    }\n",
              "\n",
              "    .dataframe tbody tr th {\n",
              "        vertical-align: top;\n",
              "    }\n",
              "\n",
              "    .dataframe thead th {\n",
              "        text-align: right;\n",
              "    }\n",
              "</style>\n",
              "<table border=\"1\" class=\"dataframe\">\n",
              "  <thead>\n",
              "    <tr style=\"text-align: right;\">\n",
              "      <th></th>\n",
              "      <th>label</th>\n",
              "      <th>sentence</th>\n",
              "    </tr>\n",
              "  </thead>\n",
              "  <tbody>\n",
              "    <tr>\n",
              "      <th>0</th>\n",
              "      <td>3</td>\n",
              "      <td>The Rock is destined to be the 21st Century 's...</td>\n",
              "    </tr>\n",
              "    <tr>\n",
              "      <th>1</th>\n",
              "      <td>4</td>\n",
              "      <td>The gorgeously elaborate continuation of `` Th...</td>\n",
              "    </tr>\n",
              "    <tr>\n",
              "      <th>2</th>\n",
              "      <td>3</td>\n",
              "      <td>Singer/composer Bryan Adams contributes a slew...</td>\n",
              "    </tr>\n",
              "    <tr>\n",
              "      <th>3</th>\n",
              "      <td>2</td>\n",
              "      <td>You 'd think by now America would have had eno...</td>\n",
              "    </tr>\n",
              "    <tr>\n",
              "      <th>4</th>\n",
              "      <td>3</td>\n",
              "      <td>Yet the act is still charming here .</td>\n",
              "    </tr>\n",
              "  </tbody>\n",
              "</table>\n",
              "</div>"
            ],
            "text/plain": [
              "   label                                           sentence\n",
              "0      3  The Rock is destined to be the 21st Century 's...\n",
              "1      4  The gorgeously elaborate continuation of `` Th...\n",
              "2      3  Singer/composer Bryan Adams contributes a slew...\n",
              "3      2  You 'd think by now America would have had eno...\n",
              "4      3               Yet the act is still charming here ."
            ]
          },
          "metadata": {
            "tags": []
          },
          "execution_count": 10
        }
      ]
    },
    {
      "cell_type": "code",
      "metadata": {
        "colab": {
          "base_uri": "https://localhost:8080/",
          "height": 200
        },
        "id": "VDo_u_JWwI68",
        "outputId": "61ed97d1-8b6a-40a7-c9d1-25fe447ee585"
      },
      "source": [
        "test.head()"
      ],
      "execution_count": 11,
      "outputs": [
        {
          "output_type": "execute_result",
          "data": {
            "text/html": [
              "<div>\n",
              "<style scoped>\n",
              "    .dataframe tbody tr th:only-of-type {\n",
              "        vertical-align: middle;\n",
              "    }\n",
              "\n",
              "    .dataframe tbody tr th {\n",
              "        vertical-align: top;\n",
              "    }\n",
              "\n",
              "    .dataframe thead th {\n",
              "        text-align: right;\n",
              "    }\n",
              "</style>\n",
              "<table border=\"1\" class=\"dataframe\">\n",
              "  <thead>\n",
              "    <tr style=\"text-align: right;\">\n",
              "      <th></th>\n",
              "      <th>label</th>\n",
              "      <th>sentence</th>\n",
              "    </tr>\n",
              "  </thead>\n",
              "  <tbody>\n",
              "    <tr>\n",
              "      <th>0</th>\n",
              "      <td>2</td>\n",
              "      <td>Effective but too-tepid biopic</td>\n",
              "    </tr>\n",
              "    <tr>\n",
              "      <th>1</th>\n",
              "      <td>3</td>\n",
              "      <td>If you sometimes like to go to the movies to h...</td>\n",
              "    </tr>\n",
              "    <tr>\n",
              "      <th>2</th>\n",
              "      <td>4</td>\n",
              "      <td>Emerges as something rare , an issue movie tha...</td>\n",
              "    </tr>\n",
              "    <tr>\n",
              "      <th>3</th>\n",
              "      <td>2</td>\n",
              "      <td>The film provides some great insight into the ...</td>\n",
              "    </tr>\n",
              "    <tr>\n",
              "      <th>4</th>\n",
              "      <td>4</td>\n",
              "      <td>Offers that rare combination of entertainment ...</td>\n",
              "    </tr>\n",
              "  </tbody>\n",
              "</table>\n",
              "</div>"
            ],
            "text/plain": [
              "   label                                           sentence\n",
              "0      2                     Effective but too-tepid biopic\n",
              "1      3  If you sometimes like to go to the movies to h...\n",
              "2      4  Emerges as something rare , an issue movie tha...\n",
              "3      2  The film provides some great insight into the ...\n",
              "4      4  Offers that rare combination of entertainment ..."
            ]
          },
          "metadata": {
            "tags": []
          },
          "execution_count": 11
        }
      ]
    },
    {
      "cell_type": "code",
      "metadata": {
        "colab": {
          "base_uri": "https://localhost:8080/"
        },
        "id": "3hYsmhEsZReO",
        "outputId": "e770133e-265c-4f4b-c5d6-7f73b0757e6b"
      },
      "source": [
        "len(train),len(test)"
      ],
      "execution_count": 12,
      "outputs": [
        {
          "output_type": "execute_result",
          "data": {
            "text/plain": [
              "(8544, 2210)"
            ]
          },
          "metadata": {
            "tags": []
          },
          "execution_count": 12
        }
      ]
    },
    {
      "cell_type": "code",
      "metadata": {
        "id": "Bp-M27E5Zxc7"
      },
      "source": [
        "# AUGMENTATION STRATEGY \n",
        "# WE WILL APPLY BELOW 4 AUGMENTATION STRATEGY \n",
        "# RANDOM INSERT (5%)\n",
        "# RANDOM DELETE (5%)\n",
        "# RANDOM SWAP   (20%)\n",
        "# BACK TRANSLATE (70%)\n",
        "# we will chnage the ratio in later phase "
      ],
      "execution_count": 13,
      "outputs": []
    },
    {
      "cell_type": "code",
      "metadata": {
        "id": "xZIknJU_jVit"
      },
      "source": [
        "#BACK TRANSLATE \n"
      ],
      "execution_count": 14,
      "outputs": []
    },
    {
      "cell_type": "code",
      "metadata": {
        "id": "BWDm2Oikd1LJ"
      },
      "source": [
        "def back_translate(sentence):\n",
        "  \"\"\" Google translate the input sentence and translate back\"\"\"\n",
        "  available_langs = list(google_trans_new.LANGUAGES.keys()) \n",
        "  trans_lang = random.choice(available_langs) \n",
        "  translator = google_translator()  \n",
        "  translate_text = translator.translate(sentence,lang_tgt=trans_lang) \n",
        "  translate_back = translator.translate(translate_text,lang_tgt='en')\n",
        "  return (translate_back)\n",
        "\n",
        "# #TEST \n",
        "# result= back_translate('India has recently overtaken the US in terms of the number of people who have received at least one dose of the Covid vaccine')\n",
        "# print(result)"
      ],
      "execution_count": 15,
      "outputs": []
    },
    {
      "cell_type": "code",
      "metadata": {
        "id": "r5lJpAl5kN9t"
      },
      "source": [
        "# RANDOM DELETE "
      ],
      "execution_count": 16,
      "outputs": []
    },
    {
      "cell_type": "code",
      "metadata": {
        "colab": {
          "base_uri": "https://localhost:8080/"
        },
        "id": "spTIVrPikr7p",
        "outputId": "0fb0b7b5-8788-46f2-b4e6-da775b66eceb"
      },
      "source": [
        "def random_deletion(sentence, p=0.5): \n",
        "    words = sentence.split()\n",
        "    if len(words) == 1: # return if single word\n",
        "        return words\n",
        "    remaining = list(filter(lambda x: random.uniform(0,1) > p,words)) \n",
        "    if len(remaining) == 0: # if not left, sample a random word\n",
        "        return [random.choice(words)] \n",
        "    else:\n",
        "        return (' '.join(remaining))\n",
        "\n",
        "#TEST \n",
        "result= random_deletion('India has recently overtaken the US in terms of the number of people who have received at least one dose of the Covid vaccine')\n",
        "print(result)"
      ],
      "execution_count": 17,
      "outputs": [
        {
          "output_type": "stream",
          "text": [
            "has overtaken terms people have at one of\n"
          ],
          "name": "stdout"
        }
      ]
    },
    {
      "cell_type": "code",
      "metadata": {
        "id": "92jy77NHlAUL"
      },
      "source": [
        "# RANDOM SWAp\n"
      ],
      "execution_count": 18,
      "outputs": []
    },
    {
      "cell_type": "code",
      "metadata": {
        "colab": {
          "base_uri": "https://localhost:8080/"
        },
        "id": "KVMuIiwPlXnW",
        "outputId": "a11df1cf-7720-4677-ddc2-f48a8860fc6c"
      },
      "source": [
        "def random_swap(sentence, n=5): \n",
        "    words = sentence.split()\n",
        "    if len(words) == 1: # return if single word\n",
        "        return words\n",
        "    length = range(len(words)) \n",
        "    for _ in range(n):\n",
        "        idx1, idx2 = random.sample(length, 2)\n",
        "        words[idx1], words[idx2] = words[idx2], words[idx1] \n",
        "    return (' '.join(words))\n",
        "\n",
        "#TEST \n",
        "result= random_swap('India has recently overtaken the US in terms of the number of people who have received at least one dose of the Covid vaccine')\n",
        "print(result)"
      ],
      "execution_count": 19,
      "outputs": [
        {
          "output_type": "stream",
          "text": [
            "India who recently overtaken the of in terms of the people US of has have vaccine at least one dose number the Covid received\n"
          ],
          "name": "stdout"
        }
      ]
    },
    {
      "cell_type": "code",
      "metadata": {
        "id": "XOvcaiR3lii8"
      },
      "source": [
        "# RANDOM INSERT"
      ],
      "execution_count": 20,
      "outputs": []
    },
    {
      "cell_type": "code",
      "metadata": {
        "colab": {
          "base_uri": "https://localhost:8080/"
        },
        "id": "Bc_Q81z_nXgU",
        "outputId": "3079358f-d2dd-4344-f075-ae176d1c1082"
      },
      "source": [
        "def remove_stopwords(sentence):\n",
        "    from nltk.corpus import stopwords\n",
        "    tokenized = sentence #custom_tokenize(sentence) #data['text'].apply(custom_tokenize) # Tokenize tweets\n",
        "    lower_tokens = [t.lower() for t in tokenized] #tokenized.apply(lambda x: [t.lower() for t in x]) # Convert tokens into lower case\n",
        "    alpha_only = [t for t in lower_tokens if t.isalpha()] #lower_tokens.apply(lambda x: [t for t in x if t.isalpha()]) # Remove punctuations\n",
        "    no_stops = [t for t in alpha_only if t not in stopwords.words('english')] #alpha_only.apply(lambda x: [t for t in x if t not in stopwords.words('english')]) # remove stop words\n",
        "\n",
        "    return no_stops\n",
        "\n",
        "def get_synonyms(word):\n",
        "    import nltk\n",
        "    from nltk.corpus import wordnet\n",
        "    synonyms = []\n",
        "      \n",
        "    for syn in wordnet.synsets(word):\n",
        "        for l in syn.lemmas():\n",
        "            synonyms.append(l.name())\n",
        "            # if l.antonyms():\n",
        "            #     antonyms.append(l.antonyms()[0].name())\n",
        "    synonyms = list(set(synonyms))\n",
        "    if len(synonyms) > 0:\n",
        "      new_synonym = random.choice(synonyms)\n",
        "    else:\n",
        "      new_synonym = word\n",
        "\n",
        "    return new_synonym\n",
        "def random_insertion(sentence, n=4): \n",
        "    from random import randrange\n",
        "    sentence= sentence.split()\n",
        "    words = remove_stopwords(sentence) \n",
        "    if len(words)<=0:\n",
        "      words = sentence\n",
        "    for _ in range(n):\n",
        "        word = random.choice(words)\n",
        "        new_synonym = get_synonyms(word)\n",
        "        sentence.insert(randrange(len(sentence)+1), new_synonym)\n",
        "    return \" \".join(sentence)\n",
        "\n",
        "#TEST \n",
        "result= random_insertion('India has recently overtaken the US in terms of the number of people who have received at least one dose of the Covid vaccine')\n",
        "print(result)"
      ],
      "execution_count": 21,
      "outputs": [
        {
          "output_type": "stream",
          "text": [
            "India has recently take_in overtaken the US in terms of the number of people who have meet received at least one dose of the Covid vaccine dose damage\n"
          ],
          "name": "stdout"
        }
      ]
    },
    {
      "cell_type": "code",
      "metadata": {
        "id": "roMgzRb8n-23"
      },
      "source": [
        "BACK_TRANSLATE_FRACTION = 0.10\n",
        "RANDOM_INSERT_FRACTION = 0.9\n",
        "RANDOM_DELETE_FRACTION = 0.05\n",
        "RANDOM_SWAP_FRACTION =0.3\n"
      ],
      "execution_count": 22,
      "outputs": []
    },
    {
      "cell_type": "code",
      "metadata": {
        "colab": {
          "base_uri": "https://localhost:8080/"
        },
        "id": "rZVA2u0xhr9J",
        "outputId": "2f60b97d-f366-4325-da1d-2c557f816a36"
      },
      "source": [
        "df_bt=train.sample(frac=BACK_TRANSLATE_FRACTION)\n",
        "df_bt['sentence'] = df_bt['sentence'].apply(lambda x: back_translate(x))\n",
        "len(train),len(df_bt)"
      ],
      "execution_count": 23,
      "outputs": [
        {
          "output_type": "execute_result",
          "data": {
            "text/plain": [
              "(8544, 854)"
            ]
          },
          "metadata": {
            "tags": []
          },
          "execution_count": 23
        }
      ]
    },
    {
      "cell_type": "code",
      "metadata": {
        "colab": {
          "base_uri": "https://localhost:8080/"
        },
        "id": "WVuuu3mfh9OR",
        "outputId": "352d27b5-d1ae-47b9-d9fb-e68323e6a329"
      },
      "source": [
        "df_ri=train.sample(frac=RANDOM_INSERT_FRACTION)\n",
        "df_ri['sentence'] = df_ri['sentence'].apply(lambda x: random_insertion(x))\n",
        "len(train),len(df_ri)"
      ],
      "execution_count": 24,
      "outputs": [
        {
          "output_type": "execute_result",
          "data": {
            "text/plain": [
              "(8544, 7690)"
            ]
          },
          "metadata": {
            "tags": []
          },
          "execution_count": 24
        }
      ]
    },
    {
      "cell_type": "code",
      "metadata": {
        "colab": {
          "base_uri": "https://localhost:8080/"
        },
        "id": "XJ4TcpUejMIu",
        "outputId": "11595e37-9d9a-490a-d4f0-ad879cb4664c"
      },
      "source": [
        "df_rd=train.sample(frac=RANDOM_DELETE_FRACTION)\n",
        "df_rd['sentence'] = df_rd['sentence'].apply(lambda x: random_deletion(x))\n",
        "len(train),len(df_rd)"
      ],
      "execution_count": 25,
      "outputs": [
        {
          "output_type": "execute_result",
          "data": {
            "text/plain": [
              "(8544, 427)"
            ]
          },
          "metadata": {
            "tags": []
          },
          "execution_count": 25
        }
      ]
    },
    {
      "cell_type": "code",
      "metadata": {
        "id": "emv9u-rYp8Fx"
      },
      "source": [
        ""
      ],
      "execution_count": 25,
      "outputs": []
    },
    {
      "cell_type": "code",
      "metadata": {
        "colab": {
          "base_uri": "https://localhost:8080/"
        },
        "id": "bku94HRcjpFr",
        "outputId": "7597d639-0620-4e42-b765-adbafac0914b"
      },
      "source": [
        "df_rs=train.sample(frac=RANDOM_SWAP_FRACTION)\n",
        "df_rs['sentence'] = df_rs['sentence'].apply(lambda x: random_swap(x))\n",
        "len(train),len(df_rs)"
      ],
      "execution_count": 26,
      "outputs": [
        {
          "output_type": "execute_result",
          "data": {
            "text/plain": [
              "(8544, 2563)"
            ]
          },
          "metadata": {
            "tags": []
          },
          "execution_count": 26
        }
      ]
    },
    {
      "cell_type": "code",
      "metadata": {
        "colab": {
          "base_uri": "https://localhost:8080/"
        },
        "id": "_0K8q6KvkGiI",
        "outputId": "be2aa662-0bd8-4a6f-baa9-dbc08954ac3b"
      },
      "source": [
        "train_final = pd.concat([train,df_bt,df_ri, df_rd,df_rs], ignore_index=True)\n",
        "len(train_final)"
      ],
      "execution_count": 27,
      "outputs": [
        {
          "output_type": "execute_result",
          "data": {
            "text/plain": [
              "20078"
            ]
          },
          "metadata": {
            "tags": []
          },
          "execution_count": 27
        }
      ]
    },
    {
      "cell_type": "code",
      "metadata": {
        "id": "lWKXZwfYlDJP"
      },
      "source": [
        ""
      ],
      "execution_count": 27,
      "outputs": []
    },
    {
      "cell_type": "code",
      "metadata": {
        "colab": {
          "base_uri": "https://localhost:8080/",
          "height": 200
        },
        "id": "3617JVelsdLD",
        "outputId": "a650c3fb-583b-40e8-c027-89ea112b294b"
      },
      "source": [
        "train_final.head()"
      ],
      "execution_count": 28,
      "outputs": [
        {
          "output_type": "execute_result",
          "data": {
            "text/html": [
              "<div>\n",
              "<style scoped>\n",
              "    .dataframe tbody tr th:only-of-type {\n",
              "        vertical-align: middle;\n",
              "    }\n",
              "\n",
              "    .dataframe tbody tr th {\n",
              "        vertical-align: top;\n",
              "    }\n",
              "\n",
              "    .dataframe thead th {\n",
              "        text-align: right;\n",
              "    }\n",
              "</style>\n",
              "<table border=\"1\" class=\"dataframe\">\n",
              "  <thead>\n",
              "    <tr style=\"text-align: right;\">\n",
              "      <th></th>\n",
              "      <th>label</th>\n",
              "      <th>sentence</th>\n",
              "    </tr>\n",
              "  </thead>\n",
              "  <tbody>\n",
              "    <tr>\n",
              "      <th>0</th>\n",
              "      <td>3</td>\n",
              "      <td>The Rock is destined to be the 21st Century 's...</td>\n",
              "    </tr>\n",
              "    <tr>\n",
              "      <th>1</th>\n",
              "      <td>4</td>\n",
              "      <td>The gorgeously elaborate continuation of `` Th...</td>\n",
              "    </tr>\n",
              "    <tr>\n",
              "      <th>2</th>\n",
              "      <td>3</td>\n",
              "      <td>Singer/composer Bryan Adams contributes a slew...</td>\n",
              "    </tr>\n",
              "    <tr>\n",
              "      <th>3</th>\n",
              "      <td>2</td>\n",
              "      <td>You 'd think by now America would have had eno...</td>\n",
              "    </tr>\n",
              "    <tr>\n",
              "      <th>4</th>\n",
              "      <td>3</td>\n",
              "      <td>Yet the act is still charming here .</td>\n",
              "    </tr>\n",
              "  </tbody>\n",
              "</table>\n",
              "</div>"
            ],
            "text/plain": [
              "   label                                           sentence\n",
              "0      3  The Rock is destined to be the 21st Century 's...\n",
              "1      4  The gorgeously elaborate continuation of `` Th...\n",
              "2      3  Singer/composer Bryan Adams contributes a slew...\n",
              "3      2  You 'd think by now America would have had eno...\n",
              "4      3               Yet the act is still charming here ."
            ]
          },
          "metadata": {
            "tags": []
          },
          "execution_count": 28
        }
      ]
    },
    {
      "cell_type": "code",
      "metadata": {
        "id": "JXgt07lGVrjj"
      },
      "source": [
        ""
      ],
      "execution_count": 28,
      "outputs": []
    },
    {
      "cell_type": "code",
      "metadata": {
        "colab": {
          "base_uri": "https://localhost:8080/"
        },
        "id": "-ZQ8WTmYeie4",
        "outputId": "a215b51c-17fa-4c21-b916-ec047c630531"
      },
      "source": [
        "print(len(train_final))\n",
        "print(train_final.isnull().sum())\n",
        "train_final = train_final.dropna()\n",
        "print(train_final.isnull().sum())\n",
        "print(len(train_final))"
      ],
      "execution_count": 29,
      "outputs": [
        {
          "output_type": "stream",
          "text": [
            "20078\n",
            "label       0\n",
            "sentence    0\n",
            "dtype: int64\n",
            "label       0\n",
            "sentence    0\n",
            "dtype: int64\n",
            "20078\n"
          ],
          "name": "stdout"
        }
      ]
    },
    {
      "cell_type": "code",
      "metadata": {
        "id": "MEzeBXySsAr2"
      },
      "source": [
        "#STANDARD TEXT CLEANING PIPELINE \n",
        "\n",
        "def remove_stopwords(text):\n",
        "    from nltk.corpus import stopwords\n",
        "    text = str(text).lower()\n",
        "    stopword = stopwords.words('english')\n",
        "    #text=[word for word in text if word not in stopword]\n",
        "    text=[word for word in text.split() if word not in (stopword)]\n",
        "    return \" \".join(text)\n",
        "\n",
        "# def  clean_text(text):\n",
        "#     text = str(text).lower()\n",
        "#     #replace multiple space with single space \n",
        "#     text = re.sub(r\"\\s+\", \" \", str(text))\n",
        "#     #replace single charcter words \n",
        "#     text = re.sub(r\"\\b[a-zA-Z0-9]\\b\", \"\", str(text))\n",
        "#     #remove anything except a-z0-9\n",
        "#     text = re.sub(r\"(@[A-Za-z0-9]+)|([^0-9A-Za-z \\t])|(\\w+:\\/\\/\\S+)|^rt|http.+?\", \"\", str(text))\n",
        "#     #remove number \n",
        "#     text =  re.sub(r\"\\d+\", \"\", str(text))\n",
        "#     return text \n",
        "\n",
        "def  clean_text(text):\n",
        "    text = str(text).lower()\n",
        "    text = re.sub(r\"[^a-z0-9\\s\\n\\t\\-]\",\"\",str(text))\n",
        "    text = text.replace(\"-\", \" \") #replace hyphens with spaces\n",
        "    text = text.replace(\"\\t\", \" \")\n",
        "    text = text.replace(\"\\n\", \" \")\n",
        "    #replace multiple space with single space \n",
        "    text = re.sub(r\"\\s+\", \" \", str(text))\n",
        "    #replace single charcter words \n",
        "    text = re.sub(r\"\\b[a-zA-Z0-9]\\b\", \"\", str(text))\n",
        "    # #remove anything except a-z0-9\n",
        "    #text = re.sub(r\"(@[A-Za-z0-9]+)|([^0-9A-Za-z \\t])|(\\w+:\\/\\/\\S+)|^rt|http.+?\", \"\", str(text))\n",
        "    #remove number \n",
        "    text =  re.sub(r\"\\d+\", \"\", str(text))\n",
        "    return text "
      ],
      "execution_count": 30,
      "outputs": []
    },
    {
      "cell_type": "code",
      "metadata": {
        "id": "87PNEdVjQh8T"
      },
      "source": [
        "\n",
        "#stopword"
      ],
      "execution_count": 31,
      "outputs": []
    },
    {
      "cell_type": "code",
      "metadata": {
        "id": "n7lmIs-AsNGh"
      },
      "source": [
        "#train_final['sentence'] = train_final['sentence'].apply(remove_stopwords)\n",
        "\n",
        "train_final['sentence'] = train_final['sentence'].apply(clean_text)"
      ],
      "execution_count": 32,
      "outputs": []
    },
    {
      "cell_type": "code",
      "metadata": {
        "colab": {
          "base_uri": "https://localhost:8080/"
        },
        "id": "z4lNLdLZfAu3",
        "outputId": "9a0d2498-4451-4fc5-9048-2c3ed27d437a"
      },
      "source": [
        "print(len(train_final))\n",
        "print(train_final.isnull().sum())\n",
        "train_final = train_final.dropna()\n",
        "print(train_final.isnull().sum())\n",
        "print(len(train_final))"
      ],
      "execution_count": 33,
      "outputs": [
        {
          "output_type": "stream",
          "text": [
            "20078\n",
            "label       0\n",
            "sentence    0\n",
            "dtype: int64\n",
            "label       0\n",
            "sentence    0\n",
            "dtype: int64\n",
            "20078\n"
          ],
          "name": "stdout"
        }
      ]
    },
    {
      "cell_type": "markdown",
      "metadata": {
        "id": "HaYqnX2-Uaku"
      },
      "source": [
        ""
      ]
    },
    {
      "cell_type": "code",
      "metadata": {
        "colab": {
          "base_uri": "https://localhost:8080/",
          "height": 200
        },
        "id": "PMmWUJOIP4yc",
        "outputId": "82fa4eb5-388b-4e38-bb7d-fd84ccd0d187"
      },
      "source": [
        "train_final.head()"
      ],
      "execution_count": 34,
      "outputs": [
        {
          "output_type": "execute_result",
          "data": {
            "text/html": [
              "<div>\n",
              "<style scoped>\n",
              "    .dataframe tbody tr th:only-of-type {\n",
              "        vertical-align: middle;\n",
              "    }\n",
              "\n",
              "    .dataframe tbody tr th {\n",
              "        vertical-align: top;\n",
              "    }\n",
              "\n",
              "    .dataframe thead th {\n",
              "        text-align: right;\n",
              "    }\n",
              "</style>\n",
              "<table border=\"1\" class=\"dataframe\">\n",
              "  <thead>\n",
              "    <tr style=\"text-align: right;\">\n",
              "      <th></th>\n",
              "      <th>label</th>\n",
              "      <th>sentence</th>\n",
              "    </tr>\n",
              "  </thead>\n",
              "  <tbody>\n",
              "    <tr>\n",
              "      <th>0</th>\n",
              "      <td>3</td>\n",
              "      <td>the rock is destined to be the st century  new...</td>\n",
              "    </tr>\n",
              "    <tr>\n",
              "      <th>1</th>\n",
              "      <td>4</td>\n",
              "      <td>the gorgeously elaborate continuation of the l...</td>\n",
              "    </tr>\n",
              "    <tr>\n",
              "      <th>2</th>\n",
              "      <td>3</td>\n",
              "      <td>singercomposer bryan adams contributes  slew o...</td>\n",
              "    </tr>\n",
              "    <tr>\n",
              "      <th>3</th>\n",
              "      <td>2</td>\n",
              "      <td>you  think by now america would have had enoug...</td>\n",
              "    </tr>\n",
              "    <tr>\n",
              "      <th>4</th>\n",
              "      <td>3</td>\n",
              "      <td>yet the act is still charming here</td>\n",
              "    </tr>\n",
              "  </tbody>\n",
              "</table>\n",
              "</div>"
            ],
            "text/plain": [
              "   label                                           sentence\n",
              "0      3  the rock is destined to be the st century  new...\n",
              "1      4  the gorgeously elaborate continuation of the l...\n",
              "2      3  singercomposer bryan adams contributes  slew o...\n",
              "3      2  you  think by now america would have had enoug...\n",
              "4      3                yet the act is still charming here "
            ]
          },
          "metadata": {
            "tags": []
          },
          "execution_count": 34
        }
      ]
    },
    {
      "cell_type": "code",
      "metadata": {
        "id": "ZYCjt0ByKldi"
      },
      "source": [
        "train_final1=train_final.copy()\n",
        "def return_word_count(sent):\n",
        "  l=sent.split(\" \")\n",
        "  return len(l)\n",
        "\n",
        "train_final1['sen_len']=train_final1['sentence'].apply(return_word_count)"
      ],
      "execution_count": 35,
      "outputs": []
    },
    {
      "cell_type": "code",
      "metadata": {
        "colab": {
          "base_uri": "https://localhost:8080/"
        },
        "id": "FQmKNC5MMnOJ",
        "outputId": "5e0c4ab9-e81c-4d64-a623-9f821bda37ba"
      },
      "source": [
        "len(train_final1[(train_final1.sen_len<=2)])"
      ],
      "execution_count": 36,
      "outputs": [
        {
          "output_type": "execute_result",
          "data": {
            "text/plain": [
              "85"
            ]
          },
          "metadata": {
            "tags": []
          },
          "execution_count": 36
        }
      ]
    },
    {
      "cell_type": "code",
      "metadata": {
        "id": "LK7vvTBjNuey"
      },
      "source": [
        "#lets remove the sentence having less than equal to 2 word length"
      ],
      "execution_count": 37,
      "outputs": []
    },
    {
      "cell_type": "code",
      "metadata": {
        "id": "eR8PL24HN2kB"
      },
      "source": [
        "train_final1=train_final1[(train_final1.sen_len>=2)]\n",
        "train_final=train_final1[['label','sentence']].reset_index(drop=True)"
      ],
      "execution_count": 38,
      "outputs": []
    },
    {
      "cell_type": "code",
      "metadata": {
        "colab": {
          "base_uri": "https://localhost:8080/",
          "height": 200
        },
        "id": "ill0f-KgOdjB",
        "outputId": "06fc3e3a-3d90-4182-fd4a-3ee2e255a310"
      },
      "source": [
        "train_final.tail()"
      ],
      "execution_count": 39,
      "outputs": [
        {
          "output_type": "execute_result",
          "data": {
            "text/html": [
              "<div>\n",
              "<style scoped>\n",
              "    .dataframe tbody tr th:only-of-type {\n",
              "        vertical-align: middle;\n",
              "    }\n",
              "\n",
              "    .dataframe tbody tr th {\n",
              "        vertical-align: top;\n",
              "    }\n",
              "\n",
              "    .dataframe thead th {\n",
              "        text-align: right;\n",
              "    }\n",
              "</style>\n",
              "<table border=\"1\" class=\"dataframe\">\n",
              "  <thead>\n",
              "    <tr style=\"text-align: right;\">\n",
              "      <th></th>\n",
              "      <th>label</th>\n",
              "      <th>sentence</th>\n",
              "    </tr>\n",
              "  </thead>\n",
              "  <tbody>\n",
              "    <tr>\n",
              "      <th>20062</th>\n",
              "      <td>2</td>\n",
              "      <td>inert well meaning but</td>\n",
              "    </tr>\n",
              "    <tr>\n",
              "      <th>20063</th>\n",
              "      <td>2</td>\n",
              "      <td>jaunty its backdrop with used celeb strewn fun...</td>\n",
              "    </tr>\n",
              "    <tr>\n",
              "      <th>20064</th>\n",
              "      <td>3</td>\n",
              "      <td>and once nt  about you theater no be talking w...</td>\n",
              "    </tr>\n",
              "    <tr>\n",
              "      <th>20065</th>\n",
              "      <td>2</td>\n",
              "      <td>ends up being mostly about how costumes eye fi...</td>\n",
              "    </tr>\n",
              "    <tr>\n",
              "      <th>20066</th>\n",
              "      <td>1</td>\n",
              "      <td>to send it just cranky</td>\n",
              "    </tr>\n",
              "  </tbody>\n",
              "</table>\n",
              "</div>"
            ],
            "text/plain": [
              "       label                                           sentence\n",
              "20062      2                             inert well meaning but\n",
              "20063      2  jaunty its backdrop with used celeb strewn fun...\n",
              "20064      3  and once nt  about you theater no be talking w...\n",
              "20065      2  ends up being mostly about how costumes eye fi...\n",
              "20066      1                             to send it just cranky"
            ]
          },
          "metadata": {
            "tags": []
          },
          "execution_count": 39
        }
      ]
    },
    {
      "cell_type": "code",
      "metadata": {
        "id": "JAtY6M4CfGHw"
      },
      "source": [
        "train_final.to_csv(path+'train_final.csv', index=False)\n",
        "test.to_csv(path+'test.csv', index=False)\n",
        "\n"
      ],
      "execution_count": 40,
      "outputs": []
    },
    {
      "cell_type": "code",
      "metadata": {
        "id": "bmEwSQ44gdpm"
      },
      "source": [
        "# train_final =pd.read_csv(path+'train_final.csv')\n",
        "# test=pd.read_csv(path+'test.csv')"
      ],
      "execution_count": 41,
      "outputs": []
    },
    {
      "cell_type": "code",
      "metadata": {
        "colab": {
          "base_uri": "https://localhost:8080/",
          "height": 403
        },
        "id": "blC6Mp7GkXIR",
        "outputId": "e9cd1799-30c1-44e4-b54e-7da487ee84bb"
      },
      "source": [
        "fig = plt.figure(figsize=(8,6))\n",
        "ax = sns.barplot(x=train_final['label'].unique(), y=train_final['label'].value_counts())\n",
        "ax.set(xlabel = 'Labels')"
      ],
      "execution_count": 42,
      "outputs": [
        {
          "output_type": "execute_result",
          "data": {
            "text/plain": [
              "[Text(0.5, 0, 'Labels')]"
            ]
          },
          "metadata": {
            "tags": []
          },
          "execution_count": 42
        },
        {
          "output_type": "display_data",
          "data": {
            "image/png": "[encoded data removed]",
            "text/plain": [
              "<Figure size 576x432 with 1 Axes>"
            ]
          },
          "metadata": {
            "tags": [],
            "needs_background": "light"
          }
        }
      ]
    },
    {
      "cell_type": "code",
      "metadata": {
        "id": "MLxNZYrfqEAS"
      },
      "source": [
        "#DEFINE FIELD "
      ],
      "execution_count": 43,
      "outputs": []
    },
    {
      "cell_type": "code",
      "metadata": {
        "id": "Zu_piDN-rZEg"
      },
      "source": [
        "Text = torchtext.legacy.data.Field(sequential = True, tokenize = 'spacy', batch_first =True, include_lengths=True)\n",
        "#Label = torchtext.legacy.data.LabelField(tokenize ='spacy', is_target=True, batch_first =True, sequential =False)\n",
        "Label = torchtext.legacy.data.LabelField(dtype = torch.int64)"
      ],
      "execution_count": 44,
      "outputs": []
    },
    {
      "cell_type": "code",
      "metadata": {
        "id": "NITwJ2LvhujC"
      },
      "source": [
        "#Having defined those fields, we now need to produce a list that maps them onto the list of rows that are in the CSV:\n",
        "#Text and Label ->Field \n",
        "#sentence and label ->column of dataframe "
      ],
      "execution_count": 45,
      "outputs": []
    },
    {
      "cell_type": "code",
      "metadata": {
        "id": "31Dp6egtcqs7"
      },
      "source": [
        "datafields = [('sentence', Text),('label', Label)]"
      ],
      "execution_count": 46,
      "outputs": []
    },
    {
      "cell_type": "code",
      "metadata": {
        "id": "IcPE4B0rhxmj"
      },
      "source": [
        "# lets convert from pandas to list to torchtext"
      ],
      "execution_count": 47,
      "outputs": []
    },
    {
      "cell_type": "code",
      "metadata": {
        "id": "4IxOJCSMdmW3"
      },
      "source": [
        "train_example = [torchtext.legacy.data.Example.fromlist([train_final.sentence[i],train_final.label[i]], datafields) for i in range(train_final.shape[0])] \n",
        "test_example = [torchtext.legacy.data.Example.fromlist([test.sentence[i],test.label[i]], datafields) for i in range(test.shape[0])]"
      ],
      "execution_count": 48,
      "outputs": []
    },
    {
      "cell_type": "code",
      "metadata": {
        "id": "EVuRkbZbx57r"
      },
      "source": [
        "# import os, pickle\n",
        "# with open(path+'train_example.pkl', 'wb') as train_it: \n",
        "#     pickle.dump(train_example, train_it)\n",
        "# import os, pickle\n",
        "# with open(path+'test_example.pkl', 'wb') as train_it: \n",
        "#     pickle.dump(test_example, train_it)"
      ],
      "execution_count": 49,
      "outputs": []
    },
    {
      "cell_type": "code",
      "metadata": {
        "id": "Nxor828F89vk"
      },
      "source": [
        "# # #LOAD train_example and test example this will save pre processing time \n",
        "# import os, pickle\n",
        "# file = open(path+'train_example.pkl', 'rb')\n",
        "# train_example = pickle.load(file)\n",
        "# file = open(path+'test_example.pkl', 'rb')\n",
        "# test_example = pickle.load(file)\n",
        "\n",
        "# datafields = [('sentence', Text),('label', Label)]\n",
        "\n",
        "# Text = torchtext.legacy.data.Field(sequential = True, tokenize = 'spacy', batch_first =True, include_lengths=True)\n",
        "# #Label = torchtext.legacy.data.LabelField(tokenize ='spacy', is_target=True, batch_first =True, sequential =False)\n",
        "# Label = torchtext.legacy.data.LabelField(dtype = torch.int64)\n",
        "\n"
      ],
      "execution_count": 50,
      "outputs": []
    },
    {
      "cell_type": "code",
      "metadata": {
        "id": "Hfi3XXAFklqa"
      },
      "source": [
        "#CREATE DATASET"
      ],
      "execution_count": 51,
      "outputs": []
    },
    {
      "cell_type": "code",
      "metadata": {
        "id": "G1Fyy6L4k-4o"
      },
      "source": [
        "train_data = torchtext.legacy.data.Dataset(train_example, datafields)\n",
        "valid_data = torchtext.legacy.data.Dataset(test_example, datafields)\n",
        "\n"
      ],
      "execution_count": 52,
      "outputs": []
    },
    {
      "cell_type": "code",
      "metadata": {
        "id": "RvPCKZT1wnu-"
      },
      "source": [
        ""
      ],
      "execution_count": 52,
      "outputs": []
    },
    {
      "cell_type": "code",
      "metadata": {
        "id": "9vbBdyX4wxi-"
      },
      "source": [
        ""
      ],
      "execution_count": 52,
      "outputs": []
    },
    {
      "cell_type": "markdown",
      "metadata": {
        "id": "lAZeXQpotBZa"
      },
      "source": [
        ""
      ]
    },
    {
      "cell_type": "code",
      "metadata": {
        "colab": {
          "base_uri": "https://localhost:8080/"
        },
        "id": "G5PO_PDOk_bG",
        "outputId": "a80eb321-46f5-4efb-d23c-f32c833d57ce"
      },
      "source": [
        "(len(train_data), len(valid_data))"
      ],
      "execution_count": 53,
      "outputs": [
        {
          "output_type": "execute_result",
          "data": {
            "text/plain": [
              "(20067, 2210)"
            ]
          },
          "metadata": {
            "tags": []
          },
          "execution_count": 53
        }
      ]
    },
    {
      "cell_type": "code",
      "metadata": {
        "colab": {
          "base_uri": "https://localhost:8080/"
        },
        "id": "9RWPces-luFl",
        "outputId": "5084dd68-eec4-45ac-fb01-6fbfb7090474"
      },
      "source": [
        "print(vars(train_data[5]))"
      ],
      "execution_count": 54,
      "outputs": [
        {
          "output_type": "stream",
          "text": [
            "{'sentence': ['whether', 'or', 'not', 'you', 're', 'enlightened', 'by', 'any', 'of', 'derrida', ' ', 'lectures', 'on', 'the', 'other', 'and', 'the', 'self', 'derrida', 'is', 'an', 'undeniably', 'fascinating', 'and', 'playful', 'fellow'], 'label': 4}\n"
          ],
          "name": "stdout"
        }
      ]
    },
    {
      "cell_type": "code",
      "metadata": {
        "colab": {
          "base_uri": "https://localhost:8080/"
        },
        "id": "5qJZCMXDsZW6",
        "outputId": "fec3cb50-0434-4c9f-b013-5c3d7ab84e4b"
      },
      "source": [
        "vars(train_data.examples[11])"
      ],
      "execution_count": 55,
      "outputs": [
        {
          "output_type": "execute_result",
          "data": {
            "text/plain": [
              "{'label': 2,\n",
              " 'sentence': ['you',\n",
              "  'should',\n",
              "  'pay',\n",
              "  'nine',\n",
              "  'bucks',\n",
              "  'for',\n",
              "  'this',\n",
              "  'because',\n",
              "  'you',\n",
              "  'can',\n",
              "  'hear',\n",
              "  'about',\n",
              "  'suffering',\n",
              "  'afghan',\n",
              "  'refugees',\n",
              "  'on',\n",
              "  'the',\n",
              "  'news',\n",
              "  'and',\n",
              "  'still',\n",
              "  'be',\n",
              "  'unaffected']}"
            ]
          },
          "metadata": {
            "tags": []
          },
          "execution_count": 55
        }
      ]
    },
    {
      "cell_type": "code",
      "metadata": {
        "colab": {
          "base_uri": "https://localhost:8080/"
        },
        "id": "p6dPqRWLmu_K",
        "outputId": "dfd04886-29b2-467e-cd82-ce576f5f8101"
      },
      "source": [
        "print(vars(valid_data[5]))"
      ],
      "execution_count": 56,
      "outputs": [
        {
          "output_type": "stream",
          "text": [
            "{'sentence': ['Perhaps', 'no', 'picture', 'ever', 'made', 'has', 'more', 'literally', 'showed', 'that', 'the', 'road', 'to', 'hell', 'is', 'paved', 'with', 'good', 'intentions', '.'], 'label': 3}\n"
          ],
          "name": "stdout"
        }
      ]
    },
    {
      "cell_type": "code",
      "metadata": {
        "colab": {
          "base_uri": "https://localhost:8080/"
        },
        "id": "FrTvjwt_2ZQ2",
        "outputId": "edfc4742-bceb-4463-c9d1-0cfaeee531b2"
      },
      "source": [
        "print(vars(train_data[5]))"
      ],
      "execution_count": 57,
      "outputs": [
        {
          "output_type": "stream",
          "text": [
            "{'sentence': ['whether', 'or', 'not', 'you', 're', 'enlightened', 'by', 'any', 'of', 'derrida', ' ', 'lectures', 'on', 'the', 'other', 'and', 'the', 'self', 'derrida', 'is', 'an', 'undeniably', 'fascinating', 'and', 'playful', 'fellow'], 'label': 4}\n"
          ],
          "name": "stdout"
        }
      ]
    },
    {
      "cell_type": "code",
      "metadata": {
        "id": "A1NutoEerEW6"
      },
      "source": [
        "# LETS  CREATE VOCABULARY\n",
        "# WE CAN CREATE VOCAB OR WE CAN USE PRETRAINED VOCAB "
      ],
      "execution_count": 58,
      "outputs": []
    },
    {
      "cell_type": "code",
      "metadata": {
        "id": "Ai3SEmuh-K4p"
      },
      "source": [
        "# MAX_VOCAB_SIZE = 18000\n",
        "\n",
        "# Text.build_vocab(train_data, max_size = MAX_VOCAB_SIZE)\n",
        "# Label.build_vocab(train_data)\n",
        "\n",
        "# Text.build_vocab(train_data)\n",
        "# Label.build_vocab(train_data)"
      ],
      "execution_count": 59,
      "outputs": []
    },
    {
      "cell_type": "code",
      "metadata": {
        "id": "svNxusCfCLeY"
      },
      "source": [
        "#OPTION 2 :\n",
        "MAX_VOCAB_SIZE = 18_000\n",
        "\n",
        "Text.build_vocab(train_data,  \n",
        "                 vectors = \"glove.6B.100d\", \n",
        "                 unk_init = torch.Tensor.normal_)\n",
        "\n",
        "Label.build_vocab(train_data)"
      ],
      "execution_count": 60,
      "outputs": []
    },
    {
      "cell_type": "code",
      "metadata": {
        "id": "_a85v5Q424do"
      },
      "source": [
        ""
      ],
      "execution_count": 60,
      "outputs": []
    },
    {
      "cell_type": "code",
      "metadata": {
        "id": "q2NuF6dC0UJS",
        "colab": {
          "base_uri": "https://localhost:8080/"
        },
        "outputId": "590cf96b-8f49-41fc-8dc4-33d31034346f"
      },
      "source": [
        "\n",
        "Text.vocab.vectors"
      ],
      "execution_count": 61,
      "outputs": [
        {
          "output_type": "execute_result",
          "data": {
            "text/plain": [
              "tensor([[ 0.5318,  0.7289, -0.1647,  ..., -0.3235, -2.5056,  0.8433],\n",
              "        [-0.5219, -1.1558, -0.4062,  ...,  0.7667, -0.1611, -0.1659],\n",
              "        [-0.3010,  0.3545,  0.5200,  ...,  0.7300, -0.1279, -0.5224],\n",
              "        ...,\n",
              "        [ 0.1371,  0.1606, -0.4980,  ..., -0.5031,  0.2237,  0.3773],\n",
              "        [-0.0515, -0.3798, -0.5699,  ..., -0.0349,  0.3298,  1.1395],\n",
              "        [-0.9453, -1.2465, -0.4568,  ...,  1.0513, -0.6632, -0.9079]])"
            ]
          },
          "metadata": {
            "tags": []
          },
          "execution_count": 61
        }
      ]
    },
    {
      "cell_type": "code",
      "metadata": {
        "colab": {
          "base_uri": "https://localhost:8080/"
        },
        "id": "2M57RKHTAP8D",
        "outputId": "b00107c7-f1b8-4faf-8261-a4e4efe0bd51"
      },
      "source": [
        "print('Size of input vocab : ', len(Text.vocab))\n",
        "print('Size of label vocab : ', len(Label.vocab))\n",
        "print('Top 10 words appreared repeatedly :', list(Text.vocab.freqs.most_common(10)))\n",
        "print('Labels : ', Label.vocab.stoi)"
      ],
      "execution_count": 62,
      "outputs": [
        {
          "output_type": "stream",
          "text": [
            "Size of input vocab :  21586\n",
            "Size of label vocab :  5\n",
            "Top 10 words appreared repeatedly : [(' ', 19655), ('the', 17183), ('and', 10568), ('of', 10367), ('to', 7095), ('is', 6068), ('it', 5614), ('that', 4504), ('in', 4480), ('as', 2990)]\n",
            "Labels :  defaultdict(None, {3: 0, 1: 1, 2: 2, 4: 3, 0: 4})\n"
          ],
          "name": "stdout"
        }
      ]
    },
    {
      "cell_type": "code",
      "metadata": {
        "id": "tbkOVODLAmXK"
      },
      "source": [
        "#Now we need to create a data loader to feed into our training loop. Torchtext provides the BucketIterator method that will produce what it calls a Batch, \n",
        "#which is almost, but not quite, like the data loader we used on images."
      ],
      "execution_count": 63,
      "outputs": []
    },
    {
      "cell_type": "code",
      "metadata": {
        "id": "aoSBK5kCnfxA"
      },
      "source": [
        ""
      ],
      "execution_count": 63,
      "outputs": []
    },
    {
      "cell_type": "code",
      "metadata": {
        "id": "yuelJelrDotq"
      },
      "source": [
        "BATCH_SIZE = 128\n",
        "\n",
        "device = torch.device('cuda' if torch.cuda.is_available() else 'cpu')\n",
        "\n",
        "train_iterator, test_iterator = torchtext.legacy.data.BucketIterator.splits(\n",
        "                                                                            (train_data, valid_data),\n",
        "                                                                            batch_size = BATCH_SIZE,\n",
        "                                                                            sort_key = lambda x: len(x.sentence),\n",
        "                                                                            sort_within_batch= True, \n",
        "                                                                            device = device,\n",
        "                                                                            shuffle=True)"
      ],
      "execution_count": 64,
      "outputs": []
    },
    {
      "cell_type": "code",
      "metadata": {
        "id": "s6gkGTa1kSfJ"
      },
      "source": [
        ""
      ],
      "execution_count": 64,
      "outputs": []
    },
    {
      "cell_type": "code",
      "metadata": {
        "colab": {
          "base_uri": "https://localhost:8080/"
        },
        "id": "CCWncleWK7I7",
        "outputId": "d7b9bb7b-75d9-4dbf-9ecf-7bf6e2751ddd"
      },
      "source": [
        "print('Train')\n",
        "for batch in train_iterator:\n",
        "    print(f'Text matrix size: {batch.sentence[0].size()}')\n",
        "    print(f'Target vector size: {batch.label.size()}')\n",
        "    break\n",
        "    \n",
        "print('\\nValid:')\n",
        "for batch in test_iterator:\n",
        "    print(f'Text matrix size: {batch.sentence[0].size()}')\n",
        "    print(f'Target vector size: {batch.label.size()}')\n",
        "    break"
      ],
      "execution_count": 65,
      "outputs": [
        {
          "output_type": "stream",
          "text": [
            "Train\n",
            "Text matrix size: torch.Size([128, 15])\n",
            "Target vector size: torch.Size([128])\n",
            "\n",
            "Valid:\n",
            "Text matrix size: torch.Size([128, 7])\n",
            "Target vector size: torch.Size([128])\n"
          ],
          "name": "stdout"
        }
      ]
    },
    {
      "cell_type": "code",
      "metadata": {
        "id": "cr8ZN7-bxiHE"
      },
      "source": [
        "# SAVE TOKENIZER \n",
        "import os, pickle\n",
        "with open(path+'tokenizer_SST.pkl', 'wb') as tokens: \n",
        "    pickle.dump(Text.vocab.stoi, tokens)"
      ],
      "execution_count": 66,
      "outputs": []
    },
    {
      "cell_type": "code",
      "metadata": {
        "id": "iKZiALKvD0oV"
      },
      "source": [
        "# LETS CREATE OUR MODEL "
      ],
      "execution_count": 67,
      "outputs": []
    },
    {
      "cell_type": "markdown",
      "metadata": {
        "id": "riHSNGuFF99n"
      },
      "source": [
        "## DEFINING OUR MODEL \n",
        "\n",
        "We use the Embedding and LSTM modules in PyTorch to build a simple model for classifying sentences.\n",
        "\n",
        "In this model we create three layers. \n",
        "1. First, the words in our tweets are pushed into an Embedding layer, which we have established as a 300-dimensional vector embedding. \n",
        "2. That’s then fed into a 2 stacked-LSTMs with 100 hidden features (again, we’re compressing down from the 300-dimensional input like we did with images). We are using 2 LSTMs for using the dropout.\n",
        "3. Finally, the output of the LSTM (the final hidden state after processing the incoming sentences) is pushed through a standard fully connected layer with three outputs to correspond to our three possible classes (0,1,2,3,4)."
      ]
    },
    {
      "cell_type": "code",
      "metadata": {
        "id": "lBVzrzu5E50D"
      },
      "source": [
        "\n",
        "import torch\n",
        "import torch.nn as nn\n",
        "import torch.nn.functional as F\n",
        "from torch.nn.utils.rnn import pack_padded_sequence, pad_packed_sequence\n",
        "\n",
        "# class classifier(nn.Module):\n",
        "    \n",
        "#     # Define all the layers used in model\n",
        "#     def __init__(self, vocab_size, embedding_dim, hidden_dim, output_dim, n_layers,bidirectional, dropout):\n",
        "        \n",
        "#         super().__init__()          \n",
        "        \n",
        "#         # Embedding layer\n",
        "#         self.embedding = nn.Embedding(vocab_size, embedding_dim)\n",
        "        \n",
        "#         # LSTM layer\n",
        "#         self.encoder = nn.LSTM(embedding_dim, \n",
        "#                            hidden_dim, \n",
        "#                            num_layers=n_layers, \n",
        "#                            dropout=dropout,\n",
        "#                            bidirectional=bidirectional,\n",
        "#                            batch_first=True)\n",
        "#         # try using nn.GRU or nn.RNN here and compare their performances\n",
        "#         # try bidirectional and compare their performances\n",
        "        \n",
        "#         # Dense layer\n",
        "#         self.fc1 = nn.Linear(hidden_dim, 512)\n",
        "#         self.fc2 = nn.Linear(512, output_dim)\n",
        "#         self.dropout = nn.Dropout(dropout)\n",
        "\n",
        "        \n",
        "    # def forward(self, text, text_lengths):\n",
        "        \n",
        "    #     # text = [batch size, sent_length]\n",
        "    #     embedded = self.embedding(text)\n",
        "    #     # embedded = [batch size, sent_len, emb dim]\n",
        "      \n",
        "    #     # packed sequence\n",
        "    #     packed_embedded = nn.utils.rnn.pack_padded_sequence(embedded, text_lengths.cpu(), batch_first=True)\n",
        "        \n",
        "    #     packed_output, (hidden, cell) = self.encoder(packed_embedded)\n",
        "    #     #hidden = [batch size, num layers * num directions,hid dim]\n",
        "    #     #cell = [batch size, num layers * num directions,hid dim]\n",
        "    \n",
        "    #     # Hidden = [batch size, hid dim * num directions]\n",
        "    #     #dense_outputs = self.fc(hidden)   \n",
        "    #     output = F.relu(self.fc1(hidden))\n",
        "    #     #         output = self.dropout(output)\n",
        "    #     output = self.fc2(output)\n",
        "    #     output = F.softmax(output[0], dim=1)\n",
        "        \n",
        "    #     # Final activation function softmax\n",
        "    #     # output = F.softmax(dense_outputs[0], dim=1)\n",
        "            \n",
        "    #     return output\n",
        "class classifier(nn.Module):\n",
        "    \n",
        "    # Define all the layers used in model\n",
        "    def __init__(self, vocab_size, embedding_dim, hidden_dim1, hidden_dim2, output_dim, n_layers,\n",
        "                 bidirectional, dropout, pad_index):\n",
        "        # Constructor\n",
        "        super().__init__()\n",
        "\n",
        "        # embedding layer\n",
        "        self.embedding = nn.Embedding(vocab_size, embedding_dim, padding_idx = pad_index)\n",
        "\n",
        "        # lstm layer\n",
        "        self.lstm = nn.LSTM(embedding_dim,\n",
        "                            hidden_dim1,\n",
        "                            num_layers=n_layers,\n",
        "                            bidirectional=bidirectional,\n",
        "                            batch_first=True)\n",
        "        self.fc1 = nn.Linear(hidden_dim1 * 2, hidden_dim2)\n",
        "        self.fc2 = nn.Linear(hidden_dim2, output_dim)\n",
        "        self.relu = nn.ReLU()\n",
        "        self.dropout = nn.Dropout(dropout)\n",
        "        # activation function\n",
        "        self.act = nn.Softmax() #\\ F.log_softmax(outp)\n",
        "\n",
        "    def forward(self, text, text_lengths):\n",
        "        # text = [batch size,sent_length]\n",
        "        embedded = self.embedding(text)\n",
        "        # embedded = [batch size, sent_len, emb dim]\n",
        "\n",
        "        # packed sequence\n",
        "        packed_embedded = pack_padded_sequence(embedded, text_lengths.to('cpu'), batch_first=True) # unpad\n",
        "\n",
        "        packed_output, (hidden, cell) = self.lstm(packed_embedded)\n",
        "        # packed_output shape = (batch, seq_len, num_directions * hidden_size)\n",
        "        # hidden shape  = (num_layers * num_directions, batch, hidden_size)\n",
        "\n",
        "        # concat the final forward and backward hidden state\n",
        "        cat = torch.cat((hidden[-2, :, :], hidden[-1, :, :]), dim=1)\n",
        "        # output, output_lengths = pad_packed_sequence(packed_output)  # pad the sequence to the max length in the batch\n",
        "\n",
        "        rel = self.relu(cat)\n",
        "        dense1 = self.fc1(rel)\n",
        "\n",
        "        drop = self.dropout(dense1)\n",
        "        preds = self.fc2(drop)\n",
        "\n",
        "        # Final activation function\n",
        "        # preds = self.act(preds)\n",
        "        # preds = preds.argmax(dim=1).unsqueeze(0)\n",
        "        return preds\n",
        "\n"
      ],
      "execution_count": 68,
      "outputs": []
    },
    {
      "cell_type": "code",
      "metadata": {
        "id": "c5YFigRGGlX_"
      },
      "source": [
        "#HYPER PARAMETER "
      ],
      "execution_count": 69,
      "outputs": []
    },
    {
      "cell_type": "code",
      "metadata": {
        "id": "Wfz40PkWGsJV"
      },
      "source": [
        "# Define hyperparameters\n",
        "size_of_vocab = len(Text.vocab)\n",
        "embedding_dim = 100\n",
        "num_hidden_nodes = 256\n",
        "num_output_nodes = len(Label.vocab)\n",
        "num_layers = 2\n",
        "dropout = 0.2\n",
        "PAD_IDX = Text.vocab.stoi[Text.pad_token]\n",
        "\n",
        "hidden_dim2 = 128\n",
        "bi_directional = True\n",
        "\n",
        "# Instantiate the model\n",
        "model = classifier(size_of_vocab, embedding_dim, num_hidden_nodes, hidden_dim2, num_output_nodes, num_layers, bi_directional, dropout = dropout, pad_index=PAD_IDX)"
      ],
      "execution_count": 70,
      "outputs": []
    },
    {
      "cell_type": "code",
      "metadata": {
        "id": "qVKTr7sNIWyR",
        "colab": {
          "base_uri": "https://localhost:8080/"
        },
        "outputId": "fde3bc30-cbf8-4c85-f5ba-e495c9de7865"
      },
      "source": [
        "print(model)\n",
        "\n",
        "#No. of trianable parameters\n",
        "def count_parameters(model):\n",
        "    return sum(p.numel() for p in model.parameters() if p.requires_grad)\n",
        "    \n",
        "print(f'The model has {count_parameters(model):,} trainable parameters')"
      ],
      "execution_count": 71,
      "outputs": [
        {
          "output_type": "stream",
          "text": [
            "classifier(\n",
            "  (embedding): Embedding(21586, 100, padding_idx=1)\n",
            "  (lstm): LSTM(100, 256, num_layers=2, batch_first=True, bidirectional=True)\n",
            "  (fc1): Linear(in_features=512, out_features=128, bias=True)\n",
            "  (fc2): Linear(in_features=128, out_features=5, bias=True)\n",
            "  (relu): ReLU()\n",
            "  (dropout): Dropout(p=0.2, inplace=False)\n",
            "  (act): Softmax(dim=None)\n",
            ")\n",
            "The model has 4,535,053 trainable parameters\n"
          ],
          "name": "stdout"
        }
      ]
    },
    {
      "cell_type": "code",
      "metadata": {
        "id": "mI7_JeHi8Own",
        "colab": {
          "base_uri": "https://localhost:8080/"
        },
        "outputId": "b32b919f-7a1b-4ca4-9ccf-2ca61cba4226"
      },
      "source": [
        "\n",
        "pretrained_embeddings = Text.vocab.vectors\n",
        "\n",
        "model.embedding.weight.data.copy_(pretrained_embeddings)\n"
      ],
      "execution_count": 72,
      "outputs": [
        {
          "output_type": "execute_result",
          "data": {
            "text/plain": [
              "tensor([[ 0.5318,  0.7289, -0.1647,  ..., -0.3235, -2.5056,  0.8433],\n",
              "        [-0.5219, -1.1558, -0.4062,  ...,  0.7667, -0.1611, -0.1659],\n",
              "        [-0.3010,  0.3545,  0.5200,  ...,  0.7300, -0.1279, -0.5224],\n",
              "        ...,\n",
              "        [ 0.1371,  0.1606, -0.4980,  ..., -0.5031,  0.2237,  0.3773],\n",
              "        [-0.0515, -0.3798, -0.5699,  ..., -0.0349,  0.3298,  1.1395],\n",
              "        [-0.9453, -1.2465, -0.4568,  ...,  1.0513, -0.6632, -0.9079]])"
            ]
          },
          "metadata": {
            "tags": []
          },
          "execution_count": 72
        }
      ]
    },
    {
      "cell_type": "code",
      "metadata": {
        "id": "BKB9j5st8VDy"
      },
      "source": [
        "\n",
        "UNK_IDX = Text.vocab.stoi[Text.unk_token]\n",
        "\n",
        "model.embedding.weight.data[UNK_IDX] = torch.zeros(embedding_dim)\n",
        "model.embedding.weight.data[PAD_IDX] = torch.zeros(embedding_dim)\n"
      ],
      "execution_count": 73,
      "outputs": []
    },
    {
      "cell_type": "code",
      "metadata": {
        "id": "wv77fZU8JxQJ"
      },
      "source": [
        "import torch.optim as optim\n",
        "\n",
        "# define optimizer and loss\n",
        "optimizer = optim.Adam(model.parameters(), lr=1e-4)\n",
        "criterion = nn.CrossEntropyLoss()\n",
        "\n",
        "\n",
        "# # define metric\n",
        "# def binary_accuracy(preds, y):\n",
        "#     #round predictions to the closest integer\n",
        "#     _, predictions = torch.max(preds, 1)\n",
        "    \n",
        "#     correct = (predictions == y).float() \n",
        "#     acc = correct.sum() / len(correct)\n",
        "#     return acc\n",
        "\n",
        "\n",
        "# define metric\n",
        "def categorical_accuracy(preds, y):\n",
        "    \"\"\"\n",
        "    Returns accuracy per batch, i.e. if you get 8/10 right, this returns 0.8, NOT 8\n",
        "    \"\"\"\n",
        "    top_pred = preds.argmax(1, keepdim = True)\n",
        "    correct = top_pred.eq(y.view_as(top_pred)).sum()\n",
        "    acc = correct.float() / y.shape[0]\n",
        "    return acc\n",
        "\n",
        "    \n",
        "# push to cuda if available\n",
        "model = model.to(device)\n",
        "criterion = criterion.to(device)\n"
      ],
      "execution_count": 74,
      "outputs": []
    },
    {
      "cell_type": "code",
      "metadata": {
        "id": "3rtvWQjOKc2R"
      },
      "source": [
        "def train(model, iterator, optimizer, criterion):\n",
        "    \n",
        "    # initialize every epoch \n",
        "    epoch_loss = 0\n",
        "    epoch_acc = 0\n",
        "    \n",
        "    # set the model in training phase\n",
        "    model.train()  \n",
        "    \n",
        "    for batch in iterator:\n",
        "        \n",
        "        # resets the gradients after every batch\n",
        "        optimizer.zero_grad()   \n",
        "        \n",
        "        # retrieve text and no. of words\n",
        "        tweet, tweet_lengths = batch.sentence\n",
        "        \n",
        "        # convert to 1D tensor\n",
        "        predictions = model(tweet, tweet_lengths).squeeze()  \n",
        "        \n",
        "        # compute the loss\n",
        "        loss = criterion(predictions, batch.label)        \n",
        "        \n",
        "        # compute the binary accuracy\n",
        "        # acc = binary_accuracy(predictions, batch.label)   \n",
        "\n",
        "        # compute the categorical accuracy\n",
        "        acc = categorical_accuracy(predictions, batch.label)   \n",
        "        \n",
        "        # backpropage the loss and compute the gradients\n",
        "        loss.backward()       \n",
        "        \n",
        "        # update the weights\n",
        "        optimizer.step()      \n",
        "        \n",
        "        # loss and accuracy\n",
        "        epoch_loss += loss.item()  \n",
        "        epoch_acc += acc.item()    \n",
        "        \n",
        "    return epoch_loss / len(iterator), epoch_acc / len(iterator)\n",
        "def evaluate(model, iterator, criterion):\n",
        "    \n",
        "    # initialize every epoch\n",
        "    epoch_loss = 0\n",
        "    epoch_acc = 0\n",
        "\n",
        "    # deactivating dropout layers\n",
        "    model.eval()\n",
        "    \n",
        "    # deactivates autograd\n",
        "    with torch.no_grad():\n",
        "    \n",
        "        for batch in iterator:\n",
        "        \n",
        "            # retrieve text and no. of words\n",
        "            text, text_lengths = batch.sentence\n",
        "            \n",
        "            # convert to 1d tensor\n",
        "            predictions = model(text, text_lengths).squeeze()\n",
        "            \n",
        "            # compute loss and accuracy\n",
        "            loss = criterion(predictions, batch.label)\n",
        "            # compute the binary accuracy\n",
        "            # acc = binary_accuracy(predictions, batch.label)   \n",
        "\n",
        "            # compute the categorical accuracy\n",
        "            acc = categorical_accuracy(predictions, batch.label)  \n",
        "            \n",
        "            # keep track of loss and accuracy\n",
        "            epoch_loss += loss.item()\n",
        "            epoch_acc += acc.item()\n",
        "        \n",
        "    return epoch_loss / len(iterator), epoch_acc / len(iterator)"
      ],
      "execution_count": 75,
      "outputs": []
    },
    {
      "cell_type": "code",
      "metadata": {
        "id": "fKWtkBQRoaZc"
      },
      "source": [
        "# load train and test iteraror\n"
      ],
      "execution_count": 76,
      "outputs": []
    },
    {
      "cell_type": "code",
      "metadata": {
        "id": "9xYYNmgbKreb",
        "colab": {
          "base_uri": "https://localhost:8080/"
        },
        "outputId": "cf9bf850-c304-4559-d449-faedefa81c45"
      },
      "source": [
        "N_EPOCHS = 50\n",
        "best_valid_loss = float('inf')\n",
        "\n",
        "train_loss_epoch=[]\n",
        "valid_loss_epoch=[]\n",
        "train_acc_epoch=[]\n",
        "valid_acc_epoch=[]\n",
        "\n",
        "for epoch in range(N_EPOCHS):\n",
        "    print(\"epoch :---->\",epoch)\n",
        "    # train the model\n",
        "    train_loss, train_acc = train(model, train_iterator, optimizer, criterion)\n",
        "    \n",
        "    # evaluate the model\n",
        "    valid_loss, valid_acc = evaluate(model, test_iterator, criterion)\n",
        "    \n",
        "    # save the best model\n",
        "    if valid_loss < best_valid_loss:\n",
        "        best_valid_loss = valid_loss\n",
        "        torch.save(model.state_dict(), path+'saved_weights_SST.pt')\n",
        "\n",
        "    train_loss_epoch.append(train_loss)\n",
        "    valid_loss_epoch.append(valid_loss)\n",
        "    train_acc_epoch.append(train_acc)\n",
        "    valid_acc_epoch.append(valid_acc)\n",
        "    print(f'\\tTrain Loss: {train_loss:.3f} | Train Acc: {train_acc*100:.2f}%')\n",
        "    print(f'\\t Val. Loss: {valid_loss:.3f} |  Val. Acc: {valid_acc*100:.2f}% \\n')"
      ],
      "execution_count": 77,
      "outputs": [
        {
          "output_type": "stream",
          "text": [
            "epoch :----> 0\n",
            "\tTrain Loss: 1.550 | Train Acc: 29.71%\n",
            "\t Val. Loss: 1.475 |  Val. Acc: 35.21% \n",
            "\n",
            "epoch :----> 1\n",
            "\tTrain Loss: 1.418 | Train Acc: 37.54%\n",
            "\t Val. Loss: 1.412 |  Val. Acc: 38.94% \n",
            "\n",
            "epoch :----> 2\n",
            "\tTrain Loss: 1.356 | Train Acc: 40.33%\n",
            "\t Val. Loss: 1.374 |  Val. Acc: 40.42% \n",
            "\n",
            "epoch :----> 3\n",
            "\tTrain Loss: 1.313 | Train Acc: 42.36%\n",
            "\t Val. Loss: 1.362 |  Val. Acc: 40.32% \n",
            "\n",
            "epoch :----> 4\n",
            "\tTrain Loss: 1.264 | Train Acc: 44.71%\n",
            "\t Val. Loss: 1.337 |  Val. Acc: 41.21% \n",
            "\n",
            "epoch :----> 5\n",
            "\tTrain Loss: 1.217 | Train Acc: 46.69%\n",
            "\t Val. Loss: 1.367 |  Val. Acc: 40.89% \n",
            "\n",
            "epoch :----> 6\n",
            "\tTrain Loss: 1.195 | Train Acc: 47.87%\n",
            "\t Val. Loss: 1.323 |  Val. Acc: 41.63% \n",
            "\n",
            "epoch :----> 7\n",
            "\tTrain Loss: 1.143 | Train Acc: 50.53%\n",
            "\t Val. Loss: 1.304 |  Val. Acc: 42.14% \n",
            "\n",
            "epoch :----> 8\n",
            "\tTrain Loss: 1.095 | Train Acc: 53.18%\n",
            "\t Val. Loss: 1.320 |  Val. Acc: 41.88% \n",
            "\n",
            "epoch :----> 9\n",
            "\tTrain Loss: 1.048 | Train Acc: 55.67%\n",
            "\t Val. Loss: 1.329 |  Val. Acc: 41.14% \n",
            "\n",
            "epoch :----> 10\n",
            "\tTrain Loss: 1.011 | Train Acc: 57.01%\n",
            "\t Val. Loss: 1.445 |  Val. Acc: 38.78% \n",
            "\n",
            "epoch :----> 11\n",
            "\tTrain Loss: 0.983 | Train Acc: 59.22%\n",
            "\t Val. Loss: 1.413 |  Val. Acc: 40.12% \n",
            "\n",
            "epoch :----> 12\n",
            "\tTrain Loss: 0.925 | Train Acc: 61.92%\n",
            "\t Val. Loss: 1.457 |  Val. Acc: 38.36% \n",
            "\n",
            "epoch :----> 13\n",
            "\tTrain Loss: 0.893 | Train Acc: 63.55%\n",
            "\t Val. Loss: 1.568 |  Val. Acc: 38.98% \n",
            "\n",
            "epoch :----> 14\n",
            "\tTrain Loss: 0.823 | Train Acc: 66.85%\n",
            "\t Val. Loss: 1.585 |  Val. Acc: 40.11% \n",
            "\n",
            "epoch :----> 15\n",
            "\tTrain Loss: 0.816 | Train Acc: 67.07%\n",
            "\t Val. Loss: 1.490 |  Val. Acc: 39.08% \n",
            "\n",
            "epoch :----> 16\n",
            "\tTrain Loss: 0.751 | Train Acc: 70.53%\n",
            "\t Val. Loss: 1.681 |  Val. Acc: 39.56% \n",
            "\n",
            "epoch :----> 17\n",
            "\tTrain Loss: 0.717 | Train Acc: 72.36%\n",
            "\t Val. Loss: 1.727 |  Val. Acc: 39.56% \n",
            "\n",
            "epoch :----> 18\n",
            "\tTrain Loss: 0.658 | Train Acc: 74.91%\n",
            "\t Val. Loss: 1.836 |  Val. Acc: 37.61% \n",
            "\n",
            "epoch :----> 19\n",
            "\tTrain Loss: 0.646 | Train Acc: 75.34%\n",
            "\t Val. Loss: 1.973 |  Val. Acc: 39.75% \n",
            "\n",
            "epoch :----> 20\n",
            "\tTrain Loss: 0.596 | Train Acc: 77.52%\n",
            "\t Val. Loss: 2.065 |  Val. Acc: 37.95% \n",
            "\n",
            "epoch :----> 21\n",
            "\tTrain Loss: 0.544 | Train Acc: 79.99%\n",
            "\t Val. Loss: 2.078 |  Val. Acc: 37.99% \n",
            "\n",
            "epoch :----> 22\n",
            "\tTrain Loss: 0.522 | Train Acc: 80.80%\n",
            "\t Val. Loss: 2.107 |  Val. Acc: 39.47% \n",
            "\n",
            "epoch :----> 23\n",
            "\tTrain Loss: 0.488 | Train Acc: 82.13%\n",
            "\t Val. Loss: 2.244 |  Val. Acc: 38.34% \n",
            "\n",
            "epoch :----> 24\n",
            "\tTrain Loss: 0.439 | Train Acc: 84.33%\n",
            "\t Val. Loss: 2.373 |  Val. Acc: 39.59% \n",
            "\n",
            "epoch :----> 25\n",
            "\tTrain Loss: 0.411 | Train Acc: 85.26%\n",
            "\t Val. Loss: 2.718 |  Val. Acc: 37.00% \n",
            "\n",
            "epoch :----> 26\n",
            "\tTrain Loss: 0.379 | Train Acc: 86.61%\n",
            "\t Val. Loss: 2.967 |  Val. Acc: 38.25% \n",
            "\n",
            "epoch :----> 27\n",
            "\tTrain Loss: 0.391 | Train Acc: 86.06%\n",
            "\t Val. Loss: 2.116 |  Val. Acc: 38.58% \n",
            "\n",
            "epoch :----> 28\n",
            "\tTrain Loss: 0.334 | Train Acc: 88.44%\n",
            "\t Val. Loss: 2.914 |  Val. Acc: 38.93% \n",
            "\n",
            "epoch :----> 29\n",
            "\tTrain Loss: 0.327 | Train Acc: 88.47%\n",
            "\t Val. Loss: 3.143 |  Val. Acc: 38.57% \n",
            "\n",
            "epoch :----> 30\n",
            "\tTrain Loss: 0.269 | Train Acc: 90.58%\n",
            "\t Val. Loss: 3.388 |  Val. Acc: 37.73% \n",
            "\n",
            "epoch :----> 31\n",
            "\tTrain Loss: 0.251 | Train Acc: 91.38%\n",
            "\t Val. Loss: 3.378 |  Val. Acc: 38.35% \n",
            "\n",
            "epoch :----> 32\n",
            "\tTrain Loss: 0.265 | Train Acc: 90.70%\n",
            "\t Val. Loss: 3.403 |  Val. Acc: 37.72% \n",
            "\n",
            "epoch :----> 33\n",
            "\tTrain Loss: 0.199 | Train Acc: 93.55%\n",
            "\t Val. Loss: 4.097 |  Val. Acc: 37.69% \n",
            "\n",
            "epoch :----> 34\n",
            "\tTrain Loss: 0.189 | Train Acc: 93.60%\n",
            "\t Val. Loss: 4.147 |  Val. Acc: 37.57% \n",
            "\n",
            "epoch :----> 35\n",
            "\tTrain Loss: 0.175 | Train Acc: 94.06%\n",
            "\t Val. Loss: 4.226 |  Val. Acc: 36.43% \n",
            "\n",
            "epoch :----> 36\n",
            "\tTrain Loss: 0.220 | Train Acc: 92.77%\n",
            "\t Val. Loss: 4.381 |  Val. Acc: 38.21% \n",
            "\n",
            "epoch :----> 37\n",
            "\tTrain Loss: 0.142 | Train Acc: 95.33%\n",
            "\t Val. Loss: 4.525 |  Val. Acc: 38.71% \n",
            "\n",
            "epoch :----> 38\n",
            "\tTrain Loss: 0.119 | Train Acc: 96.23%\n",
            "\t Val. Loss: 4.505 |  Val. Acc: 36.98% \n",
            "\n",
            "epoch :----> 39\n",
            "\tTrain Loss: 0.134 | Train Acc: 95.50%\n",
            "\t Val. Loss: 4.783 |  Val. Acc: 36.52% \n",
            "\n",
            "epoch :----> 40\n",
            "\tTrain Loss: 0.125 | Train Acc: 95.84%\n",
            "\t Val. Loss: 5.064 |  Val. Acc: 36.95% \n",
            "\n",
            "epoch :----> 41\n",
            "\tTrain Loss: 0.092 | Train Acc: 97.23%\n",
            "\t Val. Loss: 5.317 |  Val. Acc: 38.06% \n",
            "\n",
            "epoch :----> 42\n",
            "\tTrain Loss: 0.075 | Train Acc: 97.79%\n",
            "\t Val. Loss: 5.818 |  Val. Acc: 38.06% \n",
            "\n",
            "epoch :----> 43\n",
            "\tTrain Loss: 0.066 | Train Acc: 98.08%\n",
            "\t Val. Loss: 5.925 |  Val. Acc: 38.37% \n",
            "\n",
            "epoch :----> 44\n",
            "\tTrain Loss: 0.157 | Train Acc: 95.25%\n",
            "\t Val. Loss: 5.110 |  Val. Acc: 36.62% \n",
            "\n",
            "epoch :----> 45\n",
            "\tTrain Loss: 0.098 | Train Acc: 96.93%\n",
            "\t Val. Loss: 5.401 |  Val. Acc: 37.15% \n",
            "\n",
            "epoch :----> 46\n",
            "\tTrain Loss: 0.061 | Train Acc: 98.28%\n",
            "\t Val. Loss: 5.750 |  Val. Acc: 37.04% \n",
            "\n",
            "epoch :----> 47\n",
            "\tTrain Loss: 0.056 | Train Acc: 98.36%\n",
            "\t Val. Loss: 6.065 |  Val. Acc: 36.87% \n",
            "\n",
            "epoch :----> 48\n",
            "\tTrain Loss: 0.061 | Train Acc: 98.12%\n",
            "\t Val. Loss: 6.478 |  Val. Acc: 35.10% \n",
            "\n",
            "epoch :----> 49\n",
            "\tTrain Loss: 0.069 | Train Acc: 98.26%\n",
            "\t Val. Loss: 5.728 |  Val. Acc: 37.53% \n",
            "\n"
          ],
          "name": "stdout"
        }
      ]
    },
    {
      "cell_type": "code",
      "metadata": {
        "id": "KqZa5aOZLcVn",
        "colab": {
          "base_uri": "https://localhost:8080/",
          "height": 610
        },
        "outputId": "39b49ad9-6286-43e4-9926-71a66b5bf27b"
      },
      "source": [
        "import seaborn as sns\n",
        "import matplotlib.pyplot as plt\n",
        "sns.set()\n",
        "plt.style.use(\"dark_background\")\n",
        "\n",
        "fig, axs = plt.subplots(2,2,figsize=(15,10))\n",
        "axs[0, 0].plot(train_loss_epoch)\n",
        "axs[0, 0].set_title(\"Training Loss\")\n",
        "axs[0, 1].plot(valid_loss_epoch)\n",
        "axs[0, 1].set_title(\"Test Loss\")\n",
        "axs[1, 0].plot(train_acc_epoch)\n",
        "axs[1, 0].set_title(\"Training Accuracy\")\n",
        "axs[1, 1].plot(valid_acc_epoch)\n",
        "axs[1, 1].set_title(\"Test Accuracy\")\n",
        "plt.show()"
      ],
      "execution_count": 78,
      "outputs": [
        {
          "output_type": "display_data",
          "data": {
            "image/png": "[encoded data removed]",
            "text/plain": [
              "<Figure size 1080x720 with 4 Axes>"
            ]
          },
          "metadata": {
            "tags": []
          }
        }
      ]
    },
    {
      "cell_type": "code",
      "metadata": {
        "id": "wxpo1F2LaKJ_",
        "colab": {
          "base_uri": "https://localhost:8080/"
        },
        "outputId": "1234fcda-ea6e-4372-dd7a-9df43f209654"
      },
      "source": [
        "valid_acc"
      ],
      "execution_count": 79,
      "outputs": [
        {
          "output_type": "execute_result",
          "data": {
            "text/plain": [
              "0.37528084218502045"
            ]
          },
          "metadata": {
            "tags": []
          },
          "execution_count": 79
        }
      ]
    },
    {
      "cell_type": "code",
      "metadata": {
        "id": "9hg8ZMXNxrRU"
      },
      "source": [
        "# LOAD  SAVED MODEL \n"
      ],
      "execution_count": 80,
      "outputs": []
    },
    {
      "cell_type": "code",
      "metadata": {
        "id": "RtF_YG1Sx0Za"
      },
      "source": [
        "model_path=path+'/saved_weights_SST.pt'\n",
        "model.load_state_dict(torch.load(model_path));\n",
        "model.eval();\n",
        "tokenizer_file = open(path+'./tokenizer_SST.pkl', 'rb')\n",
        "tokenizer = pickle.load(tokenizer_file)\n",
        "\n",
        "\n",
        "\n",
        "import spacy\n",
        "nlp = spacy.load('en')\n",
        "\n",
        "def classify_text(tweet):\n",
        "    \n",
        "    categories = {0: \"0\", 1:\"1\", 2:\"2\", 3:\"3\", 4:\"4\"}\n",
        "    \n",
        "    # tokenize the tweet \n",
        "    tokenized = [tok.text for tok in nlp.tokenizer(tweet)] \n",
        "    # convert to integer sequence using predefined tokenizer dictionary\n",
        "    indexed = [tokenizer[t] for t in tokenized]        \n",
        "    # compute no. of words        \n",
        "    length = [len(indexed)]\n",
        "    # convert to tensor                                    \n",
        "    tensor = torch.LongTensor(indexed).to(device)   \n",
        "    # reshape in form of batch, no. of words           \n",
        "    tensor = tensor.unsqueeze(1).T  \n",
        "    # convert to tensor                          \n",
        "    length_tensor = torch.LongTensor(length)\n",
        "    # Get the model prediction                  \n",
        "    prediction = model(tensor, length_tensor)\n",
        "    #print(prediction)\n",
        "\n",
        "    #_, pred = torch.max(prediction, 1) \n",
        "    pred = prediction.argmax(1, keepdim = True)\n",
        "    \n",
        "    return categories[pred.item()]"
      ],
      "execution_count": 81,
      "outputs": []
    },
    {
      "cell_type": "code",
      "metadata": {
        "id": "c_Pm22UW3qeE",
        "colab": {
          "base_uri": "https://localhost:8080/",
          "height": 35
        },
        "outputId": "ada2f3fc-7423-4df1-b256-114d8c202fc7"
      },
      "source": [
        "#for individual prediction \n",
        "classify_text(\"The Rock is destined to be the 21st Century 's new `` Conan '' and that he 's going to make a splash even greater than Arnold Schwarzenegger , Jean-Claud Van Damme or Steven Segal good bad worst   \")"
      ],
      "execution_count": 82,
      "outputs": [
        {
          "output_type": "execute_result",
          "data": {
            "application/vnd.google.colaboratory.intrinsic+json": {
              "type": "string"
            },
            "text/plain": [
              "'1'"
            ]
          },
          "metadata": {
            "tags": []
          },
          "execution_count": 82
        }
      ]
    },
    {
      "cell_type": "code",
      "metadata": {
        "id": "Fal43ZIjki9H",
        "colab": {
          "base_uri": "https://localhost:8080/",
          "height": 200
        },
        "outputId": "91439aef-b13c-42e8-a1f6-b2fbad943f72"
      },
      "source": [
        "train_final=pd.read_csv(path+'train_final.csv')\n",
        "test=pd.read_csv(path+'test.csv')\n",
        "test.head()"
      ],
      "execution_count": 83,
      "outputs": [
        {
          "output_type": "execute_result",
          "data": {
            "text/html": [
              "<div>\n",
              "<style scoped>\n",
              "    .dataframe tbody tr th:only-of-type {\n",
              "        vertical-align: middle;\n",
              "    }\n",
              "\n",
              "    .dataframe tbody tr th {\n",
              "        vertical-align: top;\n",
              "    }\n",
              "\n",
              "    .dataframe thead th {\n",
              "        text-align: right;\n",
              "    }\n",
              "</style>\n",
              "<table border=\"1\" class=\"dataframe\">\n",
              "  <thead>\n",
              "    <tr style=\"text-align: right;\">\n",
              "      <th></th>\n",
              "      <th>label</th>\n",
              "      <th>sentence</th>\n",
              "    </tr>\n",
              "  </thead>\n",
              "  <tbody>\n",
              "    <tr>\n",
              "      <th>0</th>\n",
              "      <td>2</td>\n",
              "      <td>Effective but too-tepid biopic</td>\n",
              "    </tr>\n",
              "    <tr>\n",
              "      <th>1</th>\n",
              "      <td>3</td>\n",
              "      <td>If you sometimes like to go to the movies to h...</td>\n",
              "    </tr>\n",
              "    <tr>\n",
              "      <th>2</th>\n",
              "      <td>4</td>\n",
              "      <td>Emerges as something rare , an issue movie tha...</td>\n",
              "    </tr>\n",
              "    <tr>\n",
              "      <th>3</th>\n",
              "      <td>2</td>\n",
              "      <td>The film provides some great insight into the ...</td>\n",
              "    </tr>\n",
              "    <tr>\n",
              "      <th>4</th>\n",
              "      <td>4</td>\n",
              "      <td>Offers that rare combination of entertainment ...</td>\n",
              "    </tr>\n",
              "  </tbody>\n",
              "</table>\n",
              "</div>"
            ],
            "text/plain": [
              "   label                                           sentence\n",
              "0      2                     Effective but too-tepid biopic\n",
              "1      3  If you sometimes like to go to the movies to h...\n",
              "2      4  Emerges as something rare , an issue movie tha...\n",
              "3      2  The film provides some great insight into the ...\n",
              "4      4  Offers that rare combination of entertainment ..."
            ]
          },
          "metadata": {
            "tags": []
          },
          "execution_count": 83
        }
      ]
    },
    {
      "cell_type": "code",
      "metadata": {
        "id": "q4DKpnU9ihDP"
      },
      "source": [
        "test1=test\n",
        "test1['pred_label']=test1.sentence.apply(classify_text)"
      ],
      "execution_count": 84,
      "outputs": []
    },
    {
      "cell_type": "code",
      "metadata": {
        "id": "LcfeDi85imYn",
        "colab": {
          "base_uri": "https://localhost:8080/",
          "height": 200
        },
        "outputId": "1433e9da-07eb-4d3c-a0e7-e8499319b0cc"
      },
      "source": [
        "test1.head()"
      ],
      "execution_count": 85,
      "outputs": [
        {
          "output_type": "execute_result",
          "data": {
            "text/html": [
              "<div>\n",
              "<style scoped>\n",
              "    .dataframe tbody tr th:only-of-type {\n",
              "        vertical-align: middle;\n",
              "    }\n",
              "\n",
              "    .dataframe tbody tr th {\n",
              "        vertical-align: top;\n",
              "    }\n",
              "\n",
              "    .dataframe thead th {\n",
              "        text-align: right;\n",
              "    }\n",
              "</style>\n",
              "<table border=\"1\" class=\"dataframe\">\n",
              "  <thead>\n",
              "    <tr style=\"text-align: right;\">\n",
              "      <th></th>\n",
              "      <th>label</th>\n",
              "      <th>sentence</th>\n",
              "      <th>pred_label</th>\n",
              "    </tr>\n",
              "  </thead>\n",
              "  <tbody>\n",
              "    <tr>\n",
              "      <th>0</th>\n",
              "      <td>2</td>\n",
              "      <td>Effective but too-tepid biopic</td>\n",
              "      <td>1</td>\n",
              "    </tr>\n",
              "    <tr>\n",
              "      <th>1</th>\n",
              "      <td>3</td>\n",
              "      <td>If you sometimes like to go to the movies to h...</td>\n",
              "      <td>0</td>\n",
              "    </tr>\n",
              "    <tr>\n",
              "      <th>2</th>\n",
              "      <td>4</td>\n",
              "      <td>Emerges as something rare , an issue movie tha...</td>\n",
              "      <td>0</td>\n",
              "    </tr>\n",
              "    <tr>\n",
              "      <th>3</th>\n",
              "      <td>2</td>\n",
              "      <td>The film provides some great insight into the ...</td>\n",
              "      <td>0</td>\n",
              "    </tr>\n",
              "    <tr>\n",
              "      <th>4</th>\n",
              "      <td>4</td>\n",
              "      <td>Offers that rare combination of entertainment ...</td>\n",
              "      <td>3</td>\n",
              "    </tr>\n",
              "  </tbody>\n",
              "</table>\n",
              "</div>"
            ],
            "text/plain": [
              "   label                                           sentence pred_label\n",
              "0      2                     Effective but too-tepid biopic          1\n",
              "1      3  If you sometimes like to go to the movies to h...          0\n",
              "2      4  Emerges as something rare , an issue movie tha...          0\n",
              "3      2  The film provides some great insight into the ...          0\n",
              "4      4  Offers that rare combination of entertainment ...          3"
            ]
          },
          "metadata": {
            "tags": []
          },
          "execution_count": 85
        }
      ]
    },
    {
      "cell_type": "code",
      "metadata": {
        "id": "n_KuECd6lVxq",
        "colab": {
          "base_uri": "https://localhost:8080/",
          "height": 230
        },
        "outputId": "c38d16da-c4dd-4244-efc3-4b5662df2669"
      },
      "source": [
        "# LETS CROSS TAB \n",
        "pd.crosstab(test1['label'],test1['pred_label'])"
      ],
      "execution_count": 86,
      "outputs": [
        {
          "output_type": "execute_result",
          "data": {
            "text/html": [
              "<div>\n",
              "<style scoped>\n",
              "    .dataframe tbody tr th:only-of-type {\n",
              "        vertical-align: middle;\n",
              "    }\n",
              "\n",
              "    .dataframe tbody tr th {\n",
              "        vertical-align: top;\n",
              "    }\n",
              "\n",
              "    .dataframe thead th {\n",
              "        text-align: right;\n",
              "    }\n",
              "</style>\n",
              "<table border=\"1\" class=\"dataframe\">\n",
              "  <thead>\n",
              "    <tr style=\"text-align: right;\">\n",
              "      <th>pred_label</th>\n",
              "      <th>0</th>\n",
              "      <th>1</th>\n",
              "      <th>2</th>\n",
              "      <th>3</th>\n",
              "      <th>4</th>\n",
              "    </tr>\n",
              "    <tr>\n",
              "      <th>label</th>\n",
              "      <th></th>\n",
              "      <th></th>\n",
              "      <th></th>\n",
              "      <th></th>\n",
              "      <th></th>\n",
              "    </tr>\n",
              "  </thead>\n",
              "  <tbody>\n",
              "    <tr>\n",
              "      <th>0</th>\n",
              "      <td>30</td>\n",
              "      <td>193</td>\n",
              "      <td>25</td>\n",
              "      <td>1</td>\n",
              "      <td>30</td>\n",
              "    </tr>\n",
              "    <tr>\n",
              "      <th>1</th>\n",
              "      <td>116</td>\n",
              "      <td>393</td>\n",
              "      <td>90</td>\n",
              "      <td>3</td>\n",
              "      <td>31</td>\n",
              "    </tr>\n",
              "    <tr>\n",
              "      <th>2</th>\n",
              "      <td>144</td>\n",
              "      <td>167</td>\n",
              "      <td>67</td>\n",
              "      <td>5</td>\n",
              "      <td>6</td>\n",
              "    </tr>\n",
              "    <tr>\n",
              "      <th>3</th>\n",
              "      <td>296</td>\n",
              "      <td>85</td>\n",
              "      <td>62</td>\n",
              "      <td>67</td>\n",
              "      <td>0</td>\n",
              "    </tr>\n",
              "    <tr>\n",
              "      <th>4</th>\n",
              "      <td>202</td>\n",
              "      <td>28</td>\n",
              "      <td>20</td>\n",
              "      <td>149</td>\n",
              "      <td>0</td>\n",
              "    </tr>\n",
              "  </tbody>\n",
              "</table>\n",
              "</div>"
            ],
            "text/plain": [
              "pred_label    0    1   2    3   4\n",
              "label                            \n",
              "0            30  193  25    1  30\n",
              "1           116  393  90    3  31\n",
              "2           144  167  67    5   6\n",
              "3           296   85  62   67   0\n",
              "4           202   28  20  149   0"
            ]
          },
          "metadata": {
            "tags": []
          },
          "execution_count": 86
        }
      ]
    },
    {
      "cell_type": "code",
      "metadata": {
        "id": "p23z-1ilPel-"
      },
      "source": [
        "# PLOT CONFUSION MATRIX \n",
        "from sklearn.metrics import confusion_matrix\n",
        "import matplotlib.pyplot as plt\n",
        "import numpy as np\n",
        "\n",
        "\n",
        "def plot_confusion_matrix(y_true, y_pred, \n",
        "                          classes=['Very Negative','Negative','Neutral','Positive','Very Positive'],#[1, 2, 3, 4, 5],\n",
        "                          normalize=False,\n",
        "                          cmap=plt.cm.YlOrBr):\n",
        "    \"\"\"\n",
        "    This function prints and plots the confusion matrix.\n",
        "    Normalization can be applied by setting `normalize=True`.\n",
        "    (Adapted from scikit-learn docs).\n",
        "    \"\"\"\n",
        "    # Compute confusion matrix\n",
        "    cm = confusion_matrix(y_true, y_pred)\n",
        "\n",
        "    if normalize:\n",
        "        cm = cm.astype('float') / cm.sum(axis=1)[:, np.newaxis]\n",
        "\n",
        "    fig, ax = plt.subplots()\n",
        "    im = ax.imshow(cm, interpolation='nearest', origin='lower', cmap=cmap)\n",
        "    ax.figure.colorbar(im, ax=ax)\n",
        "    # Show all ticks\n",
        "    ax.set(xticks=np.arange(cm.shape[1]),\n",
        "           yticks=np.arange(cm.shape[0]),\n",
        "           # Label with respective list entries\n",
        "           xticklabels=classes, yticklabels=classes,\n",
        "           ylabel='True label',\n",
        "           xlabel='Predicted label')\n",
        "    # Set alignment of tick labels\n",
        "    plt.setp(ax.get_xticklabels(), rotation=0, ha=\"right\",\n",
        "             rotation_mode=\"anchor\")\n",
        "\n",
        "    # Loop over data dimensions and create text annotations\n",
        "    fmt = '.2f' if normalize else 'd'\n",
        "    thresh = cm.max() / 2.\n",
        "    for i in range(cm.shape[0]):\n",
        "        for j in range(cm.shape[1]):\n",
        "            ax.text(j, i, format(cm[i, j], fmt),\n",
        "                    ha=\"center\", va=\"center\",\n",
        "                    color=\"white\" if cm[i, j] > thresh else \"black\")\n",
        "    return fig, ax"
      ],
      "execution_count": 87,
      "outputs": []
    },
    {
      "cell_type": "code",
      "metadata": {
        "id": "m1rTwrO3WP4p",
        "colab": {
          "base_uri": "https://localhost:8080/",
          "height": 505
        },
        "outputId": "2e709323-cd82-4a04-f898-24b67bba22a9"
      },
      "source": [
        "plt.rcParams[\"figure.figsize\"] = (8,8)\n",
        "\n",
        "plot_confusion_matrix(test1['label'].values.tolist(), test1['pred_label'].astype(int).values.tolist())"
      ],
      "execution_count": 88,
      "outputs": [
        {
          "output_type": "execute_result",
          "data": {
            "text/plain": [
              "(<Figure size 576x576 with 2 Axes>,\n",
              " <matplotlib.axes._subplots.AxesSubplot at 0x7f5aa81bb890>)"
            ]
          },
          "metadata": {
            "tags": []
          },
          "execution_count": 88
        },
        {
          "output_type": "display_data",
          "data": {
            "image/png": "[encoded data removed]",
            "text/plain": [
              "<Figure size 576x576 with 2 Axes>"
            ]
          },
          "metadata": {
            "tags": []
          }
        }
      ]
    },
    {
      "cell_type": "code",
      "metadata": {
        "id": "anI9SJ-ajycV"
      },
      "source": [
        "test1.to_csv(path+\"result_test.csv\")"
      ],
      "execution_count": 89,
      "outputs": []
    },
    {
      "cell_type": "code",
      "metadata": {
        "id": "Io0aQ9efKHIX"
      },
      "source": [
        "test1=pd.read_csv(path+\"result_test.csv\")"
      ],
      "execution_count": 90,
      "outputs": []
    },
    {
      "cell_type": "code",
      "metadata": {
        "id": "5FVcu2cPkQoF"
      },
      "source": [
        "test_correct =test1[(test1.label == test1.pred_label ) ]\n",
        "test_incorrect =test1[(test1.label != test1.pred_label ) ]                  "
      ],
      "execution_count": 91,
      "outputs": []
    },
    {
      "cell_type": "code",
      "metadata": {
        "id": "l58KqrRKLrCz"
      },
      "source": [
        "#LETS PRINT OUT 10 CORRECT PREDICTION "
      ],
      "execution_count": 92,
      "outputs": []
    },
    {
      "cell_type": "code",
      "metadata": {
        "id": "TVbc-9a-YDR3",
        "colab": {
          "base_uri": "https://localhost:8080/"
        },
        "outputId": "072e6df4-2aa2-4a1d-fb57-1754841f433c"
      },
      "source": [
        "SentimentClass = {0:'Very Negative', 1:'Negative', 2:'Neutral', 3:'Positive', 4:'Very Positive'}\n",
        "correctly_classified_texts=test_correct[:10]\n",
        "print(\"*\"*40)\n",
        "print(\"***** Correctly Classified Text: *******\")\n",
        "print(\"*\"*40)\n",
        "for i, (index, row) in enumerate(correctly_classified_texts.iterrows()):\n",
        "  print(f\"{i+1}) Text: {row['sentence']}\")\n",
        "  print(f\"   Target Sentiment: {SentimentClass[row['label']]}\")\n",
        "  print(f\"   Predicted Sentiment: {SentimentClass[row['pred_label']]}\")\n",
        "  print()"
      ],
      "execution_count": 93,
      "outputs": [
        {
          "output_type": "stream",
          "text": [
            "****************************************\n",
            "***** Correctly Classified Text: *******\n",
            "****************************************\n",
            "1) Text: Take Care of My Cat offers a refreshingly different slice of Asian cinema .\n",
            "   Target Sentiment: Positive\n",
            "   Predicted Sentiment: Positive\n",
            "\n",
            "2) Text: The film makes a strong case for the importance of the musicians in creating the Motown sound .\n",
            "   Target Sentiment: Positive\n",
            "   Predicted Sentiment: Positive\n",
            "\n",
            "3) Text: A real movie , about real people , that gives us a rare glimpse into a culture most of us do n't know .\n",
            "   Target Sentiment: Positive\n",
            "   Predicted Sentiment: Positive\n",
            "\n",
            "4) Text: Manages to be original , even though it rips off many of its ideas .\n",
            "   Target Sentiment: Neutral\n",
            "   Predicted Sentiment: Neutral\n",
            "\n",
            "5) Text: A pleasant enough movie , held together by skilled ensemble actors .\n",
            "   Target Sentiment: Positive\n",
            "   Predicted Sentiment: Positive\n",
            "\n",
            "6) Text: Painful to watch , but viewers willing to take a chance will be rewarded with two of the year 's most accomplished and riveting film performances .\n",
            "   Target Sentiment: Positive\n",
            "   Predicted Sentiment: Positive\n",
            "\n",
            "7) Text: While The Isle is both preposterous and thoroughly misogynistic , its vistas are incredibly beautiful to look at .\n",
            "   Target Sentiment: Positive\n",
            "   Predicted Sentiment: Positive\n",
            "\n",
            "8) Text: Director Kapur is a filmmaker with a real flair for epic landscapes and adventure , and this is a better film than his earlier English-language movie , the overpraised Elizabeth .\n",
            "   Target Sentiment: Positive\n",
            "   Predicted Sentiment: Positive\n",
            "\n",
            "9) Text: Katz uses archival footage , horrifying documents of lynchings , still photographs and charming old reel-to-reel recordings of Meeropol entertaining his children to create his song history , but most powerful of all is the song itself\n",
            "   Target Sentiment: Positive\n",
            "   Predicted Sentiment: Positive\n",
            "\n",
            "10) Text: A mostly intelligent , engrossing and psychologically resonant suspenser .\n",
            "   Target Sentiment: Positive\n",
            "   Predicted Sentiment: Positive\n",
            "\n"
          ],
          "name": "stdout"
        }
      ]
    },
    {
      "cell_type": "code",
      "metadata": {
        "id": "K1aByQRok2aW"
      },
      "source": [
        "#LETS PRINT OUT 10 INCORRECT PREDICTION "
      ],
      "execution_count": 94,
      "outputs": []
    },
    {
      "cell_type": "code",
      "metadata": {
        "id": "8BXIWwp3IGkE",
        "colab": {
          "base_uri": "https://localhost:8080/"
        },
        "outputId": "d0477360-7e7e-420a-850c-d8eb02db8812"
      },
      "source": [
        "SentimentClass = {0:'Very Negative', 1:'Negative', 2:'Neutral', 3:'Positive', 4:'Very Positive'}\n",
        "incorrectly_classified_texts=test_incorrect[:10]\n",
        "print(\"=\"*40)\n",
        "print(\"***** incorrectly Classified Text: *******\")\n",
        "print(\"=\"*40)\n",
        "for i, (index, row) in enumerate(incorrectly_classified_texts.iterrows()):\n",
        "  print(f\"{i+1}) Text: {row['sentence']}\")\n",
        "  print(f\"   Target Sentiment: {SentimentClass[row['label']]}\")\n",
        "  print(f\"   Predicted Sentiment: {SentimentClass[row['pred_label']]}\")\n",
        "  print()"
      ],
      "execution_count": 95,
      "outputs": [
        {
          "output_type": "stream",
          "text": [
            "========================================\n",
            "***** incorrectly Classified Text: *******\n",
            "========================================\n",
            "1) Text: Effective but too-tepid biopic\n",
            "   Target Sentiment: Neutral\n",
            "   Predicted Sentiment: Negative\n",
            "\n",
            "2) Text: If you sometimes like to go to the movies to have fun , Wasabi is a good place to start .\n",
            "   Target Sentiment: Positive\n",
            "   Predicted Sentiment: Very Negative\n",
            "\n",
            "3) Text: Emerges as something rare , an issue movie that 's so honest and keenly observed that it does n't feel like one .\n",
            "   Target Sentiment: Very Positive\n",
            "   Predicted Sentiment: Very Negative\n",
            "\n",
            "4) Text: The film provides some great insight into the neurotic mindset of all comics -- even those who have reached the absolute top of the game .\n",
            "   Target Sentiment: Neutral\n",
            "   Predicted Sentiment: Very Negative\n",
            "\n",
            "5) Text: Offers that rare combination of entertainment and education .\n",
            "   Target Sentiment: Very Positive\n",
            "   Predicted Sentiment: Positive\n",
            "\n",
            "6) Text: Perhaps no picture ever made has more literally showed that the road to hell is paved with good intentions .\n",
            "   Target Sentiment: Positive\n",
            "   Predicted Sentiment: Very Negative\n",
            "\n",
            "7) Text: Steers turns in a snappy screenplay that curls at the edges ; it 's so clever you want to hate it .\n",
            "   Target Sentiment: Positive\n",
            "   Predicted Sentiment: Very Negative\n",
            "\n",
            "8) Text: But he somehow pulls it off .\n",
            "   Target Sentiment: Positive\n",
            "   Predicted Sentiment: Neutral\n",
            "\n",
            "9) Text: This is a film well worth seeing , talking and singing heads and all .\n",
            "   Target Sentiment: Very Positive\n",
            "   Predicted Sentiment: Positive\n",
            "\n",
            "10) Text: What really surprises about Wisegirls is its low-key quality and genuine tenderness .\n",
            "   Target Sentiment: Positive\n",
            "   Predicted Sentiment: Very Negative\n",
            "\n"
          ],
          "name": "stdout"
        }
      ]
    },
    {
      "cell_type": "code",
      "metadata": {
        "id": "Pz7JQztWZUqG"
      },
      "source": [
        ""
      ],
      "execution_count": 95,
      "outputs": []
    }
  ]
}